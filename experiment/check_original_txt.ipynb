{
 "cells": [
  {
   "cell_type": "markdown",
   "metadata": {},
   "source": [
    "# original.txtの中身を調べる"
   ]
  },
  {
   "cell_type": "markdown",
   "metadata": {},
   "source": [
    "* すでに表記ゆれはある程度前処理されている\n",
    "* original.txtからデータセットを作成する方法はいくつかある\n",
    "* capoの方は、半音下げ(-1) ~ capo5(-5)までが大半を占めているので、6と7は削除でよさそう\n",
    "* chordの方はいろいろある。低頻度のコードを削除する、何らかのコードで置き換えるなど\n",
    "* とりあえず削除する方向で"
   ]
  },
  {
   "cell_type": "code",
   "execution_count": 2,
   "metadata": {},
   "outputs": [],
   "source": [
    "from pathlib import Path"
   ]
  },
  {
   "cell_type": "code",
   "execution_count": 3,
   "metadata": {},
   "outputs": [],
   "source": [
    "orignal_path=Path(\"../data/original.txt\")"
   ]
  },
  {
   "cell_type": "code",
   "execution_count": 4,
   "metadata": {},
   "outputs": [],
   "source": [
    "def get_song_list(original_path):\n",
    "    with orignal_path.open(\"r\") as f:\n",
    "        songs = f.readlines()\n",
    "    result=[]\n",
    "    for song in songs:\n",
    "        song=song.rstrip('\\n')\n",
    "        divided=song.split(\" \")\n",
    "        song_dic={\"chords\":divided[:-1],\"rec_capo\":divided[-1]}\n",
    "        result.append(song_dic)\n",
    "    return result\n",
    "\n",
    "def remove_rare_capo_song(songs):\n",
    "    \"\"\"-6,-7はほとんどないので除去する.\"\"\"\n",
    "    removed=[]\n",
    "    for song in songs:\n",
    "        if song[\"rec_capo\"] not in ['-6','-7']:\n",
    "            removed.append(song)\n",
    "    return removed\n",
    "\n",
    "\n",
    "from sklearn.model_selection import train_test_split\n",
    "\n",
    "def split_dataset(songs,val_rate, test_rate,seed=None):\n",
    "    songs_train_val,songs_test= train_test_split(songs,test_size=test_rate,random_state=seed)\n",
    "    songs_train,songs_val= train_test_split(songs,test_size=val_rate,random_state=seed)\n",
    "    return songs_train,songs_val,songs_test"
   ]
  },
  {
   "cell_type": "code",
   "execution_count": 5,
   "metadata": {},
   "outputs": [],
   "source": [
    "from collections import Counter\n",
    "\n",
    "def retrieve_chord_stat(songs):\n",
    "    chord_dict = Counter()\n",
    "    for song in songs:\n",
    "        for chord in song[\"chords\"]: \n",
    "            chord_dict[chord]+=1\n",
    "    return chord_dict\n",
    "\n",
    "def retrieve_capo_stat(songs):\n",
    "    capo_dict =  Counter()\n",
    "    for song in songs:\n",
    "        capo_dict[song[\"rec_capo\"]]+=1\n",
    "    return capo_dict"
   ]
  },
  {
   "cell_type": "code",
   "execution_count": 6,
   "metadata": {},
   "outputs": [],
   "source": [
    "songs=get_song_list(orignal_path)\n",
    "songs=remove_rare_capo_song(songs)\n",
    "songs_train, songs_valid, songs_test=split_dataset(songs,0.1,0.2)"
   ]
  },
  {
   "cell_type": "code",
   "execution_count": 7,
   "metadata": {},
   "outputs": [],
   "source": [
    "chord_stat=retrieve_chord_stat(songs_train)\n",
    "capo_stat=retrieve_capo_stat(songs_train)"
   ]
  },
  {
   "cell_type": "markdown",
   "metadata": {},
   "source": [
    "## chordの出現頻度調査\n",
    "* 低頻度chordはparseミスとかも含むので除去したい\n",
    "* 5回以下しか出現しない約140個のコードを対象？"
   ]
  },
  {
   "cell_type": "code",
   "execution_count": 8,
   "metadata": {},
   "outputs": [
    {
     "name": "stdout",
     "output_type": "stream",
     "text": [
      "Total chords :847\n"
     ]
    },
    {
     "name": "stderr",
     "output_type": "stream",
     "text": [
      "/Users/hikaru_ogura/.pyenv/versions/anaconda3-5.1.0/lib/python3.6/site-packages/matplotlib/figure.py:418: UserWarning: matplotlib is currently using a non-GUI backend, so cannot show the figure\n",
      "  \"matplotlib is currently using a non-GUI backend, \"\n"
     ]
    }
   ],
   "source": [
    "import numpy as np\n",
    "import matplotlib.pyplot as plt\n",
    "\n",
    "print(f\"Total chords :{len(chord_stat.keys())}\")\n",
    "\n",
    "fig = plt.figure()\n",
    "ax = fig.add_subplot(1,1,1)\n",
    "edges = range(0,100,5)\n",
    "ax.hist(list(chord_stat.values()), bins=edges)\n",
    "ax.set_title('histogram of chord')\n",
    "ax.set_xlabel('frequency')\n",
    "ax.set_ylabel('the number of chords')\n",
    "fig.show()"
   ]
  },
  {
   "cell_type": "code",
   "execution_count": 49,
   "metadata": {},
   "outputs": [],
   "source": [
    "def tokenize_rare_chord(chords_list,onehot_dict,token):\n",
    "    result=[]\n",
    "    for chords in chords_list:\n",
    "        result_inner=[]\n",
    "        for i,chord in enumerate(chords):\n",
    "            if chord not in onehot_dict.keys():\n",
    "                result_inner.append(token)\n",
    "            else:\n",
    "                result_inner.append(chord)\n",
    "        result.append(result_inner)\n",
    "    return result\n",
    "\n",
    "def get_onehot_dict(chord_stat,threshold,token):\n",
    "    onehot_dict={}\n",
    "    i=0\n",
    "    for chord,freq in chord_stat.items():\n",
    "        if freq>threshold:\n",
    "            onehot_dict[chord]=i\n",
    "            i+=1\n",
    "    onehot_dict[token]=i\n",
    "    return onehot_dict  \n",
    "\n",
    "def count_and_normalize_chord_features(tokenized,onehot_dict):\n",
    "    X=[]\n",
    "    features_num=len(onehot_dict)\n",
    "    for chords in tokenized:\n",
    "        x=[0]*features_num\n",
    "        for chord in chords:\n",
    "            x[onehot_dict[chord]]+=1\n",
    "        x=np.array(x)\n",
    "        X.append(x/sum(x))\n",
    "    return np.array(X)\n",
    "\n",
    "def get_chord_features(songs,onehot_dict=None,threshold=5,token=\"<UNK>\"):\n",
    "    \"\"\"train : onehot_dictがNone. valid or test : onehot_dictを与える.\"\"\"\n",
    "    chords_list=[song[\"chords\"] for song in songs]\n",
    "    if onehot_dict is None:\n",
    "        chord_stat=retrieve_chord_stat(songs)\n",
    "        onehot_dict=get_onehot_dict(chord_stat,threshold,token)\n",
    "    tokenized=tokenize_rare_chord(chords_list,onehot_dict,token)\n",
    "    X=count_and_normalize_chord_features(tokenized,onehot_dict)\n",
    "    return X, onehot_dict\n"
   ]
  },
  {
   "cell_type": "code",
   "execution_count": 50,
   "metadata": {},
   "outputs": [],
   "source": [
    "chord_features_train, onehot_dict=get_chord_features(songs_train)\n",
    "chord_features_valid, _ =get_chord_features(songs_valid,onehot_dict)\n",
    "chord_features_test, _ =get_chord_features(songs_test,onehot_dict)"
   ]
  },
  {
   "cell_type": "code",
   "execution_count": 51,
   "metadata": {},
   "outputs": [
    {
     "data": {
      "text/plain": [
       "((35995, 684), (4000, 684), (7999, 684))"
      ]
     },
     "execution_count": 51,
     "metadata": {},
     "output_type": "execute_result"
    }
   ],
   "source": [
    "chord_features_train.shape,chord_features_valid.shape,chord_features_test.shape"
   ]
  },
  {
   "cell_type": "code",
   "execution_count": 72,
   "metadata": {},
   "outputs": [],
   "source": [
    "expanded_chord_features_train=chord_features_train.repeat(7,axis=0)\n",
    "expanded_chord_features_valid = chord_features_valid.repeat(7,axis=0)\n",
    "expanded_chord_features_test = chord_features_test.repeat(7,axis=0)"
   ]
  },
  {
   "cell_type": "code",
   "execution_count": 157,
   "metadata": {},
   "outputs": [],
   "source": [
    "def duplicate_capos(n,dupulication_capo_order=np.array(['1','0','-1','-2','-3','-4','-5'])):\n",
    "    \"\"\"n回dupulication_capo_orderを繰り返す.\"\"\"\n",
    "    return np.tile(dupulication_capo_order,n)\n",
    "\n",
    "from sklearn.preprocessing import LabelBinarizer\n",
    "\n",
    "def capo_onehot_encode(capo):\n",
    "    \"\"\"文字列のcapoをonehot encoding\"\"\"\n",
    "    binarizer=LabelBinarizer()\n",
    "    binarized=binarizer.fit_transform(capo)\n",
    "    return binarized, binarizer\n",
    "\n",
    "def create_compares(songs,dupulication_capo_order=np.array(['1','0','-1','-2','-3','-4','-5'])):\n",
    "    compares=[]\n",
    "    for i, song in enumerate(songs_train):\n",
    "        rec=song[\"rec_capo\"]\n",
    "        pos_j=int(np.where(dupulication_capo_order==rec)[0])\n",
    "        for j in range(7):\n",
    "            if j != pos_j:\n",
    "                compares.append([7*i + pos_j, 7*i + j])\n",
    "    return np.array(compares)"
   ]
  },
  {
   "cell_type": "code",
   "execution_count": 158,
   "metadata": {},
   "outputs": [],
   "source": [
    "compares=create_compares(songs_train)"
   ]
  },
  {
   "cell_type": "code",
   "execution_count": 159,
   "metadata": {},
   "outputs": [],
   "source": [
    "duplicated_capos_train=duplicate_capos(len(songs_train))\n",
    "duplicated_capos_valid = duplicate_capos(len(songs_valid))\n",
    "duplicated_capos_test = duplicate_capos(len(songs_test))\n",
    "capo_features_train,capo_encoder = capo_onehot_encode(duplicated_capos_train)\n",
    "capo_features_valid = capo_encoder.transform(duplicated_capos_valid)\n",
    "capo_features_test = capo_encoder.transform(duplicated_capos_test)"
   ]
  },
  {
   "cell_type": "code",
   "execution_count": 160,
   "metadata": {},
   "outputs": [],
   "source": [
    "X_train=np.concatenate([expanded_chord_features_train, capo_features_train], 1)\n",
    "X_valid = np.concatenate([expanded_chord_features_valid, capo_features_valid], 1)\n",
    "X_test = np.concatenate([expanded_chord_features_test, capo_features_test], 1)"
   ]
  },
  {
   "cell_type": "code",
   "execution_count": 161,
   "metadata": {},
   "outputs": [
    {
     "data": {
      "text/plain": [
       "((251965, 691), (28000, 691), (55993, 691))"
      ]
     },
     "execution_count": 161,
     "metadata": {},
     "output_type": "execute_result"
    }
   ],
   "source": [
    "X_train.shape, X_valid.shape, X_test.shape"
   ]
  },
  {
   "cell_type": "code",
   "execution_count": 162,
   "metadata": {},
   "outputs": [],
   "source": [
    "from scipy import sparse\n",
    "X_train_sp=sparse.csr_matrix(X_train)\n",
    "X_valid_sp=sparse.csr_matrix(X_valid)\n",
    "X_test_sp=sparse.csr_matrix(X_test)"
   ]
  },
  {
   "cell_type": "code",
   "execution_count": 287,
   "metadata": {},
   "outputs": [],
   "source": [
    "def predict_ranking(X,model):\n",
    "    pred=model.predict(X)\n",
    "    reshaped=np.reshape(pred,(-1,7))\n",
    "    results=[]\n",
    "    for i in range(len(reshaped)):\n",
    "        results.append(return_sorted_capo(reshaped[i]))\n",
    "    return results\n",
    "\n",
    "def predict_top1(X,model):\n",
    "    rankings=predict_ranking(X,model)\n",
    "    return np.array([ranking[0] for ranking in rankings]) \n",
    "\n",
    "from sklearn.metrics import accuracy_score\n",
    "\n",
    "def evaluate_top1(X,model,y):\n",
    "    pred=predict_top1(X,model)\n",
    "    return accuracy_score(y, pred)\n",
    "\n",
    "def return_sorted_capo(pred,dupulication_capo_order=np.array(['1','0','-1','-2','-3','-4','-5'])):\n",
    "    index = [0]*7\n",
    "    for j, rank in enumerate(np.argsort(pred[::-1])):\n",
    "        index[rank] = j\n",
    "    return dupulication_capo_order[index] "
   ]
  },
  {
   "cell_type": "code",
   "execution_count": 300,
   "metadata": {},
   "outputs": [
    {
     "data": {
      "text/plain": [
       "FMRecommender(init_stdev=0.1, l2_reg=None, l2_reg_V=0.1, l2_reg_w=0.1,\n",
       "       n_iter=5, random_state=123, rank=8, step_size=0.1)"
      ]
     },
     "execution_count": 300,
     "metadata": {},
     "output_type": "execute_result"
    }
   ],
   "source": [
    "from fastFM import bpr\n",
    "model=bpr.FMRecommender(n_iter=5)\n",
    "model.fit(X_train_sp,compares)"
   ]
  },
  {
   "cell_type": "code",
   "execution_count": 301,
   "metadata": {},
   "outputs": [
    {
     "data": {
      "text/plain": [
       "0.12275"
      ]
     },
     "execution_count": 301,
     "metadata": {},
     "output_type": "execute_result"
    }
   ],
   "source": [
    "rec_capo_valid= np.array([song[\"rec_capo\"] for song in songs_valid])\n",
    "ranking=predict_ranking(X_valid_sp,model)\n",
    "top1= predict_top1(X_valid_sp,model)\n",
    "evaluate_top1(X_valid_sp,model,rec_capo_valid)"
   ]
  },
  {
   "cell_type": "code",
   "execution_count": 302,
   "metadata": {},
   "outputs": [
    {
     "data": {
      "text/plain": [
       "[array(['-1', '0', '-3', '1', '-4', '-5', '-2'], dtype='<U2'),\n",
       " array(['-1', '0', '-2', '1', '-4', '-5', '-3'], dtype='<U2'),\n",
       " array(['-1', '0', '-2', '1', '-4', '-5', '-3'], dtype='<U2'),\n",
       " array(['-1', '0', '-3', '1', '-4', '-5', '-2'], dtype='<U2'),\n",
       " array(['-1', '0', '-3', '1', '-4', '-5', '-2'], dtype='<U2'),\n",
       " array(['-1', '0', '-3', '1', '-4', '-5', '-2'], dtype='<U2'),\n",
       " array(['-1', '0', '-3', '1', '-4', '-5', '-2'], dtype='<U2'),\n",
       " array(['-1', '0', '-3', '1', '-4', '-5', '-2'], dtype='<U2'),\n",
       " array(['-1', '0', '-3', '1', '-4', '-5', '-2'], dtype='<U2'),\n",
       " array(['-1', '0', '-3', '1', '-4', '-5', '-2'], dtype='<U2')]"
      ]
     },
     "execution_count": 302,
     "metadata": {},
     "output_type": "execute_result"
    }
   ],
   "source": [
    "ranking[:10]"
   ]
  },
  {
   "cell_type": "code",
   "execution_count": 285,
   "metadata": {},
   "outputs": [],
   "source": [
    "embeddings=model.V_.T"
   ]
  },
  {
   "cell_type": "code",
   "execution_count": 211,
   "metadata": {},
   "outputs": [],
   "source": [
    "capo_embeddings = embeddings[-7:]"
   ]
  },
  {
   "cell_type": "code",
   "execution_count": 212,
   "metadata": {},
   "outputs": [
    {
     "data": {
      "text/plain": [
       "array([[ 5.72525806e-03, -4.63672084e-03, -6.88011226e-03,\n",
       "        -1.75563180e-03, -1.25372914e-03, -4.55639374e-04,\n",
       "        -3.29538733e-03,  5.54391736e-04,  3.53605203e-03,\n",
       "        -2.42420640e-04,  1.98761894e-03,  6.44847856e-03,\n",
       "        -1.98238362e-03, -1.60657734e-03,  2.69696275e-03,\n",
       "         2.36151007e-03],\n",
       "       [-7.32288343e-04, -1.55619940e-03, -2.95632501e-03,\n",
       "        -4.84173474e-03,  2.27155596e-03,  1.42498222e-03,\n",
       "        -1.10259453e-03,  9.05069140e-03, -3.04951741e-03,\n",
       "         3.52328179e-03, -1.98937473e-03,  4.07732600e-03,\n",
       "        -2.46283984e-03,  1.31779657e-03, -2.71511166e-03,\n",
       "         5.70236407e-03],\n",
       "       [ 4.47649548e-04,  2.38963465e-03, -2.00120426e-03,\n",
       "         4.29996936e-03, -3.98560498e-04, -1.46546104e-03,\n",
       "        -1.67172774e-05, -3.61926042e-03,  2.93326806e-03,\n",
       "        -8.49353556e-03, -4.12336400e-03,  3.41224637e-04,\n",
       "        -1.64173146e-03,  1.72502655e-03, -1.25412440e-03,\n",
       "        -2.84437442e-03],\n",
       "       [-1.61690701e-03,  8.90677568e-05, -1.10605122e-03,\n",
       "        -2.84232650e-03,  2.08098783e-03,  1.91626107e-04,\n",
       "         3.99721012e-03, -1.71932697e-03, -3.47727291e-04,\n",
       "         1.97118748e-03, -9.07056161e-04, -2.74944449e-03,\n",
       "         3.69034942e-03, -2.91476886e-03, -1.11601212e-03,\n",
       "        -2.94272894e-04],\n",
       "       [ 3.67606133e-04,  2.04014089e-03,  1.30498643e-03,\n",
       "         3.42757103e-04,  1.55922304e-03, -2.96703142e-03,\n",
       "         2.12743595e-03, -8.10314242e-04,  2.10690631e-03,\n",
       "         1.50457470e-03, -8.61048492e-04, -2.02679682e-03,\n",
       "        -3.47899142e-04, -2.83718776e-04, -3.89149214e-03,\n",
       "        -3.64140103e-03],\n",
       "       [-1.99740544e-03,  3.05010220e-03,  8.00680192e-03,\n",
       "         3.29913294e-03, -2.70475383e-03,  1.04986393e-03,\n",
       "        -2.01060755e-03, -2.26563199e-03, -2.81494568e-03,\n",
       "         7.03964947e-04,  3.53334448e-03, -3.63344099e-03,\n",
       "         1.28289247e-03,  1.06414538e-03,  4.39393264e-03,\n",
       "        -2.26933788e-03],\n",
       "       [-7.99397267e-04, -2.50490856e-03, -3.77703937e-04,\n",
       "         8.28828176e-05,  1.09520404e-03, -1.99542097e-04,\n",
       "         2.46206661e-03, -5.29051969e-05, -9.51272408e-04,\n",
       "         1.13878344e-03, -2.96096986e-04, -7.75281622e-04,\n",
       "         1.35682517e-03, -1.26811244e-03, -1.48310373e-03,\n",
       "         3.86864574e-04]])"
      ]
     },
     "execution_count": 212,
     "metadata": {},
     "output_type": "execute_result"
    }
   ],
   "source": [
    "capo_embeddings"
   ]
  },
  {
   "cell_type": "code",
   "execution_count": null,
   "metadata": {},
   "outputs": [],
   "source": []
  }
 ],
 "metadata": {
  "kernelspec": {
   "display_name": "Python 3",
   "language": "python",
   "name": "python3"
  },
  "language_info": {
   "codemirror_mode": {
    "name": "ipython",
    "version": 3
   },
   "file_extension": ".py",
   "mimetype": "text/x-python",
   "name": "python",
   "nbconvert_exporter": "python",
   "pygments_lexer": "ipython3",
   "version": "3.6.4"
  }
 },
 "nbformat": 4,
 "nbformat_minor": 2
}
