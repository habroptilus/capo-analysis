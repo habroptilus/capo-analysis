{
 "cells": [
  {
   "cell_type": "markdown",
   "metadata": {},
   "source": [
    "# original.txtの中身を調べる"
   ]
  },
  {
   "cell_type": "markdown",
   "metadata": {},
   "source": [
    "* すでに表記ゆれはある程度前処理されている\n",
    "* original.txtからデータセットを作成する方法はいくつかある\n",
    "* capoの方は、半音下げ(-1) ~ capo5(-5)までが大半を占めているので、6と7は削除でよさそう\n",
    "* chordの方はいろいろある。低頻度のコードを削除する、何らかのコードで置き換えるなど\n",
    "* とりあえず削除する方向で"
   ]
  },
  {
   "cell_type": "code",
   "execution_count": 1,
   "metadata": {},
   "outputs": [],
   "source": [
    "from pathlib import Path\n",
    "import sys,os\n",
    "sys.path.append(os.pardir)\n",
    "from tools.preprocess.common import CommonPreprocessor"
   ]
  },
  {
   "cell_type": "code",
   "execution_count": 2,
   "metadata": {},
   "outputs": [],
   "source": [
    "orignal_path=Path(\"../data/preprocessed_50k.txt\")"
   ]
  },
  {
   "cell_type": "code",
   "execution_count": 14,
   "metadata": {},
   "outputs": [],
   "source": [
    "cp=CommonPreprocessor(rare_capo_list=['6capo', '7capo'],test_rate=0.2,split_seed=0)\n",
    "songs=cp.get_song_list(orignal_path,shuffle=False)\n",
    "songs=cp.remove_rare_capo_song(songs)\n",
    "songs_train, songs_test=cp.split_dataset(songs,shuffle=False)"
   ]
  },
  {
   "cell_type": "code",
   "execution_count": 15,
   "metadata": {},
   "outputs": [
    {
     "data": {
      "text/plain": [
       "{'chords': ['A',\n",
       "  'E',\n",
       "  'F#m',\n",
       "  'D',\n",
       "  'A',\n",
       "  'E',\n",
       "  'F#m',\n",
       "  'D',\n",
       "  'A',\n",
       "  'E',\n",
       "  'F#m',\n",
       "  'D',\n",
       "  'A',\n",
       "  'E',\n",
       "  'F#m',\n",
       "  'D',\n",
       "  'A',\n",
       "  'E',\n",
       "  'F#m',\n",
       "  'D',\n",
       "  'A',\n",
       "  'E',\n",
       "  'F#m',\n",
       "  'D',\n",
       "  'A',\n",
       "  'E',\n",
       "  'F#m',\n",
       "  'D',\n",
       "  'A',\n",
       "  'E',\n",
       "  'F#m',\n",
       "  'Dadd9',\n",
       "  'D',\n",
       "  'E',\n",
       "  'F#m',\n",
       "  'C#m',\n",
       "  'D',\n",
       "  'E',\n",
       "  'A',\n",
       "  'D',\n",
       "  'E',\n",
       "  'F#m',\n",
       "  'C#m',\n",
       "  'D',\n",
       "  'E',\n",
       "  'A',\n",
       "  'A',\n",
       "  'E',\n",
       "  'F#m',\n",
       "  'D',\n",
       "  'A',\n",
       "  'E',\n",
       "  'F#m',\n",
       "  'D',\n",
       "  'A',\n",
       "  'E',\n",
       "  'F#m',\n",
       "  'D',\n",
       "  'A',\n",
       "  'E',\n",
       "  'F#m',\n",
       "  'Dadd9',\n",
       "  'D',\n",
       "  'E',\n",
       "  'F#m',\n",
       "  'C#m',\n",
       "  'D',\n",
       "  'E',\n",
       "  'A',\n",
       "  'D',\n",
       "  'E',\n",
       "  'F#m',\n",
       "  'C#m',\n",
       "  'D',\n",
       "  'E',\n",
       "  'A',\n",
       "  'Bm7',\n",
       "  'Amaj7',\n",
       "  'Bm7',\n",
       "  'Amaj7',\n",
       "  'Bm7',\n",
       "  'Amaj7',\n",
       "  'Dmaj7',\n",
       "  'E6',\n",
       "  'D',\n",
       "  'E',\n",
       "  'F#m',\n",
       "  'C#m',\n",
       "  'D',\n",
       "  'E',\n",
       "  'A',\n",
       "  'D',\n",
       "  'E',\n",
       "  'F#m',\n",
       "  'C#m',\n",
       "  'D',\n",
       "  'E',\n",
       "  'A',\n",
       "  'D',\n",
       "  'E',\n",
       "  'F#m',\n",
       "  'C#m',\n",
       "  'D',\n",
       "  'E',\n",
       "  'A',\n",
       "  'D',\n",
       "  'E',\n",
       "  'F#m',\n",
       "  'C#m',\n",
       "  'D',\n",
       "  'E',\n",
       "  'A',\n",
       "  'D',\n",
       "  'E',\n",
       "  'Dmaj7'],\n",
       " 'rec_capo': 'capo2'}"
      ]
     },
     "execution_count": 15,
     "metadata": {},
     "output_type": "execute_result"
    }
   ],
   "source": [
    "songs_train[0]"
   ]
  },
  {
   "cell_type": "code",
   "execution_count": 16,
   "metadata": {},
   "outputs": [],
   "source": [
    "chord_stat=cp.retrieve_chord_stat(songs_train)\n",
    "capo_stat=cp.retrieve_capo_stat(songs_train)"
   ]
  },
  {
   "cell_type": "code",
   "execution_count": null,
   "metadata": {},
   "outputs": [],
   "source": []
  },
  {
   "cell_type": "code",
   "execution_count": 18,
   "metadata": {},
   "outputs": [
    {
     "data": {
      "text/plain": [
       "Counter({'capo0': 15987,\n",
       "         'capo1': 5044,\n",
       "         'capo2': 6411,\n",
       "         'capo3': 5174,\n",
       "         'capo4': 3845,\n",
       "         'capo5': 2219,\n",
       "         'capo6': 2,\n",
       "         'capo7': 3,\n",
       "         'half_down': 1224})"
      ]
     },
     "execution_count": 18,
     "metadata": {},
     "output_type": "execute_result"
    }
   ],
   "source": [
    "capo_stat"
   ]
  },
  {
   "cell_type": "markdown",
   "metadata": {},
   "source": [
    "## chordの出現頻度調査\n",
    "* 低頻度chordはparseミスとかも含むので除去したい\n",
    "* 5回以下しか出現しない約140個のコードを対象？"
   ]
  },
  {
   "cell_type": "code",
   "execution_count": 17,
   "metadata": {},
   "outputs": [
    {
     "name": "stdout",
     "output_type": "stream",
     "text": [
      "Total chords :863\n"
     ]
    },
    {
     "name": "stderr",
     "output_type": "stream",
     "text": [
      "/Users/hikaru_ogura/.pyenv/versions/anaconda3-5.1.0/lib/python3.6/site-packages/matplotlib/figure.py:418: UserWarning: matplotlib is currently using a non-GUI backend, so cannot show the figure\n",
      "  \"matplotlib is currently using a non-GUI backend, \"\n"
     ]
    },
    {
     "data": {
      "image/png": "[encoded data removed]",
      "text/plain": [
       "<matplotlib.figure.Figure at 0x126da1908>"
      ]
     },
     "metadata": {},
     "output_type": "display_data"
    }
   ],
   "source": [
    "import numpy as np\n",
    "import matplotlib.pyplot as plt\n",
    "\n",
    "print(f\"Total chords :{len(chord_stat.keys())}\")\n",
    "\n",
    "fig = plt.figure()\n",
    "ax = fig.add_subplot(1,1,1)\n",
    "edges = range(0,100,5)\n",
    "ax.hist(list(chord_stat.values()), bins=edges)\n",
    "ax.set_title('histogram of chord')\n",
    "ax.set_xlabel('frequency')\n",
    "ax.set_ylabel('the number of chords')\n",
    "fig.show()"
   ]
  },
  {
   "cell_type": "code",
   "execution_count": null,
   "metadata": {},
   "outputs": [],
   "source": []
  },
  {
   "cell_type": "code",
   "execution_count": null,
   "metadata": {},
   "outputs": [],
   "source": []
  }
 ],
 "metadata": {
  "kernelspec": {
   "display_name": "Python 3",
   "language": "python",
   "name": "python3"
  },
  "language_info": {
   "codemirror_mode": {
    "name": "ipython",
    "version": 3
   },
   "file_extension": ".py",
   "mimetype": "text/x-python",
   "name": "python",
   "nbconvert_exporter": "python",
   "pygments_lexer": "ipython3",
   "version": "3.6.7"
  }
 },
 "nbformat": 4,
 "nbformat_minor": 2
}
