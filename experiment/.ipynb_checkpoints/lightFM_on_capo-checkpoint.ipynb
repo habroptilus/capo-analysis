{
 "cells": [
  {
   "cell_type": "markdown",
   "metadata": {},
   "source": [
    "# capoデータにlightFMを適用してみる"
   ]
  },
  {
   "cell_type": "code",
   "execution_count": 1,
   "metadata": {},
   "outputs": [],
   "source": [
    "from pathlib import Path\n",
    "import sys,os\n",
    "sys.path.append(os.pardir)\n",
    "from tools.preprocess.common import CommonPreprocessor\n",
    "from tools.preprocess.interaction_matrix_generator import InteractionMatrixGenerator\n",
    "from tools.preprocess.bow_vectorizer import BOWVectorizer\n",
    "from scipy.sparse import csr_matrix"
   ]
  },
  {
   "cell_type": "markdown",
   "metadata": {},
   "source": [
    "## data部分"
   ]
  },
  {
   "cell_type": "code",
   "execution_count": 2,
   "metadata": {},
   "outputs": [],
   "source": [
    "orignal_path=Path(\"../data/original.txt\")"
   ]
  },
  {
   "cell_type": "code",
   "execution_count": 3,
   "metadata": {},
   "outputs": [],
   "source": [
    "cp=CommonPreprocessor(rare_capo_list=['-6', '-7'],test_rate=0.2,split_seed=0)\n",
    "songs=cp.get_song_list(orignal_path,shuffle=True)\n",
    "songs=cp.remove_rare_capo_song(songs)\n",
    "songs_train, songs_test=cp.split_dataset(songs,shuffle=False)"
   ]
  },
  {
   "cell_type": "code",
   "execution_count": 4,
   "metadata": {},
   "outputs": [],
   "source": [
    "generator=InteractionMatrixGenerator(test_rate=0.1)\n",
    "X_train,X_test=generator.generate_matrices(songs)\n",
    "X_train=csr_matrix(X_train)\n",
    "X_test=csr_matrix(X_test)"
   ]
  },
  {
   "cell_type": "code",
   "execution_count": 5,
   "metadata": {},
   "outputs": [],
   "source": [
    "chord_stat_train=cp.retrieve_chord_stat(songs_train)\n",
    "capo_stat_train=cp.retrieve_capo_stat(songs_train)"
   ]
  },
  {
   "cell_type": "code",
   "execution_count": 6,
   "metadata": {},
   "outputs": [],
   "source": [
    "vectorizer=BOWVectorizer(chord_stat=chord_stat_train,threshold=10000)"
   ]
  },
  {
   "cell_type": "code",
   "execution_count": 7,
   "metadata": {},
   "outputs": [
    {
     "name": "stdout",
     "output_type": "stream",
     "text": [
      "(39995, 60)\n"
     ]
    }
   ],
   "source": [
    "songs_features=vectorizer.get_chord_features(songs)\n",
    "print(songs_features.shape)\n",
    "songs_features=csr_matrix(songs_features)"
   ]
  },
  {
   "cell_type": "markdown",
   "metadata": {},
   "source": [
    "## model部分"
   ]
  },
  {
   "cell_type": "code",
   "execution_count": 9,
   "metadata": {},
   "outputs": [
    {
     "name": "stderr",
     "output_type": "stream",
     "text": [
      "/Users/hikaru_ogura/.pyenv/versions/anaconda3-5.1.0/lib/python3.6/site-packages/lightfm/_lightfm_fast.py:9: UserWarning: LightFM was compiled without OpenMP support. Only a single thread will be used.\n",
      "  warnings.warn('LightFM was compiled without OpenMP support. '\n"
     ]
    }
   ],
   "source": [
    "from lightfm import LightFM\n",
    "from lightfm.datasets import fetch_movielens\n",
    "from lightfm.evaluation import precision_at_k\n",
    "from lightfm.evaluation import auc_score"
   ]
  },
  {
   "cell_type": "code",
   "execution_count": 10,
   "metadata": {},
   "outputs": [],
   "source": [
    "import numpy as np\n",
    "def get_prediction(model,n_songs):\n",
    "    prediction=[]\n",
    "    for i in range(n_songs):\n",
    "        prediction.append(model.predict(user_ids=i,item_ids=[0,1,2,3,4,5,6]))\n",
    "    return np.array(prediction)"
   ]
  },
  {
   "cell_type": "code",
   "execution_count": 36,
   "metadata": {},
   "outputs": [],
   "source": [
    "embedding_dim=2\n",
    "lr=0.01\n",
    "epoch=100\n",
    "k=2"
   ]
  },
  {
   "cell_type": "code",
   "execution_count": 37,
   "metadata": {},
   "outputs": [
    {
     "name": "stdout",
     "output_type": "stream",
     "text": [
      "Precision`@2: train 0.33, test 0.27.\n",
      "AUC: train 0.80, test 0.71.\n"
     ]
    }
   ],
   "source": [
    "warp_model = LightFM(no_components=embedding_dim,learning_rate=lr, loss=\"warp\")\n",
    "warp_model.fit(X_train,item_features=songs_features, epochs=epoch)\n",
    "\n",
    "train_precision = precision_at_k(warp_model, X_train,item_features=songs_features, k=k).mean()\n",
    "test_precision = precision_at_k(warp_model, X_test,item_features=songs_features, k=k).mean()\n",
    "\n",
    "train_auc = auc_score(warp_model, X_train, item_features=songs_features).mean()\n",
    "test_auc = auc_score(warp_model, X_test, item_features=songs_features).mean()\n",
    "\n",
    "print(f\"Precision`@{k}: train {train_precision:.2f}, test {test_precision:.2f}.\")\n",
    "print(f\"AUC: train {train_auc:.2f}, test {test_auc:.2f}.\")"
   ]
  },
  {
   "cell_type": "code",
   "execution_count": 38,
   "metadata": {},
   "outputs": [
    {
     "name": "stdout",
     "output_type": "stream",
     "text": [
      "Precision`@2: train 0.07, test 0.06.\n",
      "AUC: train 0.40, test 0.40.\n"
     ]
    }
   ],
   "source": [
    "from tools.model.baseline import BaselineModel\n",
    "baseline_model=BaselineModel(generator,capo_stat_train)\n",
    "\n",
    "train_precision = precision_at_k(baseline_model, X_train,item_features=songs_features, k=k).mean()\n",
    "test_precision = precision_at_k(baseline_model, X_test,item_features=songs_features, k=k).mean()\n",
    "\n",
    "train_auc = auc_score(baseline_model, X_train, item_features=songs_features).mean()\n",
    "test_auc = auc_score(baseline_model, X_test, item_features=songs_features).mean()\n",
    "\n",
    "print(f\"Precision`@{k}: train {train_precision:.2f}, test {test_precision:.2f}.\")\n",
    "print(f\"AUC: train {train_auc:.2f}, test {test_auc:.2f}.\")"
   ]
  },
  {
   "cell_type": "code",
   "execution_count": 41,
   "metadata": {},
   "outputs": [],
   "source": [
    "def get_chord_embeddings(model,vectorizer):\n",
    "    chord_embeddings={}\n",
    "    for chord, idx in vectorizer.chord_encoder.items():\n",
    "        chord_embeddings[chord]=model.item_embeddings[idx]\n",
    "    return chord_embeddings"
   ]
  },
  {
   "cell_type": "code",
   "execution_count": 42,
   "metadata": {},
   "outputs": [],
   "source": [
    "chord_embeddings=get_chord_embeddings(warp_model,vectorizer)"
   ]
  },
  {
   "cell_type": "code",
   "execution_count": 44,
   "metadata": {},
   "outputs": [
    {
     "data": {
      "text/plain": [
       "array([ 0.00163296, -0.4970123 ], dtype=float32)"
      ]
     },
     "execution_count": 44,
     "metadata": {},
     "output_type": "execute_result"
    }
   ],
   "source": [
    "chord_embeddings[\"C\"]"
   ]
  },
  {
   "cell_type": "code",
   "execution_count": 47,
   "metadata": {},
   "outputs": [],
   "source": [
    "import plotly\n",
    "\n",
    "import plotly.plotly as py\n",
    "import plotly.graph_objs as go\n",
    "import datetime\n",
    "\n",
    "import plotly.offline as offline"
   ]
  },
  {
   "cell_type": "code",
   "execution_count": 59,
   "metadata": {},
   "outputs": [],
   "source": [
    "def reshape_for_plot(chord_embeddings,target=None):\n",
    "    labels=[]\n",
    "    x=[]\n",
    "    y=[]\n",
    "    if target is None:\n",
    "        for chord, embedding in chord_embeddings.items():\n",
    "            labels.append(chord)\n",
    "            x.append(embedding[0])\n",
    "            y.append(embedding[1])\n",
    "        return x,y,labels\n",
    "    else:\n",
    "        for target_chord in target:\n",
    "            embedding=chord_embeddings[target_chord]\n",
    "            x.append(embedding[0])\n",
    "            y.append(embedding[1])\n",
    "        return x,y,target"
   ]
  },
  {
   "cell_type": "code",
   "execution_count": 69,
   "metadata": {},
   "outputs": [
    {
     "data": {
      "application/vnd.plotly.v1+json": {
       "config": {
        "linkText": "Export to plot.ly",
        "plotlyServerURL": "https://plot.ly",
        "showLink": true
       },
       "data": [
        {
         "mode": "text",
         "text": [
          "A",
          "B",
          "C",
          "D",
          "E",
          "F",
          "G",
          "Am",
          "Bm",
          "Dm"
         ],
         "type": "scatter",
         "uid": "83660faf-d829-4ed7-babc-ef9ab2dcc273",
         "x": [
          0.0016329637728631496,
          -0.3780146539211273,
          -0.5956470370292664,
          0.2293366640806198,
          -0.38594159483909607,
          -0.4853592813014984,
          -0.3791542053222656,
          -0.7780634760856628,
          0.17547902464866638,
          -0.3227430582046509
         ],
         "y": [
          -0.49701228737831116,
          -0.29927387833595276,
          -0.24922679364681244,
          -0.4895942807197571,
          -0.15388065576553345,
          -0.2667914628982544,
          -0.576461672782898,
          -0.48164016008377075,
          -0.4958919584751129,
          -0.17009416222572327
         ]
        }
       ],
       "layout": {
        "font": {
         "size": 15
        },
        "xaxis": {
         "title": "x1"
        },
        "yaxis": {
         "title": "x2"
        }
       }
      },
      "text/html": [
       "<div id=\"3e464d08-004c-4519-9091-a46b0c830727\" style=\"height: 525px; width: 100%;\" class=\"plotly-graph-div\"></div><script type=\"text/javascript\">require([\"plotly\"], function(Plotly) { window.PLOTLYENV=window.PLOTLYENV || {};window.PLOTLYENV.BASE_URL=\"https://plot.ly\";Plotly.newPlot(\"3e464d08-004c-4519-9091-a46b0c830727\", [{\"mode\": \"text\", \"text\": [\"A\", \"B\", \"C\", \"D\", \"E\", \"F\", \"G\", \"Am\", \"Bm\", \"Dm\"], \"x\": [0.0016329637728631496, -0.3780146539211273, -0.5956470370292664, 0.2293366640806198, -0.38594159483909607, -0.4853592813014984, -0.3791542053222656, -0.7780634760856628, 0.17547902464866638, -0.3227430582046509], \"y\": [-0.49701228737831116, -0.29927387833595276, -0.24922679364681244, -0.4895942807197571, -0.15388065576553345, -0.2667914628982544, -0.576461672782898, -0.48164016008377075, -0.4958919584751129, -0.17009416222572327], \"type\": \"scatter\", \"uid\": \"491cacc4-3913-4459-ab03-445f1b8f7aff\"}], {\"font\": {\"size\": 15}, \"xaxis\": {\"title\": \"x1\"}, \"yaxis\": {\"title\": \"x2\"}}, {\"showLink\": true, \"linkText\": \"Export to plot.ly\", \"plotlyServerURL\": \"https://plot.ly\"})});</script><script type=\"text/javascript\">window.addEventListener(\"resize\", function(){window._Plotly.Plots.resize(document.getElementById(\"3e464d08-004c-4519-9091-a46b0c830727\"));});</script>"
      ],
      "text/vnd.plotly.v1+html": [
       "<div id=\"3e464d08-004c-4519-9091-a46b0c830727\" style=\"height: 525px; width: 100%;\" class=\"plotly-graph-div\"></div><script type=\"text/javascript\">require([\"plotly\"], function(Plotly) { window.PLOTLYENV=window.PLOTLYENV || {};window.PLOTLYENV.BASE_URL=\"https://plot.ly\";Plotly.newPlot(\"3e464d08-004c-4519-9091-a46b0c830727\", [{\"mode\": \"text\", \"text\": [\"A\", \"B\", \"C\", \"D\", \"E\", \"F\", \"G\", \"Am\", \"Bm\", \"Dm\"], \"x\": [0.0016329637728631496, -0.3780146539211273, -0.5956470370292664, 0.2293366640806198, -0.38594159483909607, -0.4853592813014984, -0.3791542053222656, -0.7780634760856628, 0.17547902464866638, -0.3227430582046509], \"y\": [-0.49701228737831116, -0.29927387833595276, -0.24922679364681244, -0.4895942807197571, -0.15388065576553345, -0.2667914628982544, -0.576461672782898, -0.48164016008377075, -0.4958919584751129, -0.17009416222572327], \"type\": \"scatter\", \"uid\": \"491cacc4-3913-4459-ab03-445f1b8f7aff\"}], {\"font\": {\"size\": 15}, \"xaxis\": {\"title\": \"x1\"}, \"yaxis\": {\"title\": \"x2\"}}, {\"showLink\": true, \"linkText\": \"Export to plot.ly\", \"plotlyServerURL\": \"https://plot.ly\"})});</script><script type=\"text/javascript\">window.addEventListener(\"resize\", function(){window._Plotly.Plots.resize(document.getElementById(\"3e464d08-004c-4519-9091-a46b0c830727\"));});</script>"
      ]
     },
     "metadata": {},
     "output_type": "display_data"
    }
   ],
   "source": [
    "\n",
    "x,y,labels=reshape_for_plot(chord_embeddings,[\"A\",\"B\",\"C\",\"D\",\"E\",\"F\",\"G\",\"Am\",\"Bm\",\"Dm\"])\n",
    "\n",
    "trace = go.Scatter(x =x , y = y,mode='text', text =labels) # mode='markers+text' でラベルも表示\n",
    "\n",
    "layout = go.Layout(\n",
    "    xaxis = dict(title=\"x1\"),   # rangeで範囲、dtick で区間幅\n",
    "    yaxis = dict(title=\"x2\"),\n",
    "    font = dict(size = 15)) # フォントサイズ\n",
    "\n",
    "fig = dict(data = [trace], layout = layout)\n",
    "offline.iplot(fig)\n",
    "\n"
   ]
  },
  {
   "cell_type": "code",
   "execution_count": null,
   "metadata": {},
   "outputs": [],
   "source": []
  },
  {
   "cell_type": "code",
   "execution_count": null,
   "metadata": {},
   "outputs": [],
   "source": []
  },
  {
   "cell_type": "code",
   "execution_count": null,
   "metadata": {},
   "outputs": [],
   "source": []
  }
 ],
 "metadata": {
  "kernelspec": {
   "display_name": "Python 3",
   "language": "python",
   "name": "python3"
  },
  "language_info": {
   "codemirror_mode": {
    "name": "ipython",
    "version": 3
   },
   "file_extension": ".py",
   "mimetype": "text/x-python",
   "name": "python",
   "nbconvert_exporter": "python",
   "pygments_lexer": "ipython3",
   "version": "3.6.7"
  }
 },
 "nbformat": 4,
 "nbformat_minor": 2
}
