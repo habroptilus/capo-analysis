{
 "cells": [
  {
   "cell_type": "markdown",
   "metadata": {},
   "source": [
    "# capoデータにlightFMを適用してみる"
   ]
  },
  {
   "cell_type": "code",
   "execution_count": 1,
   "metadata": {},
   "outputs": [],
   "source": [
    "from pathlib import Path\n",
    "import sys,os\n",
    "sys.path.append(os.pardir)\n",
    "from tools.preprocess.common import CommonPreprocessor\n",
    "from tools.preprocess.interaction_matrix_generator import InteractionMatrixGenerator\n",
    "from tools.preprocess.bow_vectorizer import BOWVectorizer\n",
    "from scipy.sparse import csr_matrix"
   ]
  },
  {
   "cell_type": "markdown",
   "metadata": {},
   "source": [
    "## data部分"
   ]
  },
  {
   "cell_type": "code",
   "execution_count": 2,
   "metadata": {},
   "outputs": [],
   "source": [
    "orignal_path=Path(\"../data/original.txt\")"
   ]
  },
  {
   "cell_type": "code",
   "execution_count": 3,
   "metadata": {},
   "outputs": [],
   "source": [
    "cp=CommonPreprocessor(rare_capo_list=['-6', '-7'],test_rate=0.2,split_seed=0)\n",
    "songs=cp.get_song_list(orignal_path,shuffle=True)\n",
    "songs=cp.remove_rare_capo_song(songs)\n",
    "songs_train, songs_test=cp.split_dataset(songs,shuffle=False)"
   ]
  },
  {
   "cell_type": "code",
   "execution_count": 4,
   "metadata": {},
   "outputs": [],
   "source": [
    "generator=InteractionMatrixGenerator(test_rate=0.1)\n",
    "X_train,X_test=generator.generate_matrices(songs)\n",
    "X_train=csr_matrix(X_train)\n",
    "X_test=csr_matrix(X_test)"
   ]
  },
  {
   "cell_type": "code",
   "execution_count": 5,
   "metadata": {},
   "outputs": [],
   "source": [
    "chord_stat_train=cp.retrieve_chord_stat(songs_train)\n",
    "capo_stat_train=cp.retrieve_capo_stat(songs_train)"
   ]
  },
  {
   "cell_type": "code",
   "execution_count": 6,
   "metadata": {},
   "outputs": [],
   "source": [
    "vectorizer=BOWVectorizer(chord_stat=chord_stat_train,threshold=10000)"
   ]
  },
  {
   "cell_type": "code",
   "execution_count": 7,
   "metadata": {},
   "outputs": [
    {
     "name": "stdout",
     "output_type": "stream",
     "text": [
      "(39995, 60)\n"
     ]
    }
   ],
   "source": [
    "songs_features=vectorizer.get_chord_features(songs)\n",
    "print(songs_features.shape)\n",
    "songs_features=csr_matrix(songs_features)"
   ]
  },
  {
   "cell_type": "markdown",
   "metadata": {},
   "source": [
    "## model部分"
   ]
  },
  {
   "cell_type": "code",
   "execution_count": 8,
   "metadata": {},
   "outputs": [
    {
     "name": "stderr",
     "output_type": "stream",
     "text": [
      "/Users/hikaru/.pyenv/versions/anaconda3-4.4.0/lib/python3.6/site-packages/lightfm/_lightfm_fast.py:9: UserWarning: LightFM was compiled without OpenMP support. Only a single thread will be used.\n",
      "  warnings.warn('LightFM was compiled without OpenMP support. '\n"
     ]
    }
   ],
   "source": [
    "from lightfm import LightFM\n",
    "from lightfm.datasets import fetch_movielens\n",
    "from lightfm.evaluation import precision_at_k\n",
    "from lightfm.evaluation import auc_score"
   ]
  },
  {
   "cell_type": "code",
   "execution_count": 9,
   "metadata": {},
   "outputs": [],
   "source": [
    "embedding_dim=4\n",
    "lr=0.05\n",
    "epoch=100\n",
    "k=2"
   ]
  },
  {
   "cell_type": "code",
   "execution_count": 10,
   "metadata": {},
   "outputs": [
    {
     "name": "stdout",
     "output_type": "stream",
     "text": [
      "Precision`@2: train 0.49, test 0.26.\n",
      "AUC: train 0.97, test 0.71.\n"
     ]
    }
   ],
   "source": [
    "warp_model = LightFM(no_components=embedding_dim,learning_rate=lr, loss=\"warp\")\n",
    "warp_model.fit(X_train,item_features=songs_features, epochs=epoch)\n",
    "\n",
    "train_precision = precision_at_k(warp_model, X_train,item_features=songs_features, k=k).mean()\n",
    "test_precision = precision_at_k(warp_model, X_test,item_features=songs_features, k=k).mean()\n",
    "\n",
    "train_auc = auc_score(warp_model, X_train, item_features=songs_features).mean()\n",
    "test_auc = auc_score(warp_model, X_test, item_features=songs_features).mean()\n",
    "\n",
    "print(f\"Precision`@{k}: train {train_precision:.2f}, test {test_precision:.2f}.\")\n",
    "print(f\"AUC: train {train_auc:.2f}, test {test_auc:.2f}.\")"
   ]
  },
  {
   "cell_type": "code",
   "execution_count": 21,
   "metadata": {},
   "outputs": [],
   "source": [
    "from scipy.stats import rankdata\n",
    "import numpy as np\n",
    "\n",
    "class BaselineModel:\n",
    "    def __init__(self,generator,capo_stat_train):\n",
    "        self.generator=generator\n",
    "        self.capo_stat_train=capo_stat_train\n",
    "        \n",
    "    def get_baseline_matrix(self,X):\n",
    "        songs_num=X.toarray().shape[0]\n",
    "        \"\"\"trainでおすすめcapoだった回数に比例して予測を行う.baseline用\"\"\"\n",
    "        hoge=self.generator.capo_encoder.transform([{\"rec_capo\": capo} for capo in self.capo_stat_train.keys()]).toarray()\n",
    "        counts= np.array([count for count in self.capo_stat_train.values()])\n",
    "        predicted_rank=rankdata(-counts)\n",
    "        return np.array([sum(hoge*predicted_rank)]).repeat(songs_num,axis=0)\n",
    "    \n",
    "    def predict_rank(self,X,item_features):\n",
    "        X_array=X.toarray()\n",
    "        predict_mat=self.get_baseline_matrix(X)\n",
    "        return csr_matrix(predict_mat*X_array)"
   ]
  },
  {
   "cell_type": "code",
   "execution_count": 22,
   "metadata": {},
   "outputs": [],
   "source": [
    "baseline_model=BaselineModel(generator,capo_stat_train)"
   ]
  },
  {
   "cell_type": "code",
   "execution_count": null,
   "metadata": {},
   "outputs": [],
   "source": []
  },
  {
   "cell_type": "code",
   "execution_count": null,
   "metadata": {},
   "outputs": [],
   "source": [
    "baseline_model=BaselineModel(generator,capo_stat_train)\n",
    "\n",
    "train_precision = precision_at_k(baseline_model, X_train,item_features=songs_features, k=k).mean()\n",
    "test_precision = precision_at_k(baseline_model, X_test,item_features=songs_features, k=k).mean()\n",
    "\n",
    "train_auc = auc_score(baseline_model, X_train, item_features=songs_features).mean()\n",
    "test_auc = auc_score(baseline_model, X_test, item_features=songs_features).mean()\n",
    "\n",
    "print(f\"Precision`@{k}: train {train_precision:.2f}, test {test_precision:.2f}.\")\n",
    "print(f\"AUC: train {train_auc:.2f}, test {test_auc:.2f}.\")"
   ]
  },
  {
   "cell_type": "code",
   "execution_count": null,
   "metadata": {},
   "outputs": [],
   "source": [
    "warp_model.predict(user_ids=4,item_ids=[0,1,2,3,4,5,6])"
   ]
  },
  {
   "cell_type": "code",
   "execution_count": null,
   "metadata": {},
   "outputs": [],
   "source": [
    "import numpy as np\n",
    "def get_prediction(model,n_songs):\n",
    "    prediction=[]\n",
    "    for i in range(n_songs):\n",
    "        prediction.append(model.predict(user_ids=i,item_ids=[0,1,2,3,4,5,6]))\n",
    "    return np.array(prediction)"
   ]
  },
  {
   "cell_type": "code",
   "execution_count": null,
   "metadata": {},
   "outputs": [],
   "source": [
    "prediction=get_prediction(warp_model,X_train.toarray().shape[0])"
   ]
  },
  {
   "cell_type": "code",
   "execution_count": null,
   "metadata": {},
   "outputs": [],
   "source": [
    "predicted_rank=warp_model.predict_rank(X_test,item_features=songs_features)"
   ]
  },
  {
   "cell_type": "code",
   "execution_count": null,
   "metadata": {},
   "outputs": [],
   "source": [
    "predicted_rank[-10:].toarray()"
   ]
  },
  {
   "cell_type": "code",
   "execution_count": null,
   "metadata": {},
   "outputs": [],
   "source": [
    "X_test[-10:].toarray()"
   ]
  },
  {
   "cell_type": "code",
   "execution_count": null,
   "metadata": {},
   "outputs": [],
   "source": []
  }
 ],
 "metadata": {
  "kernelspec": {
   "display_name": "Python 3",
   "language": "python",
   "name": "python3"
  },
  "language_info": {
   "codemirror_mode": {
    "name": "ipython",
    "version": 3
   },
   "file_extension": ".py",
   "mimetype": "text/x-python",
   "name": "python",
   "nbconvert_exporter": "python",
   "pygments_lexer": "ipython3",
   "version": "3.6.2"
  }
 },
 "nbformat": 4,
 "nbformat_minor": 2
}
