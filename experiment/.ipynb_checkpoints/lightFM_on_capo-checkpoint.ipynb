{
 "cells": [
  {
   "cell_type": "markdown",
   "metadata": {},
   "source": [
    "# capoデータにlightFMを適用してみる"
   ]
  },
  {
   "cell_type": "code",
   "execution_count": 1,
   "metadata": {},
   "outputs": [],
   "source": [
    "from pathlib import Path\n",
    "import sys,os\n",
    "sys.path.append(os.pardir)\n",
    "from tools.preprocess.common import CommonPreprocessor\n",
    "from tools.preprocess.interaction_matrix_generator import InteractionMatrixGenerator\n",
    "from tools.preprocess.bow_vectorizer import BOWVectorizer\n",
    "from scipy.sparse import csr_matrix"
   ]
  },
  {
   "cell_type": "markdown",
   "metadata": {},
   "source": [
    "## data部分"
   ]
  },
  {
   "cell_type": "code",
   "execution_count": 24,
   "metadata": {},
   "outputs": [],
   "source": [
    "orignal_path=Path(\"../data/original.txt\")\n",
    "bow_threshold=10000"
   ]
  },
  {
   "cell_type": "code",
   "execution_count": 25,
   "metadata": {},
   "outputs": [],
   "source": [
    "cp=CommonPreprocessor(rare_capo_list=['-6', '-7'],test_rate=0.2,split_seed=0)\n",
    "songs=cp.get_song_list(orignal_path,shuffle=True)\n",
    "songs=cp.remove_rare_capo_song(songs)\n",
    "songs_train, songs_test=cp.split_dataset(songs,shuffle=False)"
   ]
  },
  {
   "cell_type": "code",
   "execution_count": 26,
   "metadata": {},
   "outputs": [],
   "source": [
    "generator=InteractionMatrixGenerator(test_rate=0.1)\n",
    "X_train,X_test=generator.generate_matrices(songs)\n",
    "X_train=csr_matrix(X_train)\n",
    "X_test=csr_matrix(X_test)"
   ]
  },
  {
   "cell_type": "code",
   "execution_count": 27,
   "metadata": {},
   "outputs": [],
   "source": [
    "chord_stat_train=cp.retrieve_chord_stat(songs_train)\n",
    "capo_stat_train=cp.retrieve_capo_stat(songs_train)"
   ]
  },
  {
   "cell_type": "code",
   "execution_count": 28,
   "metadata": {},
   "outputs": [],
   "source": [
    "vectorizer=BOWVectorizer(chord_stat=chord_stat_train,threshold=bow_threshold)"
   ]
  },
  {
   "cell_type": "code",
   "execution_count": 29,
   "metadata": {},
   "outputs": [
    {
     "name": "stdout",
     "output_type": "stream",
     "text": [
      "(39995, 60)\n"
     ]
    }
   ],
   "source": [
    "songs_features=vectorizer.get_chord_features(songs)\n",
    "print(songs_features.shape)\n",
    "songs_features=csr_matrix(songs_features)"
   ]
  },
  {
   "cell_type": "markdown",
   "metadata": {},
   "source": [
    "## model部分"
   ]
  },
  {
   "cell_type": "code",
   "execution_count": 30,
   "metadata": {},
   "outputs": [],
   "source": [
    "from lightfm import LightFM\n",
    "from lightfm.datasets import fetch_movielens\n",
    "from lightfm.evaluation import precision_at_k\n",
    "from lightfm.evaluation import auc_score"
   ]
  },
  {
   "cell_type": "code",
   "execution_count": 31,
   "metadata": {},
   "outputs": [],
   "source": [
    "import numpy as np\n",
    "def get_prediction(model,n_songs):\n",
    "    prediction=[]\n",
    "    for i in range(n_songs):\n",
    "        prediction.append(model.predict(user_ids=i,item_ids=[0,1,2,3,4,5,6]))\n",
    "    return np.array(prediction)"
   ]
  },
  {
   "cell_type": "code",
   "execution_count": 32,
   "metadata": {},
   "outputs": [],
   "source": [
    "embedding_dim=10\n",
    "lr=0.01\n",
    "epoch=100\n",
    "k=2"
   ]
  },
  {
   "cell_type": "code",
   "execution_count": 33,
   "metadata": {},
   "outputs": [
    {
     "name": "stdout",
     "output_type": "stream",
     "text": [
      "Precision`@2: train 0.49, test 0.28.\n",
      "AUC: train 0.97, test 0.71.\n"
     ]
    }
   ],
   "source": [
    "warp_model = LightFM(no_components=embedding_dim,learning_rate=lr, loss=\"warp\")\n",
    "warp_model.fit(X_train,item_features=songs_features, epochs=epoch)\n",
    "\n",
    "train_precision = precision_at_k(warp_model, X_train,item_features=songs_features, k=k).mean()\n",
    "test_precision = precision_at_k(warp_model, X_test,item_features=songs_features, k=k).mean()\n",
    "\n",
    "train_auc = auc_score(warp_model, X_train, item_features=songs_features).mean()\n",
    "test_auc = auc_score(warp_model, X_test, item_features=songs_features).mean()\n",
    "\n",
    "print(f\"Precision`@{k}: train {train_precision:.2f}, test {test_precision:.2f}.\")\n",
    "print(f\"AUC: train {train_auc:.2f}, test {test_auc:.2f}.\")"
   ]
  },
  {
   "cell_type": "code",
   "execution_count": 34,
   "metadata": {},
   "outputs": [
    {
     "name": "stdout",
     "output_type": "stream",
     "text": [
      "Precision`@2: train 0.03, test 0.03.\n",
      "AUC: train 0.22, test 0.22.\n"
     ]
    }
   ],
   "source": [
    "from tools.model.baseline import BaselineModel\n",
    "baseline_model=BaselineModel(generator,capo_stat_train)\n",
    "\n",
    "train_precision = precision_at_k(baseline_model, X_train,item_features=songs_features, k=k).mean()\n",
    "test_precision = precision_at_k(baseline_model, X_test,item_features=songs_features, k=k).mean()\n",
    "\n",
    "train_auc = auc_score(baseline_model, X_train, item_features=songs_features).mean()\n",
    "test_auc = auc_score(baseline_model, X_test, item_features=songs_features).mean()\n",
    "\n",
    "print(f\"Precision`@{k}: train {train_precision:.2f}, test {test_precision:.2f}.\")\n",
    "print(f\"AUC: train {train_auc:.2f}, test {test_auc:.2f}.\")"
   ]
  },
  {
   "cell_type": "code",
   "execution_count": 41,
   "metadata": {},
   "outputs": [],
   "source": [
    "def get_chord_embeddings(model,vectorizer):\n",
    "    chord_embeddings={}\n",
    "    for chord, idx in vectorizer.chord_encoder.items():\n",
    "        chord_embeddings[chord]=model.item_embeddings[idx].tolist()\n",
    "    return chord_embeddings"
   ]
  },
  {
   "cell_type": "code",
   "execution_count": 42,
   "metadata": {},
   "outputs": [],
   "source": [
    "chord_embeddings=get_chord_embeddings(warp_model,vectorizer)"
   ]
  },
  {
   "cell_type": "code",
   "execution_count": 49,
   "metadata": {},
   "outputs": [
    {
     "data": {
      "text/plain": [
       "[-0.6929050087928772,\n",
       " -0.6298040151596069,\n",
       " 0.19739528000354767,\n",
       " 0.19778889417648315,\n",
       " 0.5764296054840088,\n",
       " 0.9466949105262756,\n",
       " 0.4443662762641907,\n",
       " -0.12063416093587875,\n",
       " -0.483177125453949,\n",
       " -0.06340299546718597]"
      ]
     },
     "execution_count": 49,
     "metadata": {},
     "output_type": "execute_result"
    }
   ],
   "source": [
    "chord_embeddings[\"Cm\"]"
   ]
  },
  {
   "cell_type": "markdown",
   "metadata": {},
   "source": [
    " # jsonに保存"
   ]
  },
  {
   "cell_type": "code",
   "execution_count": 44,
   "metadata": {},
   "outputs": [],
   "source": [
    "import json\n",
    "from pathlib import Path\n",
    "json_path=Path(f\"../result/embeddings_{bow_threshold}_{embedding_dim}.json\")\n",
    "with json_path.open(\"w\") as f:\n",
    "    json.dump(chord_embeddings,f)"
   ]
  },
  {
   "cell_type": "code",
   "execution_count": 45,
   "metadata": {},
   "outputs": [],
   "source": []
  },
  {
   "cell_type": "code",
   "execution_count": 20,
   "metadata": {},
   "outputs": [],
   "source": []
  }
 ],
 "metadata": {
  "kernelspec": {
   "display_name": "Python 3",
   "language": "python",
   "name": "python3"
  },
  "language_info": {
   "codemirror_mode": {
    "name": "ipython",
    "version": 3
   },
   "file_extension": ".py",
   "mimetype": "text/x-python",
   "name": "python",
   "nbconvert_exporter": "python",
   "pygments_lexer": "ipython3",
   "version": "3.6.7"
  }
 },
 "nbformat": 4,
 "nbformat_minor": 2
}
