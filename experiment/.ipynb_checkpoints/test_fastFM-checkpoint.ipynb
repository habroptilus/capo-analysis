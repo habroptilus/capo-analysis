{
 "cells": [
  {
   "cell_type": "markdown",
   "metadata": {},
   "source": [
    "# test fastFM"
   ]
  },
  {
   "cell_type": "markdown",
   "metadata": {},
   "source": [
    "## 使い方\n",
    "\n",
    "* 入力はXはsparse matrix\n",
    "* fitの第二引数は、(n_compare, 2)のnumpy array\n",
    "* np.array([[0,1],[2,1]])だと、X[0]はX[1]よりもランキングが上、X[２]はX[1]よりもランキングが上、という感じ\n",
    "* predictは各rowに対してscoreが与えられる。大きい方がランキング上位\n",
    "* embeddingはmodel.V_で取得可能。ただしshapeは(rank, n_feature)となっていて直感と逆なので注意"
   ]
  },
  {
   "cell_type": "code",
   "execution_count": 42,
   "metadata": {},
   "outputs": [
    {
     "name": "stdout",
     "output_type": "stream",
     "text": [
      "[[19.  0.  0.  0.  1.  1.  0.  0.  0.]\n",
      " [33.  0.  0.  1.  0.  0.  1.  0.  0.]\n",
      " [55.  0.  1.  0.  0.  0.  0.  1.  0.]\n",
      " [20.  1.  0.  0.  0.  0.  0.  0.  1.]]\n"
     ]
    }
   ],
   "source": [
    "from sklearn.feature_extraction import DictVectorizer\n",
    "import numpy as np\n",
    "train = [\n",
    "{\"user\": \"1\", \"item\": \"5\", \"age\": 19},\n",
    "{\"user\": \"2\", \"item\": \"43\", \"age\": 33},\n",
    "{\"user\": \"3\", \"item\": \"20\", \"age\": 55},\n",
    "{\"user\": \"4\", \"item\": \"10\", \"age\": 20},\n",
    "]\n",
    "v = DictVectorizer()\n",
    "X = v.fit_transform(train)\n",
    "print(X.toarray())\n",
    "y = np.repeat(1.0,X.shape[0])\n"
   ]
  },
  {
   "cell_type": "code",
   "execution_count": 43,
   "metadata": {},
   "outputs": [],
   "source": [
    "compares= np.array([[0,1],[1,2],[2,3]])"
   ]
  },
  {
   "cell_type": "code",
   "execution_count": 44,
   "metadata": {},
   "outputs": [
    {
     "data": {
      "text/plain": [
       "FMRecommender(init_stdev=0.1, l2_reg=None, l2_reg_V=0.1, l2_reg_w=0.1,\n",
       "       n_iter=4, random_state=123, rank=8, step_size=0.1)"
      ]
     },
     "execution_count": 44,
     "metadata": {},
     "output_type": "execute_result"
    }
   ],
   "source": [
    "from fastFM import bpr\n",
    "model=bpr.FMRecommender(n_iter=4)\n",
    "model.fit(X,compares)"
   ]
  },
  {
   "cell_type": "code",
   "execution_count": 45,
   "metadata": {},
   "outputs": [
    {
     "data": {
      "text/plain": [
       "array([  447.06448857, -1030.37322908,   134.89543901,    34.05760086])"
      ]
     },
     "execution_count": 45,
     "metadata": {},
     "output_type": "execute_result"
    }
   ],
   "source": [
    "model.predict(X)"
   ]
  },
  {
   "cell_type": "code",
   "execution_count": 46,
   "metadata": {},
   "outputs": [
    {
     "data": {
      "text/plain": [
       "(8, 9)"
      ]
     },
     "execution_count": 46,
     "metadata": {},
     "output_type": "execute_result"
    }
   ],
   "source": [
    "model.V_.shape"
   ]
  },
  {
   "cell_type": "code",
   "execution_count": null,
   "metadata": {},
   "outputs": [],
   "source": []
  }
 ],
 "metadata": {
  "kernelspec": {
   "display_name": "Python 3",
   "language": "python",
   "name": "python3"
  },
  "language_info": {
   "codemirror_mode": {
    "name": "ipython",
    "version": 3
   },
   "file_extension": ".py",
   "mimetype": "text/x-python",
   "name": "python",
   "nbconvert_exporter": "python",
   "pygments_lexer": "ipython3",
   "version": "3.6.4"
  }
 },
 "nbformat": 4,
 "nbformat_minor": 2
}
