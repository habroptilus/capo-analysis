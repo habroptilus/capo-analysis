{
 "cells": [
  {
   "cell_type": "markdown",
   "metadata": {},
   "source": [
    "# fastFMのclassifierを使ってみる"
   ]
  },
  {
   "cell_type": "code",
   "execution_count": 1,
   "metadata": {},
   "outputs": [],
   "source": [
    "from pathlib import Path\n",
    "import numpy as np\n",
    "import sys,os\n",
    "sys.path.append(os.pardir)\n",
    "from tools.preprocess.common import CommonPreprocessor\n",
    "from tools.preprocess.cls_preprocessor import CLSPreprocessor\n",
    "from tools.model.fm_classifier import FMClassifier\n",
    "from tools.preprocess.frequency_vectorizer import FrequencyVectorizer"
   ]
  },
  {
   "cell_type": "code",
   "execution_count": 2,
   "metadata": {},
   "outputs": [],
   "source": [
    "orignal_path=Path(\"../data/original.txt\")"
   ]
  },
  {
   "cell_type": "code",
   "execution_count": 3,
   "metadata": {},
   "outputs": [],
   "source": [
    "cp=CommonPreprocessor(rare_capo_list=['-6', '-7'],val_rate=0.1,test_rate=0.2,split_seed=0)\n",
    "songs=cp.get_song_list(orignal_path)\n",
    "songs=cp.remove_rare_capo_song(songs)\n",
    "songs_train, songs_valid, songs_test=cp.split_dataset(songs)"
   ]
  },
  {
   "cell_type": "code",
   "execution_count": 4,
   "metadata": {},
   "outputs": [],
   "source": [
    "chord_stat=cp.retrieve_chord_stat(songs_train)"
   ]
  },
  {
   "cell_type": "code",
   "execution_count": 5,
   "metadata": {},
   "outputs": [],
   "source": [
    "chords_list_train = [song[\"chords\"] for song in songs_train]\n",
    "chords_list_valid = [song[\"chords\"] for song in songs_valid]\n",
    "chords_list_test = [song[\"chords\"] for song in songs_test]"
   ]
  },
  {
   "cell_type": "code",
   "execution_count": 6,
   "metadata": {},
   "outputs": [],
   "source": [
    "fv=FrequencyVectorizer(chord_stat, threshold=5, token=\"<UNK>\")"
   ]
  },
  {
   "cell_type": "code",
   "execution_count": 7,
   "metadata": {},
   "outputs": [],
   "source": [
    "X_train=fv.get_chord_features(chords_list_train)\n",
    "X_valid =fv.get_chord_features(chords_list_valid)\n",
    "X_test=fv.get_chord_features(chords_list_test)\n",
    "y_train=[song[\"rec_capo\"] for song in songs_train]\n",
    "y_valid=[song[\"rec_capo\"] for song in songs_valid]\n",
    "y_test=[song[\"rec_capo\"] for song in songs_test]"
   ]
  },
  {
   "cell_type": "code",
   "execution_count": 8,
   "metadata": {},
   "outputs": [],
   "source": [
    "cp= CLSPreprocessor(dupulication_capo_order=np.array(['1','0','-1','-2','-3','-4','-5']))"
   ]
  },
  {
   "cell_type": "code",
   "execution_count": 9,
   "metadata": {},
   "outputs": [],
   "source": [
    "model=FMClassifier(n_iter=10*10000, rank=10,preprocessor=cp)"
   ]
  },
  {
   "cell_type": "code",
   "execution_count": 10,
   "metadata": {},
   "outputs": [
    {
     "data": {
      "text/plain": [
       "FMClassification(init_stdev=0.1, l2_reg=None, l2_reg_V=0, l2_reg_w=0,\n",
       "         n_iter=100000, random_state=123, rank=10, step_size=0.1)"
      ]
     },
     "execution_count": 10,
     "metadata": {},
     "output_type": "execute_result"
    }
   ],
   "source": [
    "model.fit(X_train,y_train)"
   ]
  },
  {
   "cell_type": "code",
   "execution_count": 11,
   "metadata": {},
   "outputs": [
    {
     "data": {
      "text/plain": [
       "[array(['0', '-1', '-3', '1', '-4', '-5', '-2'], dtype='<U2'),\n",
       " array(['1', '0', '-2', '-3', '-4', '-5', '-1'], dtype='<U2'),\n",
       " array(['-3', '1', '0', '-1', '-2', '-5', '-4'], dtype='<U2'),\n",
       " array(['-2', '0', '-1', '-3', '1', '-5', '-4'], dtype='<U2'),\n",
       " array(['1', '0', '-3', '-5', '-4', '-2', '-1'], dtype='<U2'),\n",
       " array(['-2', '0', '-1', '1', '-4', '-5', '-3'], dtype='<U2'),\n",
       " array(['0', '-2', '1', '-1', '-4', '-5', '-3'], dtype='<U2'),\n",
       " array(['-3', '0', '1', '-1', '-2', '-5', '-4'], dtype='<U2'),\n",
       " array(['0', '1', '-2', '-5', '-4', '-3', '-1'], dtype='<U2'),\n",
       " array(['-2', '0', '-1', '1', '-4', '-5', '-3'], dtype='<U2')]"
      ]
     },
     "execution_count": 11,
     "metadata": {},
     "output_type": "execute_result"
    }
   ],
   "source": [
    "rankings=model.predict_ranking(X_valid)\n",
    "rankings[:10]"
   ]
  },
  {
   "cell_type": "code",
   "execution_count": 12,
   "metadata": {},
   "outputs": [
    {
     "data": {
      "text/plain": [
       "array(['0', '1', '-3', '-2', '1', '-2', '0', '-3', '0', '-2'], dtype='<U2')"
      ]
     },
     "execution_count": 12,
     "metadata": {},
     "output_type": "execute_result"
    }
   ],
   "source": [
    "pred_top1= model.predict(X_valid)\n",
    "pred_top1[:10]"
   ]
  },
  {
   "cell_type": "code",
   "execution_count": 13,
   "metadata": {},
   "outputs": [
    {
     "data": {
      "text/plain": [
       "0.13925"
      ]
     },
     "execution_count": 13,
     "metadata": {},
     "output_type": "execute_result"
    }
   ],
   "source": [
    "model.evaluate_top1(X_valid,y_valid)"
   ]
  },
  {
   "cell_type": "code",
   "execution_count": 14,
   "metadata": {},
   "outputs": [],
   "source": [
    "chord_embeddings, capo_embeddings=model.get_embeddings()"
   ]
  },
  {
   "cell_type": "code",
   "execution_count": 15,
   "metadata": {},
   "outputs": [
    {
     "data": {
      "text/plain": [
       "((691, 10), (7, 10))"
      ]
     },
     "execution_count": 15,
     "metadata": {},
     "output_type": "execute_result"
    }
   ],
   "source": [
    "chord_embeddings.shape,capo_embeddings.shape"
   ]
  },
  {
   "cell_type": "code",
   "execution_count": null,
   "metadata": {},
   "outputs": [],
   "source": []
  },
  {
   "cell_type": "code",
   "execution_count": null,
   "metadata": {},
   "outputs": [],
   "source": []
  }
 ],
 "metadata": {
  "kernelspec": {
   "display_name": "Python 3",
   "language": "python",
   "name": "python3"
  },
  "language_info": {
   "codemirror_mode": {
    "name": "ipython",
    "version": 3
   },
   "file_extension": ".py",
   "mimetype": "text/x-python",
   "name": "python",
   "nbconvert_exporter": "python",
   "pygments_lexer": "ipython3",
   "version": "3.6.4"
  }
 },
 "nbformat": 4,
 "nbformat_minor": 2
}
