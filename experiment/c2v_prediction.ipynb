{
 "cells": [
  {
   "cell_type": "markdown",
   "metadata": {},
   "source": [
    "# chord2vecを入力にcapo予測"
   ]
  },
  {
   "cell_type": "code",
   "execution_count": 1,
   "metadata": {},
   "outputs": [],
   "source": [
    "from pathlib import Path\n",
    "import sys,os\n",
    "sys.path.append(os.pardir)\n",
    "from tools.preprocess.common import CommonPreprocessor\n",
    "from tools.preprocess.interaction_matrix_generator import InteractionMatrixGenerator\n",
    "from tools.preprocess.bow_vectorizer import BOWVectorizer\n",
    "from scipy.sparse import csr_matrix"
   ]
  },
  {
   "cell_type": "code",
   "execution_count": 168,
   "metadata": {},
   "outputs": [],
   "source": [
    "orignal_path=Path(\"../data/preprocessed_50k.txt\")\n",
    "bow_threshold=100"
   ]
  },
  {
   "cell_type": "code",
   "execution_count": 169,
   "metadata": {},
   "outputs": [],
   "source": [
    "cp=CommonPreprocessor(rare_capo_list=['capo6', 'capo7', \"whole_down\"],test_rate=0.2,split_seed=0)\n",
    "songs=cp.get_song_list(orignal_path,shuffle=True)\n",
    "songs=cp.remove_rare_capo_song(songs)\n",
    "songs_train, songs_test=cp.split_dataset(songs,shuffle=False)"
   ]
  },
  {
   "cell_type": "code",
   "execution_count": 170,
   "metadata": {},
   "outputs": [],
   "source": [
    "chord_stat_train=cp.retrieve_chord_stat(songs_train)\n",
    "capo_stat_train=cp.retrieve_capo_stat(songs_train)"
   ]
  },
  {
   "cell_type": "code",
   "execution_count": 171,
   "metadata": {},
   "outputs": [
    {
     "data": {
      "text/plain": [
       "Counter({'capo0': 15713,\n",
       "         'capo1': 5204,\n",
       "         'capo2': 6402,\n",
       "         'capo3': 5271,\n",
       "         'capo4': 3831,\n",
       "         'capo5': 2294,\n",
       "         'half_down': 1190})"
      ]
     },
     "execution_count": 171,
     "metadata": {},
     "output_type": "execute_result"
    }
   ],
   "source": [
    "capo_stat_train"
   ]
  },
  {
   "cell_type": "code",
   "execution_count": 172,
   "metadata": {},
   "outputs": [],
   "source": [
    "from sklearn.preprocessing import LabelEncoder\n",
    "from sklearn.base import TransformerMixin\n",
    "\n",
    "class LabelGenarater(TransformerMixin):\n",
    "    def __init__(self):\n",
    "        self.encoder= LabelEncoder()\n",
    "    \n",
    "    def fit(self,songs):\n",
    "        self.encoder.fit([song[\"rec_capo\"] for song in songs])\n",
    "        return self\n",
    "    \n",
    "    def transform(self,songs):\n",
    "        return self.encoder.transform([song[\"rec_capo\"] for song in songs])"
   ]
  },
  {
   "cell_type": "code",
   "execution_count": 173,
   "metadata": {},
   "outputs": [],
   "source": [
    "def evaluate(model,X_train,y_train,X_test,y_test):\n",
    "    model.fit(X_train,y_train)\n",
    "    y_pred=model.predict(X_test)\n",
    "    return accuracy_score(y_test,y_pred)"
   ]
  },
  {
   "cell_type": "code",
   "execution_count": 174,
   "metadata": {},
   "outputs": [],
   "source": [
    "lg=LabelGenarater()\n",
    "y_train=lg.fit_transform(songs_train)\n",
    "y_test=lg.fit_transform(songs_test)"
   ]
  },
  {
   "cell_type": "code",
   "execution_count": 175,
   "metadata": {},
   "outputs": [],
   "source": [
    "vectorizer=BOWVectorizer(chord_stat=chord_stat_train,threshold=bow_threshold)"
   ]
  },
  {
   "cell_type": "code",
   "execution_count": 176,
   "metadata": {},
   "outputs": [
    {
     "data": {
      "text/plain": [
       "((39905, 335), (9977, 335))"
      ]
     },
     "execution_count": 176,
     "metadata": {},
     "output_type": "execute_result"
    }
   ],
   "source": [
    "X_train_bow=vectorizer.get_chord_features(songs_train)\n",
    "X_test_bow=vectorizer.get_chord_features(songs_test)\n",
    "X_train_bow.shape,X_test_bow.shape"
   ]
  },
  {
   "cell_type": "code",
   "execution_count": 177,
   "metadata": {},
   "outputs": [
    {
     "name": "stderr",
     "output_type": "stream",
     "text": [
      "/Users/hikaru/.pyenv/versions/anaconda3-4.4.0/lib/python3.6/site-packages/sklearn/preprocessing/label.py:151: DeprecationWarning: The truth value of an empty array is ambiguous. Returning False, but in future this will result in an error. Use `array.size > 0` to check that an array is not empty.\n",
      "  if diff:\n"
     ]
    },
    {
     "data": {
      "text/plain": [
       "0.720056129096923"
      ]
     },
     "execution_count": 177,
     "metadata": {},
     "output_type": "execute_result"
    }
   ],
   "source": [
    "import lightgbm as lgb\n",
    "import numpy as np\n",
    "from sklearn.metrics import accuracy_score\n",
    "\n",
    "lgbm_cls = lgb.LGBMClassifier(objective='multiclass',num_class= 7)\n",
    "evaluate(lgbm_cls,X_train_bow,y_train,X_test_bow,y_test)"
   ]
  },
  {
   "cell_type": "code",
   "execution_count": null,
   "metadata": {},
   "outputs": [],
   "source": [
    "from sklearn.linear_model import LogisticRegression\n",
    "lr = LogisticRegression()\n",
    "evaluate(lr,X_train_bow,y_train,X_test_bow,y_test)"
   ]
  },
  {
   "cell_type": "markdown",
   "metadata": {},
   "source": [
    "## Chord2Vecモデル"
   ]
  },
  {
   "cell_type": "code",
   "execution_count": null,
   "metadata": {},
   "outputs": [],
   "source": [
    "from gensim.models import word2vec\n",
    "\n",
    "class Chord2VecAvg:\n",
    "    def __init__(self,model_name,vectorizer):\n",
    "        self.c2v = word2vec.Word2Vec.load(model_name)\n",
    "        self.bow_vectorizer=vectorizer \n",
    "        self.embeddings= self.create_embedding_mat()\n",
    "    \n",
    "    def transform(self,songs):\n",
    "        bow=self.bow_vectorizer.get_chord_features(songs)\n",
    "        return bow @ self.embeddings / np.expand_dims(np.sum(bow,axis=1),axis=1)\n",
    "        \n",
    "    def create_embedding_mat(self):\n",
    "        embedding_dim= len(self.c2v.wv.vectors[0])\n",
    "        embeddings=np.zeros((len(self.bow_vectorizer.chord_encoder),embedding_dim))\n",
    "        for chord, index in self.bow_vectorizer.chord_encoder.items():\n",
    "            embeddings[index] = self.c2v.wv[chord]\n",
    "        return embeddings"
   ]
  },
  {
   "cell_type": "code",
   "execution_count": null,
   "metadata": {},
   "outputs": [],
   "source": [
    "embedding_dim=100\n",
    "min_count=5\n",
    "window_size=5\n",
    "iter_num=100\n",
    "model_name=f\"../result/w2v/{embedding_dim}_{min_count}_{window_size}_{iter_num}.model\"\n",
    "\n",
    "c2v_vectorizer=Chord2VecAvg(model_name,vectorizer)"
   ]
  },
  {
   "cell_type": "code",
   "execution_count": null,
   "metadata": {},
   "outputs": [],
   "source": [
    "X_train_c2v=c2v_vectorizer.transform(songs_train)\n",
    "X_test_c2v=c2v_vectorizer.transform(songs_test)\n",
    "X_train_c2v.shape,X_test_c2v.shape"
   ]
  },
  {
   "cell_type": "code",
   "execution_count": null,
   "metadata": {},
   "outputs": [],
   "source": [
    "lgbm_cls = lgb.LGBMClassifier(objective='multiclass',num_class= 7)\n",
    "evaluate(lgbm_cls,X_train_c2v,y_train,X_test_c2v,y_test)"
   ]
  },
  {
   "cell_type": "code",
   "execution_count": null,
   "metadata": {},
   "outputs": [],
   "source": [
    "lr = LogisticRegression()\n",
    "evaluate(lr,X_train_c2v,y_train,X_test_c2v,y_test)"
   ]
  },
  {
   "cell_type": "code",
   "execution_count": null,
   "metadata": {},
   "outputs": [],
   "source": []
  },
  {
   "cell_type": "code",
   "execution_count": null,
   "metadata": {},
   "outputs": [],
   "source": []
  },
  {
   "cell_type": "code",
   "execution_count": null,
   "metadata": {},
   "outputs": [],
   "source": []
  }
 ],
 "metadata": {
  "kernelspec": {
   "display_name": "Python 3",
   "language": "python",
   "name": "python3"
  },
  "language_info": {
   "codemirror_mode": {
    "name": "ipython",
    "version": 3
   },
   "file_extension": ".py",
   "mimetype": "text/x-python",
   "name": "python",
   "nbconvert_exporter": "python",
   "pygments_lexer": "ipython3",
   "version": "3.6.2"
  }
 },
 "nbformat": 4,
 "nbformat_minor": 2
}
