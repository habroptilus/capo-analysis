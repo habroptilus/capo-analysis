{
 "cells": [
  {
   "cell_type": "code",
   "execution_count": 1,
   "metadata": {},
   "outputs": [],
   "source": [
    "from pathlib import Path\n",
    "import sys,os\n",
    "sys.path.append(os.pardir)\n",
    "from tools.preprocess.common import CommonPreprocessor\n",
    "from tools.preprocess.interaction_matrix_generator import InteractionMatrixGenerator\n",
    "from tools.preprocess.bow_vectorizer import BOWVectorizer\n",
    "from scipy.sparse import csr_matrix"
   ]
  },
  {
   "cell_type": "code",
   "execution_count": 2,
   "metadata": {},
   "outputs": [],
   "source": [
    "orignal_path=Path(\"../data/preprocessed_50k.txt\")"
   ]
  },
  {
   "cell_type": "code",
   "execution_count": 3,
   "metadata": {},
   "outputs": [],
   "source": [
    "cp=CommonPreprocessor(split_seed=0)\n",
    "songs=cp.get_song_list(orignal_path,shuffle=True)"
   ]
  },
  {
   "cell_type": "code",
   "execution_count": 4,
   "metadata": {},
   "outputs": [],
   "source": [
    "corpus=[song[\"chords\"] for song in songs]"
   ]
  },
  {
   "cell_type": "code",
   "execution_count": 5,
   "metadata": {},
   "outputs": [
    {
     "name": "stdout",
     "output_type": "stream",
     "text": [
      "[['D#', 'D#add9', 'D#maj7', 'D#', 'Cm', 'D#', 'Cm', 'A#', 'A#add9', 'D#', 'Gm', 'Cm', 'Gm', 'Cm', 'G#', 'A#', 'G#', 'A#', 'Cm', 'Gm', 'G#', 'A#', 'G#', 'A#', 'G#', 'A#', 'Cm', 'Gm', 'G#', 'A#', 'G#', 'A#', 'D#', 'Cm', 'D#', 'Cm', 'A#', 'A#add9', 'D#', 'Gm', 'Cm', 'Gm', 'Cm', 'G#', 'A#', 'G#', 'A#', 'Cm', 'Gm', 'G#', 'A#', 'G#', 'A#', 'G#', 'A#', 'Cm', 'Gm', 'G#', 'A#', 'G#', 'A#', 'G#', 'A#', 'G#', 'A#', 'G#', 'A#', 'G#', 'A#', 'D#', 'A#', 'D#', 'G#', 'A#', 'Cm', 'Gm', 'G#', 'A#', 'G#', 'A#', 'G#', 'A#', 'Cm', 'Gm', 'G#', 'A#', 'G#', 'A#', 'G#', 'A#', 'G#', 'A#', 'D#'], ['Cm', 'G#', 'A#', 'G#', 'G', 'Cm', 'G#', 'A#', 'G#', 'G', 'Cm', 'D#', 'G#', 'A#', 'Cm', 'G#', 'A#', 'G', 'Cm', 'D#', 'G#', 'A#', 'Fm', 'Gm', 'G#', 'A#', 'Cm', 'Cm', 'G#', 'A#', 'G#', 'G', 'Cm', 'G#', 'A#', 'G#', 'G', 'Cm', 'D#', 'G#', 'A#', 'Cm', 'G#', 'A#', 'G', 'Cm', 'D#', 'G#', 'A#', 'Fm', 'Gm', 'G#', 'A#', 'G', 'G7', 'Cm', 'G', 'G7', 'Cm', 'G', 'G7', 'Cm', 'F', 'A#', 'Cm', 'Cm', 'D#', 'G#', 'A#', 'Cm', 'G#', 'A#', 'G', 'Cm', 'D#', 'G#', 'A#', 'Fm', 'Gm', 'G#', 'A#', 'Cm']]\n"
     ]
    }
   ],
   "source": [
    "print(corpus[0:2])"
   ]
  },
  {
   "cell_type": "code",
   "execution_count": 6,
   "metadata": {},
   "outputs": [],
   "source": [
    "from gensim.models import word2vec\n",
    "embedding_dim=100\n",
    "min_count=5\n",
    "window_size=5\n",
    "iter_num=100\n",
    "#Word2Vecモデルの学習\n",
    "#sizeは特徴量の数、min_count以下の登場数の単語を無視、前後window幅の単語との関係を考慮、iter回数分繰り返し計算\n",
    "model = word2vec.Word2Vec(corpus,\n",
    "                          size=embedding_dim,\n",
    "                          min_count=min_count,\n",
    "                          window=window_size,\n",
    "                          iter=iter_num)"
   ]
  },
  {
   "cell_type": "code",
   "execution_count": 7,
   "metadata": {},
   "outputs": [
    {
     "data": {
      "text/plain": [
       "array([ 1.0843617 , -0.3798569 ,  3.3713017 , -0.84081286,  1.6296694 ,\n",
       "        1.2485127 ,  1.5891131 ,  1.1345139 , -0.25329813, -0.566124  ,\n",
       "        0.54725564,  1.1673039 ,  0.47734264,  3.193037  , -1.0500451 ,\n",
       "        0.66397786, -2.780213  , -2.0588603 , -0.66107243, -0.10212222,\n",
       "       -2.6570346 ,  0.4821944 ,  1.7026    , -0.4544317 , -0.24422662,\n",
       "        0.08306962, -1.3305839 , -0.98428774,  0.47898075,  2.8967307 ,\n",
       "       -1.4286901 ,  1.8021398 , -0.15195733, -1.033426  , -2.2507792 ,\n",
       "        1.2887895 , -0.16526903,  1.8795787 ,  1.3352832 , -1.0936543 ,\n",
       "       -1.2192235 , -1.753939  ,  2.103858  ,  2.3448923 ,  2.2743788 ,\n",
       "       -1.2590891 ,  2.0361905 , -1.3777632 , -1.097232  ,  3.997124  ,\n",
       "        2.599095  ,  0.49616027,  2.5342722 ,  0.2036998 ,  1.9263409 ,\n",
       "        2.5849018 , -1.6080322 ,  0.24251465, -2.731308  ,  1.3693608 ,\n",
       "        0.39544258, -1.1566558 , -0.15546408,  1.3383292 , -0.30760112,\n",
       "        0.6412667 ,  0.89011425,  0.32591006, -1.5986617 ,  2.6516707 ,\n",
       "        1.437318  , -0.26778498,  0.89268124,  1.2426904 , -1.355201  ,\n",
       "       -0.42261982,  0.2433033 ,  3.0127063 ,  2.035366  , -0.4953479 ,\n",
       "        1.8260839 , -2.2644124 , -0.80070233,  1.3689237 ,  0.38030323,\n",
       "       -0.64632505, -0.93935287,  0.6916602 ,  1.1589365 , -0.9330502 ,\n",
       "       -1.6856462 ,  1.1214619 ,  1.4103489 ,  0.8786831 ,  0.01817319,\n",
       "       -1.097657  , -0.00523041,  2.5505598 , -2.3682396 ,  0.6843572 ],\n",
       "      dtype=float32)"
      ]
     },
     "execution_count": 7,
     "metadata": {},
     "output_type": "execute_result"
    }
   ],
   "source": [
    "model.wv[\"C\"]"
   ]
  },
  {
   "cell_type": "code",
   "execution_count": 8,
   "metadata": {},
   "outputs": [],
   "source": [
    "embeddings={chord:model.wv[chord] for chord in model.wv.vocab.keys()} "
   ]
  },
  {
   "cell_type": "code",
   "execution_count": 9,
   "metadata": {},
   "outputs": [
    {
     "data": {
      "text/plain": [
       "array([-0.9807487 ,  0.9326386 ,  0.9295933 ,  0.22560771, -0.6048424 ,\n",
       "       -0.6344396 ,  0.87064207, -0.805689  , -0.2907112 ,  2.3734503 ,\n",
       "       -0.692096  , -0.5265311 ,  1.8763058 ,  1.3580928 ,  0.17233121,\n",
       "       -0.7753297 , -0.10371967, -0.08882532,  2.9027576 ,  3.9987323 ,\n",
       "        0.8919791 , -0.6547505 ,  0.93628377,  3.74132   ,  0.55665535,\n",
       "        0.09870818,  0.5248192 , -0.41909772,  0.7072046 ,  3.6932912 ,\n",
       "       -1.2471088 ,  1.6755155 , -0.6860865 ,  1.305803  ,  0.60912293,\n",
       "        1.0695328 ,  1.8934368 ,  1.6856627 ,  0.29117227, -1.3019795 ,\n",
       "        2.4370298 , -0.9812268 , -1.7607296 , -0.16583227, -2.962118  ,\n",
       "       -2.2077177 ,  0.9837543 ,  2.4321485 ,  0.31314686,  0.92086893,\n",
       "       -1.335251  ,  0.67577285, -2.782423  , -0.15664002,  1.1061703 ,\n",
       "        0.84373856, -1.4775866 ,  1.7702264 ,  2.0185456 , -2.0644252 ,\n",
       "       -2.437272  , -3.6614807 , -0.828087  ,  1.6616883 ,  0.83314043,\n",
       "        1.8989094 , -1.5643399 ,  3.824229  ,  0.6093559 ,  1.8364031 ,\n",
       "       -0.1844177 , -2.2029922 ,  0.50595874, -1.1096687 ,  1.8458886 ,\n",
       "       -1.4361776 ,  0.9971319 ,  2.0684576 , -0.18668997,  1.7035825 ,\n",
       "       -0.07634577,  0.6184178 ,  1.9345808 , -0.49072924, -3.8400888 ,\n",
       "       -0.01774256, -1.8213294 , -1.5160708 ,  0.42358196,  1.1460716 ,\n",
       "        0.6250408 ,  0.6014249 , -1.744581  ,  1.0197837 ,  0.3986648 ,\n",
       "       -1.3100374 , -0.95999366, -0.0550009 ,  2.2915642 ,  2.5510945 ],\n",
       "      dtype=float32)"
      ]
     },
     "execution_count": 9,
     "metadata": {},
     "output_type": "execute_result"
    }
   ],
   "source": [
    "embeddings[\"A\"]"
   ]
  },
  {
   "cell_type": "code",
   "execution_count": 10,
   "metadata": {},
   "outputs": [],
   "source": [
    "import numpy as np\n",
    "from sklearn.decomposition import PCA  \n",
    "def get_pca_embeddings(embeddings,n_compenents):\n",
    "    chords=[]\n",
    "    embeddings_mat=[]\n",
    "    for chord, embedding in embeddings.items():\n",
    "            chords.append(chord)\n",
    "            embeddings_mat.append(embedding)\n",
    "        \n",
    "    pca = PCA(n_components=n_compenents)                     # 3次元に圧縮するPCAインスタンスを作成\n",
    "    X = pca.fit_transform(np.array(embeddings_mat))\n",
    "    \n",
    "    result={}\n",
    "    for i in range(len(chords)):\n",
    "        result[chords[i]]=X[i]\n",
    "    return result\n"
   ]
  },
  {
   "cell_type": "code",
   "execution_count": 11,
   "metadata": {},
   "outputs": [],
   "source": [
    "pca_embeddings=get_pca_embeddings(embeddings,2)"
   ]
  },
  {
   "cell_type": "code",
   "execution_count": 12,
   "metadata": {},
   "outputs": [
    {
     "data": {
      "text/plain": [
       "array([6.5793314, 8.432776 ], dtype=float32)"
      ]
     },
     "execution_count": 12,
     "metadata": {},
     "output_type": "execute_result"
    }
   ],
   "source": [
    "pca_embeddings[\"A\"]"
   ]
  },
  {
   "cell_type": "code",
   "execution_count": 13,
   "metadata": {},
   "outputs": [],
   "source": [
    "import numpy as np\n",
    "import matplotlib.pyplot as plt\n",
    "%matplotlib inline\n",
    "\n",
    "def plot_embeddings(embeddings,target_chords):\n",
    "    if len(list(embeddings.values())[0]) != 2:\n",
    "        raise Exception(\"Invalid embeddings given.\")\n",
    "    x1=[]\n",
    "    x2=[]\n",
    "    for target_chord in target_chords:\n",
    "        x1.append(embeddings[target_chord][0])\n",
    "        x2.append(embeddings[target_chord][1])\n",
    "\n",
    "    for (i,j,k) in zip(x1,x2,target_chords):\n",
    "            plt.plot(i,j)\n",
    "            plt.annotate(k, xy=(i, j))\n",
    "    plt.show()"
   ]
  },
  {
   "cell_type": "code",
   "execution_count": 14,
   "metadata": {},
   "outputs": [
    {
     "data": {
      "image/png": "[encoded data removed]",
      "text/plain": [
       "<matplotlib.figure.Figure at 0x129bd4438>"
      ]
     },
     "metadata": {},
     "output_type": "display_data"
    }
   ],
   "source": [
    "plot_embeddings(pca_embeddings,[\"A\",\"B\",\"C\",\"D\",\"E\",\"F\",\"G\",\"Bm\",\"C#m\",\"Em\",\"F#m\"])"
   ]
  },
  {
   "cell_type": "code",
   "execution_count": 15,
   "metadata": {},
   "outputs": [
    {
     "name": "stderr",
     "output_type": "stream",
     "text": [
      "/Users/hikaru/.pyenv/versions/anaconda3-4.4.0/lib/python3.6/site-packages/gensim/matutils.py:737: FutureWarning: Conversion of the second argument of issubdtype from `int` to `np.signedinteger` is deprecated. In future, it will be treated as `np.int64 == np.dtype(int).type`.\n",
      "  if np.issubdtype(vec.dtype, np.int):\n"
     ]
    },
    {
     "data": {
      "text/plain": [
       "[('Am', 0.597371518611908),\n",
       " ('Em', 0.5930373668670654),\n",
       " ('C/B', 0.5798251628875732),\n",
       " ('G', 0.5173560976982117),\n",
       " ('Cadd9', 0.497519314289093),\n",
       " ('F', 0.4797593951225281),\n",
       " ('Fadd9', 0.4521275460720062),\n",
       " ('G/B', 0.45109203457832336),\n",
       " ('C/F', 0.4088296890258789),\n",
       " ('Amadd9', 0.405240923166275)]"
      ]
     },
     "execution_count": 15,
     "metadata": {},
     "output_type": "execute_result"
    }
   ],
   "source": [
    "model.wv.most_similar(positive=[\"C\"])"
   ]
  },
  {
   "cell_type": "code",
   "execution_count": 16,
   "metadata": {},
   "outputs": [
    {
     "name": "stderr",
     "output_type": "stream",
     "text": [
      "/Users/hikaru/.pyenv/versions/anaconda3-4.4.0/lib/python3.6/site-packages/gensim/matutils.py:737: FutureWarning: Conversion of the second argument of issubdtype from `int` to `np.signedinteger` is deprecated. In future, it will be treated as `np.int64 == np.dtype(int).type`.\n",
      "  if np.issubdtype(vec.dtype, np.int):\n"
     ]
    },
    {
     "data": {
      "text/plain": [
       "[('Csus4', 0.539544403553009),\n",
       " ('Gsus4', 0.4912540018558502),\n",
       " ('Am', 0.4676171541213989),\n",
       " ('C/B', 0.45021623373031616),\n",
       " ('F', 0.4418523609638214),\n",
       " ('Amadd9', 0.41868144273757935),\n",
       " ('Em', 0.4010193645954132),\n",
       " ('G/B', 0.39310288429260254),\n",
       " ('Cmaj9', 0.3853359520435333),\n",
       " ('Fadd9', 0.37922319769859314)]"
      ]
     },
     "execution_count": 16,
     "metadata": {},
     "output_type": "execute_result"
    }
   ],
   "source": [
    "# Asus4 -A +  C = ?\n",
    "model.wv.most_similar(positive=[\"Asus4\",\"C\"],negative=[\"A\"])"
   ]
  },
  {
   "cell_type": "code",
   "execution_count": 17,
   "metadata": {},
   "outputs": [
    {
     "name": "stderr",
     "output_type": "stream",
     "text": [
      "/Users/hikaru/.pyenv/versions/anaconda3-4.4.0/lib/python3.6/site-packages/gensim/matutils.py:737: FutureWarning: Conversion of the second argument of issubdtype from `int` to `np.signedinteger` is deprecated. In future, it will be treated as `np.int64 == np.dtype(int).type`.\n",
      "  if np.issubdtype(vec.dtype, np.int):\n"
     ]
    },
    {
     "data": {
      "text/plain": [
       "[('C7', 0.4864072799682617),\n",
       " ('Am7', 0.43953531980514526),\n",
       " ('C/B', 0.4273948073387146),\n",
       " ('G7', 0.42114418745040894),\n",
       " ('A7+5', 0.40817809104919434),\n",
       " ('C/E', 0.38820958137512207),\n",
       " ('Gm7/C', 0.38304403424263),\n",
       " ('Am7/D', 0.38024261593818665),\n",
       " ('Dm/C', 0.3759441375732422),\n",
       " ('C/F', 0.3753754496574402)]"
      ]
     },
     "execution_count": 17,
     "metadata": {},
     "output_type": "execute_result"
    }
   ],
   "source": [
    "# A7 -A +  C = ?\n",
    "model.wv.most_similar(positive=[\"A7\",\"C\"],negative=[\"A\"])"
   ]
  },
  {
   "cell_type": "code",
   "execution_count": 18,
   "metadata": {},
   "outputs": [
    {
     "name": "stderr",
     "output_type": "stream",
     "text": [
      "/Users/hikaru/.pyenv/versions/anaconda3-4.4.0/lib/python3.6/site-packages/gensim/matutils.py:737: FutureWarning: Conversion of the second argument of issubdtype from `int` to `np.signedinteger` is deprecated. In future, it will be treated as `np.int64 == np.dtype(int).type`.\n",
      "  if np.issubdtype(vec.dtype, np.int):\n"
     ]
    },
    {
     "data": {
      "text/plain": [
       "[('Em', 0.7174035310745239),\n",
       " ('D', 0.5884319543838501),\n",
       " ('Cadd9', 0.560377836227417),\n",
       " ('Bm', 0.4962432384490967),\n",
       " ('D/G', 0.4831462800502777),\n",
       " ('G/B', 0.40751364827156067),\n",
       " ('D/C', 0.40353888273239136),\n",
       " ('C/B', 0.3735170364379883),\n",
       " ('Emadd9', 0.3557337522506714),\n",
       " ('Cmaj9', 0.35384368896484375)]"
      ]
     },
     "execution_count": 18,
     "metadata": {},
     "output_type": "execute_result"
    }
   ],
   "source": [
    "# C - F = ? -G (Dになってほしい)\n",
    "model.wv.most_similar(positive=[\"C\",\"G\"],negative=[\"F\"])"
   ]
  },
  {
   "cell_type": "code",
   "execution_count": 19,
   "metadata": {},
   "outputs": [
    {
     "name": "stderr",
     "output_type": "stream",
     "text": [
      "/Users/hikaru/.pyenv/versions/anaconda3-4.4.0/lib/python3.6/site-packages/gensim/matutils.py:737: FutureWarning: Conversion of the second argument of issubdtype from `int` to `np.signedinteger` is deprecated. In future, it will be treated as `np.int64 == np.dtype(int).type`.\n",
      "  if np.issubdtype(vec.dtype, np.int):\n"
     ]
    },
    {
     "data": {
      "text/plain": [
       "[('Bm', 0.683678388595581),\n",
       " ('D/C#', 0.5587323904037476),\n",
       " ('A', 0.538498044013977),\n",
       " ('Gadd9', 0.5211036205291748),\n",
       " ('F#m', 0.5101524591445923),\n",
       " ('A/C#', 0.5041470527648926),\n",
       " ('A/G', 0.4661417603492737),\n",
       " ('BmM7', 0.4379009008407593),\n",
       " ('Gmaj9', 0.40342557430267334),\n",
       " ('Gmaj7', 0.39663657546043396)]"
      ]
     },
     "execution_count": 19,
     "metadata": {},
     "output_type": "execute_result"
    }
   ],
   "source": [
    "# G - C = ? - D (Aになってほしい)\n",
    "model.wv.most_similar(positive=[\"G\",\"D\"],negative=[\"C\"])"
   ]
  },
  {
   "cell_type": "code",
   "execution_count": null,
   "metadata": {},
   "outputs": [],
   "source": []
  }
 ],
 "metadata": {
  "kernelspec": {
   "display_name": "Python 3",
   "language": "python",
   "name": "python3"
  },
  "language_info": {
   "codemirror_mode": {
    "name": "ipython",
    "version": 3
   },
   "file_extension": ".py",
   "mimetype": "text/x-python",
   "name": "python",
   "nbconvert_exporter": "python",
   "pygments_lexer": "ipython3",
   "version": "3.6.2"
  }
 },
 "nbformat": 4,
 "nbformat_minor": 2
}
