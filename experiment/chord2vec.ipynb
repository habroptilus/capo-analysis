{
 "cells": [
  {
   "cell_type": "code",
   "execution_count": 32,
   "metadata": {},
   "outputs": [],
   "source": [
    "from pathlib import Path\n",
    "import sys,os\n",
    "sys.path.append(os.pardir)\n",
    "from tools.preprocess.common import CommonPreprocessor\n",
    "from tools.preprocess.interaction_matrix_generator import InteractionMatrixGenerator\n",
    "from tools.preprocess.bow_vectorizer import BOWVectorizer\n",
    "from scipy.sparse import csr_matrix"
   ]
  },
  {
   "cell_type": "code",
   "execution_count": 33,
   "metadata": {},
   "outputs": [],
   "source": [
    "orignal_path=Path(\"../data/preprocessed_50k.txt\")"
   ]
  },
  {
   "cell_type": "code",
   "execution_count": 34,
   "metadata": {},
   "outputs": [],
   "source": [
    "cp=CommonPreprocessor(split_seed=0)\n",
    "songs=cp.get_song_list(orignal_path,shuffle=True)"
   ]
  },
  {
   "cell_type": "code",
   "execution_count": 35,
   "metadata": {},
   "outputs": [],
   "source": [
    "corpus=[song[\"chords\"] for song in songs]"
   ]
  },
  {
   "cell_type": "code",
   "execution_count": 36,
   "metadata": {},
   "outputs": [
    {
     "name": "stdout",
     "output_type": "stream",
     "text": [
      "[['G#m', 'D#7', 'Emaj7', 'Bmaj7', 'C#m', 'D#7', 'G#m', 'C#m', 'G#m', 'B', 'D#m', 'E', 'B', 'D#m', 'C#m', 'E', 'G#m', 'C#m', 'G#m', 'C#m', 'E', 'D#7', 'C#m', 'G#m', 'E', 'D#m', 'G#m', 'G#m', 'C#m', 'G#m', 'B', 'D#m', 'E', 'B', 'D#m', 'C#m', 'E', 'G#m', 'C#m', 'G#m', 'C#m', 'E', 'D#7', 'C#m', 'G#m', 'E', 'D#m', 'G#m', 'B', 'E', 'F#7', 'B', 'E', 'F#7', 'B', 'G#m', 'C#m', 'G#m', 'B', 'D#m', 'E', 'B', 'D#m', 'C#m', 'E', 'G#m', 'C#m', 'G#m', 'C#m', 'E', 'D#7', 'C#m', 'G#m', 'E', 'D#m', 'G#m', 'C#m', 'G#m', 'C#m', 'E', 'D#7', 'C#m', 'G#m', 'E', 'D#m', 'G#m', 'G#m', 'D#7', 'Emaj7', 'Bmaj7', 'C#m', 'D#7', 'G#m'], ['C#m', 'E', 'E', 'D#m', 'G#m', 'C#m', 'C#m', 'B', 'B9', 'E', 'E', 'D#m', 'G#m', 'C#m', 'C#m', 'B', 'E', 'B', 'A', 'B', 'E', 'B', 'A', 'B', 'E', 'F#', 'G#m', 'F#', 'B', 'E', 'F#', 'C#m', 'C#m', 'D#', 'E', 'D#m', 'C#m', 'D#m', 'E', 'D#m', 'D#', 'C#m', 'E', 'E', 'E', 'D#m', 'G#m', 'C#m', 'C#m', 'B', 'E', 'E', 'D#m', 'G#m', 'C#m', 'C#m', 'B', 'E', 'B', 'A', 'B', 'E', 'B', 'A', 'B', 'E', 'F#', 'G#m', 'F#', 'B', 'E', 'F#', 'C#m', 'C#m', 'D#', 'E', 'D#m', 'C#m', 'D#m', 'E', 'D#m', 'D#', 'C#m', 'E', 'E', 'E', 'D#m', 'G#m', 'C#m', 'C#m', 'B', 'E', 'E', 'D#m', 'G#m', 'C#m', 'C#m', 'B', 'E', 'E', 'D#m', 'G#m', 'C#m', 'C#m', 'B', 'E', 'E', 'D#m', 'G#m', 'C#m', 'C#m', 'E', 'B', 'E', 'B', 'E']]\n"
     ]
    }
   ],
   "source": [
    "print(corpus[0:2])"
   ]
  },
  {
   "cell_type": "code",
   "execution_count": 37,
   "metadata": {},
   "outputs": [],
   "source": [
    "from gensim.models import word2vec\n",
    "embedding_dim=100\n",
    "min_count=5\n",
    "window_size=5\n",
    "iter_num=500\n",
    "#Word2Vecモデルの学習\n",
    "#sizeは特徴量の数、min_count以下の登場数の単語を無視、前後window幅の単語との関係を考慮、iter回数分繰り返し計算\n",
    "model = word2vec.Word2Vec(corpus,\n",
    "                          size=embedding_dim,\n",
    "                          min_count=min_count,\n",
    "                          window=window_size,\n",
    "                          iter=iter_num)"
   ]
  },
  {
   "cell_type": "code",
   "execution_count": 38,
   "metadata": {},
   "outputs": [],
   "source": [
    "# モデルを保存\n",
    "model_name=f\"../result/w2v/{embedding_dim}_{min_count}_{window_size}_{iter_num}.model\"\n",
    "model.save(model_name)\n",
    "# モデルを読み込む\n",
    "#model = word2vec.Word2Vec.load(model_name)"
   ]
  },
  {
   "cell_type": "code",
   "execution_count": 39,
   "metadata": {},
   "outputs": [
    {
     "data": {
      "text/plain": [
       "array([ 1.7627828 ,  4.1292586 , -1.1414402 ,  2.113274  , -2.3671072 ,\n",
       "        1.4871111 , -4.101609  , -1.3398923 ,  0.91001403, -1.1809042 ,\n",
       "        0.2683771 , -0.40124318, -0.34009776, -2.3444686 , -0.33982134,\n",
       "       -1.1174303 ,  0.01715271,  0.46644548,  0.13402621, -1.68627   ,\n",
       "        0.25110674,  1.957146  ,  3.8831487 ,  1.4532067 ,  1.7054573 ,\n",
       "       -0.9458302 ,  1.8324839 ,  2.8148806 ,  3.8060927 ,  1.4768276 ,\n",
       "       -1.6477562 , -1.291749  , -0.2363078 ,  0.74330306,  0.2584769 ,\n",
       "       -0.14075403,  1.149318  , -0.5023122 ,  2.4928374 , -0.6899256 ,\n",
       "       -0.36610606,  2.0725863 ,  3.9791157 , -0.34725863, -1.466989  ,\n",
       "       -3.0874512 , -1.9429235 ,  1.1344913 ,  0.06702226,  0.53449994,\n",
       "        0.30877787, -0.01544588, -2.0475879 , -0.88297325,  0.31447688,\n",
       "        1.1268152 ,  1.1208063 ,  2.125556  , -0.06667987, -0.17809886,\n",
       "        2.6919847 ,  1.8308322 , -1.882578  , -2.3409305 ,  0.06682396,\n",
       "       -2.1567278 , -1.7887228 , -0.47518975,  0.6236791 , -2.063001  ,\n",
       "       -0.9722573 , -2.0397177 ,  3.5696547 , -2.4623094 ,  4.398071  ,\n",
       "        1.477114  ,  4.3685036 , -1.6679846 ,  0.5159768 , -2.794086  ,\n",
       "       -3.1054745 ,  0.39360958, -0.48849595,  1.0551537 , -4.1690836 ,\n",
       "        0.00778692,  2.5854924 , -6.496038  ,  4.466007  ,  3.3310263 ,\n",
       "       -0.22038957,  0.22556014, -2.223838  ,  0.57114804, -0.61661667,\n",
       "       -0.10420077,  0.55254865,  1.8208011 , -1.0024029 ,  1.6233356 ],\n",
       "      dtype=float32)"
      ]
     },
     "execution_count": 39,
     "metadata": {},
     "output_type": "execute_result"
    }
   ],
   "source": [
    "model.wv[\"C\"]"
   ]
  },
  {
   "cell_type": "code",
   "execution_count": 40,
   "metadata": {},
   "outputs": [],
   "source": [
    "# plotするためにdictionaryに整形\n",
    "embeddings={chord:model.wv[chord] for chord in model.wv.vocab.keys()} "
   ]
  },
  {
   "cell_type": "code",
   "execution_count": 41,
   "metadata": {},
   "outputs": [
    {
     "data": {
      "text/plain": [
       "array([-0.84164053, -2.708128  , -1.5031843 ,  0.10624819,  0.93712324,\n",
       "        2.9490561 , -2.8792439 ,  1.1996515 , -1.7974623 ,  0.51605964,\n",
       "        1.9241627 , -0.6417045 ,  1.5698211 ,  2.3496335 ,  1.7565025 ,\n",
       "       -2.2517889 ,  0.9084865 ,  0.8229817 ,  1.9134669 , -0.771404  ,\n",
       "       -0.594913  ,  0.42840764, -3.0942273 ,  1.7496396 , -3.9572923 ,\n",
       "       -5.4960866 , -1.1220648 ,  0.9961791 ,  0.7242714 ,  0.8771595 ,\n",
       "       -2.6269748 , -0.34962443,  1.2920071 ,  0.8251022 ,  0.46004644,\n",
       "        2.3477414 ,  0.1416875 , -2.5281446 , -1.6575052 ,  0.21145107,\n",
       "       -0.42007214,  3.3034995 ,  1.8266159 ,  2.9351158 , -0.56168133,\n",
       "        2.7681382 , -2.2876337 , -0.5408357 ,  2.0826845 , -1.120829  ,\n",
       "       -1.8368589 , -0.6962041 , -2.0798786 , -1.4421339 ,  0.9150132 ,\n",
       "       -2.427797  ,  1.2935431 ,  0.56242484,  1.5157752 ,  5.196926  ,\n",
       "       -1.3561914 ,  2.4739885 , -0.018518  , -0.2962381 ,  0.51154846,\n",
       "       -0.5194284 , -1.0252017 ,  1.2657477 ,  1.2096978 , -0.5232342 ,\n",
       "       -0.15360495, -1.4553636 ,  1.7536738 , -1.9434798 ,  0.54253364,\n",
       "       -0.8799746 , -1.3627204 ,  5.3539734 ,  0.01856821, -2.3443122 ,\n",
       "        0.9932594 ,  5.1104918 , -5.4342637 , -2.1077235 ,  4.735512  ,\n",
       "        1.480953  ,  5.030267  ,  1.810295  , -1.6139011 , -1.6369617 ,\n",
       "        0.9880218 ,  0.3198947 ,  0.3106993 , -1.2583008 , -1.6933669 ,\n",
       "       -0.68901056,  2.4647367 , -0.50559115, -2.634429  ,  1.2259619 ],\n",
       "      dtype=float32)"
      ]
     },
     "execution_count": 41,
     "metadata": {},
     "output_type": "execute_result"
    }
   ],
   "source": [
    "embeddings[\"A\"]"
   ]
  },
  {
   "cell_type": "code",
   "execution_count": 42,
   "metadata": {},
   "outputs": [],
   "source": [
    "import numpy as np\n",
    "from sklearn.decomposition import PCA  \n",
    "def get_pca_embeddings(embeddings,n_compenents):\n",
    "    chords=[]\n",
    "    embeddings_mat=[]\n",
    "    for chord, embedding in embeddings.items():\n",
    "            chords.append(chord)\n",
    "            embeddings_mat.append(embedding)\n",
    "        \n",
    "    pca = PCA(n_components=n_compenents)                     # 3次元に圧縮するPCAインスタンスを作成\n",
    "    X = pca.fit_transform(np.array(embeddings_mat))\n",
    "    \n",
    "    result={}\n",
    "    for i in range(len(chords)):\n",
    "        result[chords[i]]=X[i]\n",
    "    return result\n"
   ]
  },
  {
   "cell_type": "code",
   "execution_count": 43,
   "metadata": {},
   "outputs": [],
   "source": [
    "pca_embeddings=get_pca_embeddings(embeddings,2)"
   ]
  },
  {
   "cell_type": "code",
   "execution_count": 44,
   "metadata": {},
   "outputs": [
    {
     "data": {
      "text/plain": [
       "array([ 3.4817965, 13.602046 ], dtype=float32)"
      ]
     },
     "execution_count": 44,
     "metadata": {},
     "output_type": "execute_result"
    }
   ],
   "source": [
    "pca_embeddings[\"A\"]"
   ]
  },
  {
   "cell_type": "code",
   "execution_count": 45,
   "metadata": {},
   "outputs": [],
   "source": [
    "import numpy as np\n",
    "import matplotlib.pyplot as plt\n",
    "%matplotlib inline\n",
    "\n",
    "def plot_embeddings(embeddings,target_chords):\n",
    "    if len(list(embeddings.values())[0]) != 2:\n",
    "        raise Exception(\"Invalid embeddings given.\")\n",
    "    x1=[]\n",
    "    x2=[]\n",
    "    for target_chord in target_chords:\n",
    "        x1.append(embeddings[target_chord][0])\n",
    "        x2.append(embeddings[target_chord][1])\n",
    "\n",
    "    for (i,j,k) in zip(x1,x2,target_chords):\n",
    "            plt.plot(i,j)\n",
    "            plt.annotate(k, xy=(i, j))\n",
    "    plt.show()"
   ]
  },
  {
   "cell_type": "code",
   "execution_count": 46,
   "metadata": {},
   "outputs": [
    {
     "data": {
      "image/png": "[encoded data removed]",
      "text/plain": [
       "<matplotlib.figure.Figure at 0x114f5f240>"
      ]
     },
     "metadata": {},
     "output_type": "display_data"
    }
   ],
   "source": [
    "plot_embeddings(pca_embeddings,[\"A\",\"B\",\"C\",\"D\",\"E\",\"F\",\"G\",\"Bm\",\"C#m\",\"Em\",\"F#m\"])"
   ]
  },
  {
   "cell_type": "code",
   "execution_count": 47,
   "metadata": {},
   "outputs": [
    {
     "name": "stderr",
     "output_type": "stream",
     "text": [
      "/Users/hikaru/.pyenv/versions/anaconda3-4.4.0/lib/python3.6/site-packages/gensim/matutils.py:737: FutureWarning: Conversion of the second argument of issubdtype from `int` to `np.signedinteger` is deprecated. In future, it will be treated as `np.int64 == np.dtype(int).type`.\n",
      "  if np.issubdtype(vec.dtype, np.int):\n"
     ]
    },
    {
     "data": {
      "text/plain": [
       "[('C/B', 0.6145074367523193),\n",
       " ('Cadd9', 0.596329927444458),\n",
       " ('Am', 0.5841001272201538),\n",
       " ('Em', 0.5790020227432251),\n",
       " ('G/B', 0.5402282476425171),\n",
       " ('G', 0.4994836449623108),\n",
       " ('C/F', 0.48254910111427307),\n",
       " ('F', 0.47810545563697815),\n",
       " ('G/C', 0.4444805085659027),\n",
       " ('Cmaj9', 0.43892884254455566)]"
      ]
     },
     "execution_count": 47,
     "metadata": {},
     "output_type": "execute_result"
    }
   ],
   "source": [
    "model.wv.most_similar(positive=[\"C\"])"
   ]
  },
  {
   "cell_type": "code",
   "execution_count": 48,
   "metadata": {},
   "outputs": [
    {
     "name": "stderr",
     "output_type": "stream",
     "text": [
      "/Users/hikaru/.pyenv/versions/anaconda3-4.4.0/lib/python3.6/site-packages/gensim/matutils.py:737: FutureWarning: Conversion of the second argument of issubdtype from `int` to `np.signedinteger` is deprecated. In future, it will be treated as `np.int64 == np.dtype(int).type`.\n",
      "  if np.issubdtype(vec.dtype, np.int):\n"
     ]
    },
    {
     "data": {
      "text/plain": [
       "[('Csus4', 0.5615717172622681),\n",
       " ('Gsus4', 0.48594969511032104),\n",
       " ('Am', 0.4580533504486084),\n",
       " ('C/B', 0.436903715133667),\n",
       " ('G/B', 0.4276440441608429),\n",
       " ('F', 0.4121154248714447),\n",
       " ('C/A#', 0.4093543291091919),\n",
       " ('Em', 0.4037439823150635),\n",
       " ('Am/G', 0.3950252830982208),\n",
       " ('Fadd9', 0.3900836110115051)]"
      ]
     },
     "execution_count": 48,
     "metadata": {},
     "output_type": "execute_result"
    }
   ],
   "source": [
    "# Asus4 -A +  C = ?\n",
    "model.wv.most_similar(positive=[\"Asus4\",\"C\"],negative=[\"A\"])"
   ]
  },
  {
   "cell_type": "code",
   "execution_count": 49,
   "metadata": {},
   "outputs": [
    {
     "name": "stderr",
     "output_type": "stream",
     "text": [
      "/Users/hikaru/.pyenv/versions/anaconda3-4.4.0/lib/python3.6/site-packages/gensim/matutils.py:737: FutureWarning: Conversion of the second argument of issubdtype from `int` to `np.signedinteger` is deprecated. In future, it will be treated as `np.int64 == np.dtype(int).type`.\n",
      "  if np.issubdtype(vec.dtype, np.int):\n"
     ]
    },
    {
     "data": {
      "text/plain": [
       "[('C7', 0.48901692032814026),\n",
       " ('C/E', 0.44288498163223267),\n",
       " ('Am7', 0.4260050058364868),\n",
       " ('G7', 0.4138847589492798),\n",
       " ('Gm7/C', 0.4089568257331848),\n",
       " ('C/F', 0.40648773312568665),\n",
       " ('Dm7/G', 0.40488165616989136),\n",
       " ('Cadd9', 0.40399545431137085),\n",
       " ('G7sus4', 0.3991324305534363),\n",
       " ('C7sus4', 0.39309656620025635)]"
      ]
     },
     "execution_count": 49,
     "metadata": {},
     "output_type": "execute_result"
    }
   ],
   "source": [
    "# A7 -A +  C = ?\n",
    "model.wv.most_similar(positive=[\"A7\",\"C\"],negative=[\"A\"])"
   ]
  },
  {
   "cell_type": "code",
   "execution_count": 50,
   "metadata": {},
   "outputs": [
    {
     "name": "stderr",
     "output_type": "stream",
     "text": [
      "/Users/hikaru/.pyenv/versions/anaconda3-4.4.0/lib/python3.6/site-packages/gensim/matutils.py:737: FutureWarning: Conversion of the second argument of issubdtype from `int` to `np.signedinteger` is deprecated. In future, it will be treated as `np.int64 == np.dtype(int).type`.\n",
      "  if np.issubdtype(vec.dtype, np.int):\n"
     ]
    },
    {
     "data": {
      "text/plain": [
       "[('Em', 0.715512216091156),\n",
       " ('Cadd9', 0.6208784580230713),\n",
       " ('D', 0.5858040452003479),\n",
       " ('D/G', 0.5396372079849243),\n",
       " ('Bm', 0.5011054277420044),\n",
       " ('G/B', 0.4714002013206482),\n",
       " ('C/B', 0.4668537676334381),\n",
       " ('Cmaj9', 0.42411768436431885),\n",
       " ('D/C', 0.41762834787368774),\n",
       " ('Em/D', 0.4074915945529938)]"
      ]
     },
     "execution_count": 50,
     "metadata": {},
     "output_type": "execute_result"
    }
   ],
   "source": [
    "# C - F = ? -G (Dになってほしい)\n",
    "model.wv.most_similar(positive=[\"C\",\"G\"],negative=[\"F\"])"
   ]
  },
  {
   "cell_type": "code",
   "execution_count": 51,
   "metadata": {},
   "outputs": [
    {
     "name": "stderr",
     "output_type": "stream",
     "text": [
      "/Users/hikaru/.pyenv/versions/anaconda3-4.4.0/lib/python3.6/site-packages/gensim/matutils.py:737: FutureWarning: Conversion of the second argument of issubdtype from `int` to `np.signedinteger` is deprecated. In future, it will be treated as `np.int64 == np.dtype(int).type`.\n",
      "  if np.issubdtype(vec.dtype, np.int):\n"
     ]
    },
    {
     "data": {
      "text/plain": [
       "[('Bm', 0.6653912663459778),\n",
       " ('D/C#', 0.5867408514022827),\n",
       " ('Gadd9', 0.5574911832809448),\n",
       " ('A/C#', 0.5171676874160767),\n",
       " ('A', 0.5170414447784424),\n",
       " ('F#m', 0.5085448026657104),\n",
       " ('A/G', 0.5077006816864014),\n",
       " ('Gmaj9', 0.4526748061180115),\n",
       " ('Dadd9', 0.434846431016922),\n",
       " ('D/G', 0.42988044023513794)]"
      ]
     },
     "execution_count": 51,
     "metadata": {},
     "output_type": "execute_result"
    }
   ],
   "source": [
    "# G - C = ? - D (Aになってほしい)\n",
    "model.wv.most_similar(positive=[\"G\",\"D\"],negative=[\"C\"])"
   ]
  },
  {
   "cell_type": "code",
   "execution_count": null,
   "metadata": {},
   "outputs": [],
   "source": []
  }
 ],
 "metadata": {
  "kernelspec": {
   "display_name": "Python 3",
   "language": "python",
   "name": "python3"
  },
  "language_info": {
   "codemirror_mode": {
    "name": "ipython",
    "version": 3
   },
   "file_extension": ".py",
   "mimetype": "text/x-python",
   "name": "python",
   "nbconvert_exporter": "python",
   "pygments_lexer": "ipython3",
   "version": "3.6.2"
  }
 },
 "nbformat": 4,
 "nbformat_minor": 2
}
