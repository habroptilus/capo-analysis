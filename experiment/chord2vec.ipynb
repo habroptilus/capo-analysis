{
 "cells": [
  {
   "cell_type": "code",
   "execution_count": 2,
   "metadata": {},
   "outputs": [],
   "source": [
    "from pathlib import Path\n",
    "import sys,os\n",
    "sys.path.append(os.pardir)\n",
    "from tools.preprocess.common import CommonPreprocessor\n",
    "from tools.preprocess.interaction_matrix_generator import InteractionMatrixGenerator\n",
    "from tools.preprocess.bow_vectorizer import BOWVectorizer\n",
    "from scipy.sparse import csr_matrix"
   ]
  },
  {
   "cell_type": "code",
   "execution_count": 3,
   "metadata": {},
   "outputs": [],
   "source": [
    "orignal_path=Path(\"../data/preprocessed_50k.txt\")"
   ]
  },
  {
   "cell_type": "code",
   "execution_count": 4,
   "metadata": {},
   "outputs": [],
   "source": [
    "cp=CommonPreprocessor(split_seed=0)\n",
    "songs=cp.get_song_list(orignal_path,shuffle=True)"
   ]
  },
  {
   "cell_type": "code",
   "execution_count": 5,
   "metadata": {},
   "outputs": [],
   "source": [
    "corpus=[song[\"chords\"] for song in songs]"
   ]
  },
  {
   "cell_type": "code",
   "execution_count": 6,
   "metadata": {},
   "outputs": [
    {
     "name": "stdout",
     "output_type": "stream",
     "text": [
      "[['Dm', 'D#dim', 'Gm', 'D', 'Gm', 'C', 'F', 'A', 'Dm', 'D#dim', 'Gm', 'D', 'Gm', 'Dm', 'A7', 'Dm', 'A', 'Dm', 'im', 'A', 'Dm', 'D7', 'Gm', 'Dm', 'im', 'A', 'Dm', 'im', 'A', 'Dm', 'D7', 'Gm', 'Dm', 'A7', 'Dm', 'F', 'D#dim', 'Gm', 'F#aug', 'A#', 'Em7-5', 'Gm', 'Gm7', 'Gm6', 'Gm7', 'C', 'C/A#', 'F', 'D#dim', 'Gm', 'F#aug', 'A#', 'Em7-5', 'Gm', 'Gm7', 'Gm6', 'Gm7', 'E7', 'A7', 'Dm', 'A#', 'C', 'F', 'A7', 'Dm', 'A#', 'im', 'A7', 'Dm', 'Dm', 'im', 'A', 'Dm', 'D7', 'Gm', 'Dm', 'im', 'A', 'Dm', 'im', 'A', 'Dm', 'D7', 'Gm', 'Dm', 'A7', 'Dm', 'F', 'D#dim', 'Gm', 'F#aug', 'A#', 'Em7-5', 'Gm', 'Gm7', 'Gm6', 'Gm7', 'C', 'C/A#', 'F', 'D#dim', 'Gm', 'F#aug', 'A#', 'Em7-5', 'Gm', 'Gm7', 'Gm6', 'Gm7', 'E7', 'A7', 'Dm', 'A#', 'C', 'F', 'A7', 'Dm', 'A#', 'C#dim', 'A', 'Dm', 'Dm', 'Gm', 'C', 'F', 'Dm', 'Gm', 'A7', 'F#', 'B', 'Em', 'B', 'B7', 'Em', 'E7', 'Am', 'Em', 'B', 'Em', 'G', 'G#dim', 'Am', 'G#aug', 'C', 'F#m7-5', 'Am', 'D', 'G', 'G#dim', 'Am', 'G#aug', 'C', 'F#m7-5', 'C', 'F#', 'B', 'Em', 'C', 'D', 'G', 'B', 'Em', 'C', 'D#dim', 'B', 'Em', 'Em', 'C', 'D', 'G', 'B', 'Em', 'C', 'D#dim', 'B', 'Em', 'Em', 'G#dim', 'Am', 'B', 'Am', 'Em', 'B7', 'Em', 'B', 'Em'], ['G', 'Bm', 'C', 'D', 'G', 'Bm', 'C', 'D', 'G', 'Bm', 'C', 'D', 'G', 'Bm', 'C', 'D', 'G', 'Bm', 'C', 'G', 'C', 'D', 'G', 'D', 'G', 'Bm', 'C', 'G', 'C', 'D', 'G', 'D', 'G', 'Bm', 'C', 'G', 'C', 'D', 'G', 'D', 'G', 'Bm', 'C', 'G', 'C', 'D', 'G', 'D', 'Em', 'C', 'D', 'G', 'Em', 'C', 'D', 'G', 'Em', 'C', 'D', 'G', 'C', 'D', 'G', 'D', 'Em', 'Bm', 'C', 'D', 'G', 'D', 'G', 'D', 'Em', 'Bm', 'C', 'D', 'G', 'Bm', 'C', 'D', 'G', 'Bm', 'C', 'D', 'G', 'Bm', 'C', 'G', 'C', 'D', 'G', 'D', 'G', 'Bm', 'C', 'G', 'C', 'D', 'G', 'D', 'Em', 'C', 'D', 'G', 'Em', 'C', 'D', 'G', 'Em', 'C', 'D', 'G', 'C', 'D', 'G', 'D', 'Em', 'Bm', 'C', 'G', 'C', 'D', 'G', 'D', 'Em', 'Bm', 'C', 'D', 'G', 'D', 'Em', 'Bm', 'C', 'D', 'G', 'D', 'G', 'D', 'Em', 'Bm', 'C', 'D', 'G', 'D', 'Em', 'Bm', 'C', 'D', 'G', 'D', 'G', 'D', 'Em', 'Bm', 'C', 'D', 'G', 'Bm', 'C', 'D', 'G', 'Bm', 'C', 'D', 'G', 'Bm', 'C', 'D', 'G', 'Bm', 'C', 'G']]\n"
     ]
    }
   ],
   "source": [
    "print(corpus[0:2])"
   ]
  },
  {
   "cell_type": "code",
   "execution_count": 7,
   "metadata": {},
   "outputs": [],
   "source": [
    "from gensim.models import word2vec\n",
    "embedding_dim=100\n",
    "min_count=5\n",
    "window_size=5\n",
    "iter_num=100\n",
    "#Word2Vecモデルの学習\n",
    "#sizeは特徴量の数、min_count以下の登場数の単語を無視、前後window幅の単語との関係を考慮、iter回数分繰り返し計算\n",
    "model = word2vec.Word2Vec(corpus,\n",
    "                          size=embedding_dim,\n",
    "                          min_count=min_count,\n",
    "                          window=window_size,\n",
    "                          iter=iter_num)"
   ]
  },
  {
   "cell_type": "code",
   "execution_count": 22,
   "metadata": {},
   "outputs": [],
   "source": [
    "# モデルを保存\n",
    "model_name=f\"../result/w2v/{embedding_dim}_{min_count}_{window_size}_{iter_num}.model\"\n",
    "model.save(model_name)\n",
    "# モデルを読み込む\n",
    "#model = word2vec.Word2Vec.load(model_name)"
   ]
  },
  {
   "cell_type": "code",
   "execution_count": 8,
   "metadata": {},
   "outputs": [
    {
     "data": {
      "text/plain": [
       "array([ 0.16397743,  0.7332073 ,  2.5704796 ,  2.361219  , -2.4860144 ,\n",
       "       -1.3689091 , -2.5507064 ,  3.3757603 ,  0.5352692 ,  0.8052814 ,\n",
       "       -0.3095889 , -3.463783  , -1.052591  ,  2.1935248 , -2.198622  ,\n",
       "        2.2323647 ,  3.7585995 , -0.9689506 , -1.2977624 , -0.03497463,\n",
       "       -0.30850303,  0.10176049, -0.7189551 ,  0.2065243 , -1.2454779 ,\n",
       "        1.20616   ,  1.0331571 ,  0.24479474, -1.0783827 , -0.8330799 ,\n",
       "        0.898239  ,  2.3501332 , -0.3292794 , -0.69160384, -2.760942  ,\n",
       "       -0.43328184,  0.3050723 ,  0.14713882, -1.7206968 , -0.15217245,\n",
       "       -1.4487048 ,  0.90307766, -0.21688323,  0.01078837,  2.2076182 ,\n",
       "        1.1643547 ,  0.81687444,  1.7788815 ,  3.0742536 , -1.0196886 ,\n",
       "        1.1963902 ,  0.89478254, -2.689441  ,  1.4816431 ,  3.8155208 ,\n",
       "       -1.2524403 ,  0.6993776 , -0.36739808, -1.416889  , -1.0383703 ,\n",
       "        0.9405935 , -2.0926843 , -1.8561302 , -1.3823496 , -1.6385095 ,\n",
       "        0.6236518 , -0.6823156 , -1.3199062 ,  2.6200514 , -0.7104485 ,\n",
       "        2.4732845 , -1.7889342 , -0.80789906, -1.1351347 ,  0.76446265,\n",
       "        0.40036112, -0.5215529 ,  1.2798522 , -0.02521746,  0.8909913 ,\n",
       "        0.25522718,  2.1870356 , -0.6178733 ,  0.38573462, -1.4369836 ,\n",
       "        2.0573373 ,  1.6966854 ,  0.58899564,  0.3298648 , -0.42343313,\n",
       "        0.02867685,  0.3831951 ,  0.13447554, -1.2392868 , -2.1420736 ,\n",
       "        1.7812    , -1.2649883 ,  0.7851443 ,  2.6905904 , -1.1373386 ],\n",
       "      dtype=float32)"
      ]
     },
     "execution_count": 8,
     "metadata": {},
     "output_type": "execute_result"
    }
   ],
   "source": [
    "model.wv[\"C\"]"
   ]
  },
  {
   "cell_type": "code",
   "execution_count": 9,
   "metadata": {},
   "outputs": [],
   "source": [
    "# plotするためにdictionaryに整形\n",
    "embeddings={chord:model.wv[chord] for chord in model.wv.vocab.keys()} "
   ]
  },
  {
   "cell_type": "code",
   "execution_count": 10,
   "metadata": {},
   "outputs": [
    {
     "data": {
      "text/plain": [
       "array([-1.4233795 , -2.41366   , -0.95172936, -3.512623  , -0.3807243 ,\n",
       "       -0.01811187, -2.4655256 , -1.086641  ,  0.4035932 ,  1.3251898 ,\n",
       "       -0.49166775,  0.37475407,  4.630537  , -2.312422  ,  0.39190856,\n",
       "        2.4221268 , -0.662741  , -1.7384844 ,  0.55849206, -1.3075858 ,\n",
       "       -0.08504259, -0.22482987,  0.9211012 ,  0.44926807, -0.29663312,\n",
       "       -0.7586604 ,  0.07182553,  1.1490828 ,  1.0986162 , -0.76202756,\n",
       "       -2.076986  , -1.1764024 , -1.4836978 , -0.62594044, -1.353033  ,\n",
       "        0.47503248, -0.06974667, -1.2282121 ,  0.71890414,  0.13477933,\n",
       "       -0.18613714, -3.490852  , -0.19672763, -0.45450568,  3.2886798 ,\n",
       "       -1.7605547 ,  1.098053  , -1.4573534 ,  1.1545411 , -1.310436  ,\n",
       "        1.8059956 ,  0.2038254 , -0.7532745 , -1.1443138 ,  0.22331506,\n",
       "        0.60229766,  0.76921874,  1.0692495 , -1.8031161 , -1.5357994 ,\n",
       "        0.9012527 ,  1.2927516 , -2.455928  , -0.02987005,  3.220914  ,\n",
       "        3.5001779 , -3.3768551 , -0.7665462 ,  2.226847  ,  1.4852322 ,\n",
       "       -0.526564  , -2.2541718 ,  1.2014824 , -1.2464048 , -2.1097753 ,\n",
       "        0.10803686, -0.3594286 , -1.364264  ,  0.30182576, -0.3559472 ,\n",
       "       -0.5493234 , -2.0434766 ,  2.2320628 ,  0.62153834, -0.850837  ,\n",
       "        2.4072292 , -0.22215731, -2.6005437 , -2.0388584 ,  1.3275905 ,\n",
       "        1.6109757 , -4.588307  , -0.8973209 ,  0.06266753, -0.60362804,\n",
       "       -0.8151093 ,  0.94668025,  2.6495273 ,  1.4140735 ,  1.0279825 ],\n",
       "      dtype=float32)"
      ]
     },
     "execution_count": 10,
     "metadata": {},
     "output_type": "execute_result"
    }
   ],
   "source": [
    "embeddings[\"A\"]"
   ]
  },
  {
   "cell_type": "code",
   "execution_count": 11,
   "metadata": {},
   "outputs": [],
   "source": [
    "import numpy as np\n",
    "from sklearn.decomposition import PCA  \n",
    "def get_pca_embeddings(embeddings,n_compenents):\n",
    "    chords=[]\n",
    "    embeddings_mat=[]\n",
    "    for chord, embedding in embeddings.items():\n",
    "            chords.append(chord)\n",
    "            embeddings_mat.append(embedding)\n",
    "        \n",
    "    pca = PCA(n_components=n_compenents)                     # 3次元に圧縮するPCAインスタンスを作成\n",
    "    X = pca.fit_transform(np.array(embeddings_mat))\n",
    "    \n",
    "    result={}\n",
    "    for i in range(len(chords)):\n",
    "        result[chords[i]]=X[i]\n",
    "    return result\n"
   ]
  },
  {
   "cell_type": "code",
   "execution_count": 12,
   "metadata": {},
   "outputs": [],
   "source": [
    "pca_embeddings=get_pca_embeddings(embeddings,2)"
   ]
  },
  {
   "cell_type": "code",
   "execution_count": 13,
   "metadata": {},
   "outputs": [
    {
     "data": {
      "text/plain": [
       "array([4.189642, 9.71379 ], dtype=float32)"
      ]
     },
     "execution_count": 13,
     "metadata": {},
     "output_type": "execute_result"
    }
   ],
   "source": [
    "pca_embeddings[\"A\"]"
   ]
  },
  {
   "cell_type": "code",
   "execution_count": 14,
   "metadata": {},
   "outputs": [],
   "source": [
    "import numpy as np\n",
    "import matplotlib.pyplot as plt\n",
    "%matplotlib inline\n",
    "\n",
    "def plot_embeddings(embeddings,target_chords):\n",
    "    if len(list(embeddings.values())[0]) != 2:\n",
    "        raise Exception(\"Invalid embeddings given.\")\n",
    "    x1=[]\n",
    "    x2=[]\n",
    "    for target_chord in target_chords:\n",
    "        x1.append(embeddings[target_chord][0])\n",
    "        x2.append(embeddings[target_chord][1])\n",
    "\n",
    "    for (i,j,k) in zip(x1,x2,target_chords):\n",
    "            plt.plot(i,j)\n",
    "            plt.annotate(k, xy=(i, j))\n",
    "    plt.show()"
   ]
  },
  {
   "cell_type": "code",
   "execution_count": 15,
   "metadata": {},
   "outputs": [
    {
     "data": {
      "image/png": "[encoded data removed]",
      "text/plain": [
       "<matplotlib.figure.Figure at 0x11e6d5550>"
      ]
     },
     "metadata": {},
     "output_type": "display_data"
    }
   ],
   "source": [
    "plot_embeddings(pca_embeddings,[\"A\",\"B\",\"C\",\"D\",\"E\",\"F\",\"G\",\"Bm\",\"C#m\",\"Em\",\"F#m\"])"
   ]
  },
  {
   "cell_type": "code",
   "execution_count": 16,
   "metadata": {},
   "outputs": [
    {
     "name": "stderr",
     "output_type": "stream",
     "text": [
      "/Users/hikaru/.pyenv/versions/anaconda3-4.4.0/lib/python3.6/site-packages/gensim/matutils.py:737: FutureWarning: Conversion of the second argument of issubdtype from `int` to `np.signedinteger` is deprecated. In future, it will be treated as `np.int64 == np.dtype(int).type`.\n",
      "  if np.issubdtype(vec.dtype, np.int):\n"
     ]
    },
    {
     "data": {
      "text/plain": [
       "[('Am', 0.5813087224960327),\n",
       " ('C/B', 0.5773550271987915),\n",
       " ('Em', 0.5757307410240173),\n",
       " ('Cadd9', 0.5067083239555359),\n",
       " ('G', 0.4938048720359802),\n",
       " ('F', 0.48986542224884033),\n",
       " ('G/B', 0.4786264896392822),\n",
       " ('Fadd9', 0.4473574161529541),\n",
       " ('C/F', 0.3991090655326843),\n",
       " ('Csus4', 0.3860374391078949)]"
      ]
     },
     "execution_count": 16,
     "metadata": {},
     "output_type": "execute_result"
    }
   ],
   "source": [
    "model.wv.most_similar(positive=[\"C\"])"
   ]
  },
  {
   "cell_type": "code",
   "execution_count": 17,
   "metadata": {},
   "outputs": [
    {
     "name": "stderr",
     "output_type": "stream",
     "text": [
      "/Users/hikaru/.pyenv/versions/anaconda3-4.4.0/lib/python3.6/site-packages/gensim/matutils.py:737: FutureWarning: Conversion of the second argument of issubdtype from `int` to `np.signedinteger` is deprecated. In future, it will be treated as `np.int64 == np.dtype(int).type`.\n",
      "  if np.issubdtype(vec.dtype, np.int):\n"
     ]
    },
    {
     "data": {
      "text/plain": [
       "[('Csus4', 0.5621625185012817),\n",
       " ('Gsus4', 0.4739730656147003),\n",
       " ('Am', 0.45249634981155396),\n",
       " ('C/B', 0.42396777868270874),\n",
       " ('F', 0.42348283529281616),\n",
       " ('G/B', 0.41407307982444763),\n",
       " ('Amadd9', 0.39279454946517944),\n",
       " ('C/A#', 0.38959264755249023),\n",
       " ('Cmaj9', 0.3764427602291107),\n",
       " ('Em', 0.365997314453125)]"
      ]
     },
     "execution_count": 17,
     "metadata": {},
     "output_type": "execute_result"
    }
   ],
   "source": [
    "# Asus4 -A +  C = ?\n",
    "model.wv.most_similar(positive=[\"Asus4\",\"C\"],negative=[\"A\"])"
   ]
  },
  {
   "cell_type": "code",
   "execution_count": 18,
   "metadata": {},
   "outputs": [
    {
     "name": "stderr",
     "output_type": "stream",
     "text": [
      "/Users/hikaru/.pyenv/versions/anaconda3-4.4.0/lib/python3.6/site-packages/gensim/matutils.py:737: FutureWarning: Conversion of the second argument of issubdtype from `int` to `np.signedinteger` is deprecated. In future, it will be treated as `np.int64 == np.dtype(int).type`.\n",
      "  if np.issubdtype(vec.dtype, np.int):\n"
     ]
    },
    {
     "data": {
      "text/plain": [
       "[('C7', 0.4939231276512146),\n",
       " ('Am7', 0.44036632776260376),\n",
       " ('G7', 0.4199705719947815),\n",
       " ('Gm7/C', 0.4127199351787567),\n",
       " ('C/B', 0.3915141224861145),\n",
       " ('Am7/D', 0.38836607336997986),\n",
       " ('Csus4', 0.3839377760887146),\n",
       " ('Dm7/G', 0.37306979298591614),\n",
       " ('C/E', 0.36626744270324707),\n",
       " ('A7sus4', 0.3658483028411865)]"
      ]
     },
     "execution_count": 18,
     "metadata": {},
     "output_type": "execute_result"
    }
   ],
   "source": [
    "# A7 -A +  C = ?\n",
    "model.wv.most_similar(positive=[\"A7\",\"C\"],negative=[\"A\"])"
   ]
  },
  {
   "cell_type": "code",
   "execution_count": 19,
   "metadata": {},
   "outputs": [
    {
     "name": "stderr",
     "output_type": "stream",
     "text": [
      "/Users/hikaru/.pyenv/versions/anaconda3-4.4.0/lib/python3.6/site-packages/gensim/matutils.py:737: FutureWarning: Conversion of the second argument of issubdtype from `int` to `np.signedinteger` is deprecated. In future, it will be treated as `np.int64 == np.dtype(int).type`.\n",
      "  if np.issubdtype(vec.dtype, np.int):\n"
     ]
    },
    {
     "data": {
      "text/plain": [
       "[('Em', 0.7270631790161133),\n",
       " ('D', 0.5832318067550659),\n",
       " ('Cadd9', 0.5488811731338501),\n",
       " ('D/G', 0.5010926127433777),\n",
       " ('Bm', 0.4944051504135132),\n",
       " ('G/B', 0.4468901753425598),\n",
       " ('Gmaj9', 0.4416068196296692),\n",
       " ('D/C', 0.4088050127029419),\n",
       " ('C/B', 0.3899330794811249),\n",
       " ('Cmaj9', 0.3499351143836975)]"
      ]
     },
     "execution_count": 19,
     "metadata": {},
     "output_type": "execute_result"
    }
   ],
   "source": [
    "# C - F = ? -G (Dになってほしい)\n",
    "model.wv.most_similar(positive=[\"C\",\"G\"],negative=[\"F\"])"
   ]
  },
  {
   "cell_type": "code",
   "execution_count": 31,
   "metadata": {},
   "outputs": [
    {
     "name": "stderr",
     "output_type": "stream",
     "text": [
      "/Users/hikaru/.pyenv/versions/anaconda3-4.4.0/lib/python3.6/site-packages/gensim/matutils.py:737: FutureWarning: Conversion of the second argument of issubdtype from `int` to `np.signedinteger` is deprecated. In future, it will be treated as `np.int64 == np.dtype(int).type`.\n",
      "  if np.issubdtype(vec.dtype, np.int):\n"
     ]
    },
    {
     "data": {
      "text/plain": [
       "[('Bm', 0.6755796670913696),\n",
       " ('D/C#', 0.5611920356750488),\n",
       " ('A', 0.5295631885528564),\n",
       " ('F#m', 0.5200337767601013),\n",
       " ('Gadd9', 0.5147854089736938),\n",
       " ('A/G', 0.5030473470687866),\n",
       " ('Gmaj9', 0.49371537566185),\n",
       " ('A/C#', 0.49369415640830994),\n",
       " ('BmM7', 0.4056265950202942),\n",
       " ('Gmaj7', 0.39831846952438354)]"
      ]
     },
     "execution_count": 31,
     "metadata": {},
     "output_type": "execute_result"
    }
   ],
   "source": [
    "# G - C = ? - D (Aになってほしい)\n",
    "model.wv.most_similar(positive=[\"G\",\"D\"],negative=[\"C\"])"
   ]
  },
  {
   "cell_type": "code",
   "execution_count": null,
   "metadata": {},
   "outputs": [],
   "source": []
  },
  {
   "cell_type": "code",
   "execution_count": null,
   "metadata": {},
   "outputs": [],
   "source": []
  }
 ],
 "metadata": {
  "kernelspec": {
   "display_name": "Python 3",
   "language": "python",
   "name": "python3"
  },
  "language_info": {
   "codemirror_mode": {
    "name": "ipython",
    "version": 3
   },
   "file_extension": ".py",
   "mimetype": "text/x-python",
   "name": "python",
   "nbconvert_exporter": "python",
   "pygments_lexer": "ipython3",
   "version": "3.6.2"
  }
 },
 "nbformat": 4,
 "nbformat_minor": 2
}
