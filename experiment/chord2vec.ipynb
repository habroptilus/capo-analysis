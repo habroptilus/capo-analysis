{
 "cells": [
  {
   "cell_type": "code",
   "execution_count": 1,
   "metadata": {},
   "outputs": [],
   "source": [
    "from pathlib import Path\n",
    "import sys,os\n",
    "sys.path.append(os.pardir)\n",
    "from tools.preprocess.common import CommonPreprocessor\n",
    "from tools.preprocess.interaction_matrix_generator import InteractionMatrixGenerator\n",
    "from tools.preprocess.bow_vectorizer import BOWVectorizer\n",
    "from scipy.sparse import csr_matrix"
   ]
  },
  {
   "cell_type": "code",
   "execution_count": 2,
   "metadata": {},
   "outputs": [],
   "source": [
    "orignal_path=Path(\"../data/preprocessed_50k.txt\")"
   ]
  },
  {
   "cell_type": "code",
   "execution_count": 3,
   "metadata": {},
   "outputs": [],
   "source": [
    "cp=CommonPreprocessor(split_seed=0)\n",
    "songs=cp.get_song_list(orignal_path,shuffle=True)"
   ]
  },
  {
   "cell_type": "code",
   "execution_count": 6,
   "metadata": {},
   "outputs": [],
   "source": [
    "corpus=[song[\"chords\"] for song in songs]"
   ]
  },
  {
   "cell_type": "code",
   "execution_count": 78,
   "metadata": {},
   "outputs": [
    {
     "name": "stdout",
     "output_type": "stream",
     "text": [
      "[['A#', 'C', 'Dm', 'Am', 'A#', 'C', 'Gm', 'F', 'A#', 'C', 'Dm', 'A#', 'F', 'A#', 'A', 'Dm', 'A#', 'C', 'A#', 'C', 'Dm', 'A#', 'C', 'F', 'A#', 'A', 'Dm', 'A#', 'C', 'Dm', 'C', 'F', 'A#', 'Gm', 'F', 'A#', 'C', 'F', 'A#', 'A', 'Dm', 'A#', 'F', 'G', 'C', 'F', 'A#', 'Am', 'A7', 'Dm', 'Dm7', 'G', 'Gm', 'F', 'Gm7', 'C', 'F', 'A#', 'C', 'Dm', 'A#', 'C', 'F', 'A#', 'A', 'Dm', 'A#', 'C', 'Dm', 'C', 'F', 'A#', 'Gm', 'F', 'A#', 'C', 'F', 'A#', 'A', 'Dm', 'A#', 'F', 'G', 'C', 'F', 'A#', 'Am', 'A7', 'Dm', 'Dm7', 'G', 'Gm', 'F', 'Gm', 'C', 'Dm', 'Dm', 'C', 'F', 'A#', 'F', 'Gm', 'F', 'A#', 'C', 'F', 'A#', 'A', 'Dm', 'A#', 'F', 'G', 'C', 'F', 'A#', 'Am', 'A7', 'Dm', 'Dm7', 'G', 'Gm', 'F', 'Gm', 'C', 'F', 'C', 'F', 'A#', 'A', 'Dm', 'A#', 'F', 'G', 'C', 'F', 'A#', 'Am', 'A7', 'Dm', 'Dm7', 'G', 'A#', 'F', 'Gm', 'C', 'A#', 'A#', 'C', 'Dm', 'Am', 'A#', 'C', 'F'], ['C', 'G', 'G#dim', 'Am', 'C', 'F', 'Fm', 'F', 'C', 'Dm7', 'Gsus4', 'G', 'C', 'G', 'G#dim', 'Am', 'Am7', 'F', 'G', 'C', 'G', 'G#dim', 'Am7', 'G', 'F', 'Gsus4', 'G', 'C', 'G', 'G#dim', 'Am7', 'G', 'F', 'Gsus4', 'G', 'Em7', 'Am7', 'Dm7', 'Gsus4', 'G7', 'Em7', 'Am7', 'Dm7', 'Gsus4', 'G7', 'Esus4', 'E7', 'Am7', 'D', 'Dm7', 'C', 'F', 'Fm', 'Gsus4', 'G', 'C', 'G', 'G#dim', 'Am', 'C', 'F', 'Fm', 'C', 'G', 'G#dim', 'Am', 'C', 'F', 'G', 'F', 'C', 'Dm7', 'Gsus4', 'G', 'C', 'C', 'G', 'G#dim', 'Am', 'Am7', 'F', 'G', 'C', 'G', 'G#dim', 'Am7', 'G', 'F', 'Gsus4', 'G', 'C', 'G', 'G#dim', 'Am7', 'G', 'F', 'Gsus4', 'G', 'Em7', 'Am7', 'Dm7', 'Gsus4', 'G7', 'Em7', 'Am7', 'Dm7', 'Gsus4', 'G7', 'Esus4', 'E7', 'Am7', 'D', 'Dm7', 'C', 'F', 'Fm', 'Gsus4', 'G', 'C', 'G', 'G#dim', 'Am', 'C', 'F', 'Fm', 'C', 'G', 'G#dim', 'Am', 'C', 'F', 'G', 'F', 'C', 'Dm7', 'Gsus4', 'G', 'G#', 'G#', 'D#', 'Fm', 'A#', 'D#', 'Fm', 'F#dim', 'D#', 'G#', 'G7', 'Cm7', 'F7', 'Fm7', 'D#', 'G#', 'A#sus4', 'A#', 'G#', 'D#', 'Fm', 'D#', 'G#', 'D#', 'Fm', 'D#', 'G#', 'G7', 'Cm7', 'F7', 'Fm7', 'D#', 'G#', 'A#sus4', 'A#', 'Gsus4', 'G', 'C', 'G', 'G#dim', 'Am', 'C', 'F', 'Fm', 'C', 'G', 'G#dim', 'Am', 'C', 'F', 'G', 'F', 'C', 'Dm7', 'Gsus4', 'G', 'C', 'C', 'G', 'G#dim', 'Am', 'C', 'F', 'G', 'C', 'G', 'G#dim', 'Am', 'C', 'F', 'G', 'C', 'G', 'G#dim', 'Am', 'C', 'F', 'Gsus4', 'G', 'C']]\n"
     ]
    }
   ],
   "source": [
    "print(corpus[0:2])"
   ]
  },
  {
   "cell_type": "code",
   "execution_count": 11,
   "metadata": {},
   "outputs": [],
   "source": [
    "from gensim.models import word2vec\n",
    "embedding_dim=100\n",
    "min_count=5\n",
    "window_size=5\n",
    "iter_num=100\n",
    "#Word2Vecモデルの学習\n",
    "#sizeは特徴量の数、min_count以下の登場数の単語を無視、前後window幅の単語との関係を考慮、iter回数分繰り返し計算\n",
    "model = word2vec.Word2Vec(corpus,\n",
    "                          size=embedding_dim,\n",
    "                          min_count=min_count,\n",
    "                          window=window_size,\n",
    "                          iter=iter_num)"
   ]
  },
  {
   "cell_type": "code",
   "execution_count": 10,
   "metadata": {},
   "outputs": [
    {
     "data": {
      "text/plain": [
       "array([-5.5054933e-01,  1.7174045e-03,  3.3904481e-01, -1.5828645e-01,\n",
       "        7.7404773e-01,  7.0990276e-01,  6.2992014e-02,  6.8239558e-01,\n",
       "       -7.4145889e-01,  6.4994615e-01, -7.6664007e-01,  9.4928181e-01,\n",
       "       -8.0230737e-01, -1.0083544e+00, -4.4282374e-01,  1.9911971e+00,\n",
       "       -2.5221889e+00, -1.0657988e+00, -1.0075743e+00, -3.2106417e-01,\n",
       "       -8.4217197e-01,  4.9245203e-01, -8.7884724e-01, -9.9153742e-02,\n",
       "        9.0425558e-02,  1.3572326e+00,  5.8617043e-01,  1.5038370e+00,\n",
       "        1.7051998e+00,  8.6596334e-01,  1.4697601e-02, -5.2319348e-01,\n",
       "       -5.9927940e-01,  2.5005883e-01,  6.0444403e-01, -1.6683618e+00,\n",
       "        5.4204859e-02, -1.7618524e-01,  1.1299803e+00,  8.5597622e-01,\n",
       "        1.1392629e+00, -3.0485281e-01, -8.0354726e-01, -1.9633234e-01,\n",
       "       -6.0349351e-01,  9.0053707e-01, -9.0713644e-01,  2.0894186e+00,\n",
       "       -3.3230655e-02, -1.9125445e+00,  1.6688234e+00, -8.4549147e-01,\n",
       "       -5.5267274e-01, -1.3091999e+00, -6.0041171e-01, -5.2903438e-01,\n",
       "       -8.1613737e-01,  2.6432291e-01, -1.0256751e+00, -5.5067241e-01,\n",
       "        7.2845811e-01, -9.0400499e-01,  1.8554447e+00, -1.2370361e+00,\n",
       "       -2.3833117e-02, -9.1457450e-01, -6.4165093e-02,  4.9936205e-01,\n",
       "        3.3873862e-01, -9.4587427e-01, -3.2977697e-01, -1.4166671e+00,\n",
       "       -1.2870799e+00, -1.2697458e+00, -7.1249992e-01, -1.5862222e+00,\n",
       "        8.3046389e-01,  9.4405556e-01,  8.8416266e-01, -8.2847357e-01,\n",
       "       -1.5710284e+00,  6.4923126e-01,  9.8361593e-01,  6.6736437e-02,\n",
       "        7.8783250e-01,  5.1056492e-01, -7.3553669e-01,  3.2500863e-01,\n",
       "        1.1791942e-01, -2.1933462e-01, -6.0306615e-01,  7.8607702e-01,\n",
       "       -1.4577764e+00,  9.0075690e-01,  5.6012064e-01, -1.6083355e-01,\n",
       "       -4.7629860e-01,  1.5416996e+00,  9.1707778e-01, -9.3196839e-01],\n",
       "      dtype=float32)"
      ]
     },
     "execution_count": 10,
     "metadata": {},
     "output_type": "execute_result"
    }
   ],
   "source": [
    "model.wv[\"C\"]"
   ]
  },
  {
   "cell_type": "code",
   "execution_count": 19,
   "metadata": {},
   "outputs": [],
   "source": [
    "embeddings={chord:model.wv[chord] for chord in model.wv.vocab.keys()} "
   ]
  },
  {
   "cell_type": "code",
   "execution_count": 21,
   "metadata": {},
   "outputs": [
    {
     "data": {
      "text/plain": [
       "array([ 1.6983682 , -0.53169745,  3.802511  ,  0.80900866, -2.169045  ,\n",
       "       -2.2486122 ,  0.579829  ,  0.12971859,  0.34026948, -1.6032647 ,\n",
       "       -0.37858585, -2.0730197 ,  2.370974  , -0.31685552, -0.12516257,\n",
       "       -1.9144083 , -0.6993627 ,  1.0367277 , -1.7385987 ,  2.82255   ,\n",
       "       -1.6563466 ,  2.8735178 ,  1.3170363 ,  1.9227277 , -0.5251342 ,\n",
       "        2.2428071 ,  1.0951061 ,  1.0939877 , -0.451325  ,  2.9290237 ,\n",
       "        3.7613947 , -0.9075464 ,  0.04124435, -0.5815385 ,  1.68129   ,\n",
       "        0.3176037 , -2.9820938 , -0.15891942, -2.9691267 , -1.6323147 ,\n",
       "       -2.4022362 , -0.4724166 , -2.1648548 , -1.2740048 ,  2.888083  ,\n",
       "       -0.5898906 , -1.1291133 , -1.7599558 , -0.7114601 , -0.57137394,\n",
       "       -0.3983602 , -2.52075   ,  0.9540429 ,  0.46788082, -0.9103253 ,\n",
       "        3.4525087 ,  0.25804538, -0.1786894 ,  0.37116534,  1.842212  ,\n",
       "        0.2169899 , -1.4113837 , -1.1654589 , -0.6610826 ,  2.261333  ,\n",
       "        1.3988135 ,  1.7932699 ,  0.46399054, -1.2735505 ,  0.9849409 ,\n",
       "        0.22517   ,  0.07802044,  1.454166  , -3.1972451 , -0.9837122 ,\n",
       "       -1.2269948 ,  1.2831379 ,  1.9115509 ,  1.1061943 , -2.1422503 ,\n",
       "       -1.7848402 ,  2.1856797 ,  1.3627746 ,  0.4037086 ,  0.9953451 ,\n",
       "       -1.7521942 ,  0.01931217, -2.0086637 ,  1.007845  , -1.1192696 ,\n",
       "       -0.64537084,  0.06877086,  0.1367902 , -1.2938116 , -0.9679067 ,\n",
       "       -2.0780325 ,  0.4906907 , -2.6314323 ,  1.6157054 ,  0.01636445],\n",
       "      dtype=float32)"
      ]
     },
     "execution_count": 21,
     "metadata": {},
     "output_type": "execute_result"
    }
   ],
   "source": [
    "embeddings[\"A\"]"
   ]
  },
  {
   "cell_type": "code",
   "execution_count": 26,
   "metadata": {},
   "outputs": [],
   "source": [
    "import numpy as np\n",
    "from sklearn.decomposition import PCA  \n",
    "def get_pca_embeddings(embeddings,n_compenents):\n",
    "    chords=[]\n",
    "    embeddings_mat=[]\n",
    "    for chord, embedding in embeddings.items():\n",
    "            chords.append(chord)\n",
    "            embeddings_mat.append(embedding)\n",
    "        \n",
    "    pca = PCA(n_components=n_compenents)                     # 3次元に圧縮するPCAインスタンスを作成\n",
    "    X = pca.fit_transform(np.array(embeddings_mat))\n",
    "    \n",
    "    result={}\n",
    "    for i in range(len(chords)):\n",
    "        result[chords[i]]=X[i]\n",
    "    return result\n"
   ]
  },
  {
   "cell_type": "code",
   "execution_count": 27,
   "metadata": {},
   "outputs": [],
   "source": [
    "pca_embeddings=get_pca_embeddings(embeddings,2)"
   ]
  },
  {
   "cell_type": "code",
   "execution_count": 28,
   "metadata": {},
   "outputs": [
    {
     "data": {
      "text/plain": [
       "array([ 0.4372565, 10.263055 ], dtype=float32)"
      ]
     },
     "execution_count": 28,
     "metadata": {},
     "output_type": "execute_result"
    }
   ],
   "source": [
    "pca_embeddings[\"A\"]"
   ]
  },
  {
   "cell_type": "code",
   "execution_count": 29,
   "metadata": {},
   "outputs": [],
   "source": [
    "import numpy as np\n",
    "import matplotlib.pyplot as plt\n",
    "%matplotlib inline\n",
    "\n",
    "def plot_embeddings(embeddings,target_chords):\n",
    "    if len(list(embeddings.values())[0]) != 2:\n",
    "        raise Exception(\"Invalid embeddings given.\")\n",
    "    x1=[]\n",
    "    x2=[]\n",
    "    for target_chord in target_chords:\n",
    "        x1.append(embeddings[target_chord][0])\n",
    "        x2.append(embeddings[target_chord][1])\n",
    "\n",
    "    for (i,j,k) in zip(x1,x2,target_chords):\n",
    "            plt.plot(i,j)\n",
    "            plt.annotate(k, xy=(i, j))\n",
    "    plt.show()"
   ]
  },
  {
   "cell_type": "code",
   "execution_count": 30,
   "metadata": {},
   "outputs": [
    {
     "data": {
      "image/png": "[encoded data removed]",
      "text/plain": [
       "<matplotlib.figure.Figure at 0x125a7e7b8>"
      ]
     },
     "metadata": {},
     "output_type": "display_data"
    }
   ],
   "source": [
    "plot_embeddings(pca_embeddings,[\"A\",\"B\",\"C\",\"D\",\"E\",\"F\",\"G\",\"Bm\",\"C#m\",\"Em\",\"F#m\"])"
   ]
  },
  {
   "cell_type": "code",
   "execution_count": 41,
   "metadata": {},
   "outputs": [
    {
     "name": "stderr",
     "output_type": "stream",
     "text": [
      "/Users/hikaru/.pyenv/versions/anaconda3-4.4.0/lib/python3.6/site-packages/gensim/matutils.py:737: FutureWarning: Conversion of the second argument of issubdtype from `int` to `np.signedinteger` is deprecated. In future, it will be treated as `np.int64 == np.dtype(int).type`.\n",
      "  if np.issubdtype(vec.dtype, np.int):\n"
     ]
    },
    {
     "data": {
      "text/plain": [
       "[('Am', 0.5865939259529114),\n",
       " ('Em', 0.578809380531311),\n",
       " ('C/B', 0.5783401727676392),\n",
       " ('Cadd9', 0.5087679028511047),\n",
       " ('G', 0.5065913200378418),\n",
       " ('F', 0.4908476769924164),\n",
       " ('G/B', 0.46498677134513855),\n",
       " ('Fadd9', 0.4568909704685211),\n",
       " ('C/F', 0.4015580415725708),\n",
       " ('Csus4', 0.39749595522880554)]"
      ]
     },
     "execution_count": 41,
     "metadata": {},
     "output_type": "execute_result"
    }
   ],
   "source": [
    "model.wv.most_similar(positive=[\"C\"])"
   ]
  },
  {
   "cell_type": "code",
   "execution_count": 45,
   "metadata": {},
   "outputs": [
    {
     "name": "stderr",
     "output_type": "stream",
     "text": [
      "/Users/hikaru/.pyenv/versions/anaconda3-4.4.0/lib/python3.6/site-packages/gensim/matutils.py:737: FutureWarning: Conversion of the second argument of issubdtype from `int` to `np.signedinteger` is deprecated. In future, it will be treated as `np.int64 == np.dtype(int).type`.\n",
      "  if np.issubdtype(vec.dtype, np.int):\n"
     ]
    },
    {
     "data": {
      "text/plain": [
       "[('Csus4', 0.5345200300216675),\n",
       " ('Am', 0.46741580963134766),\n",
       " ('Gsus4', 0.4460044801235199),\n",
       " ('C/B', 0.4396827518939972),\n",
       " ('F', 0.4254304766654968),\n",
       " ('Fadd9', 0.40966564416885376),\n",
       " ('G/B', 0.3947012424468994),\n",
       " ('Em', 0.3909243643283844),\n",
       " ('C/A#', 0.3848145604133606),\n",
       " ('Cmaj9', 0.36638134717941284)]"
      ]
     },
     "execution_count": 45,
     "metadata": {},
     "output_type": "execute_result"
    }
   ],
   "source": [
    "# Asus4 -A +  C = ?\n",
    "model.wv.most_similar(positive=[\"Asus4\",\"C\"],negative=[\"A\"])"
   ]
  },
  {
   "cell_type": "code",
   "execution_count": 55,
   "metadata": {},
   "outputs": [
    {
     "name": "stderr",
     "output_type": "stream",
     "text": [
      "/Users/hikaru/.pyenv/versions/anaconda3-4.4.0/lib/python3.6/site-packages/gensim/matutils.py:737: FutureWarning: Conversion of the second argument of issubdtype from `int` to `np.signedinteger` is deprecated. In future, it will be treated as `np.int64 == np.dtype(int).type`.\n",
      "  if np.issubdtype(vec.dtype, np.int):\n"
     ]
    },
    {
     "data": {
      "text/plain": [
       "[('C7', 0.4960830807685852),\n",
       " ('G7', 0.4305988550186157),\n",
       " ('Am7', 0.4257310628890991),\n",
       " ('Gm7/C', 0.41676074266433716),\n",
       " ('Dm7/G', 0.39892104268074036),\n",
       " ('C7sus4', 0.38774916529655457),\n",
       " ('Am7/D', 0.3856842517852783),\n",
       " ('Csus4', 0.37797966599464417),\n",
       " ('D7sus4', 0.37477242946624756),\n",
       " ('C/B', 0.3733772337436676)]"
      ]
     },
     "execution_count": 55,
     "metadata": {},
     "output_type": "execute_result"
    }
   ],
   "source": [
    "# A7 -A +  C = ?\n",
    "model.wv.most_similar(positive=[\"A7\",\"C\"],negative=[\"A\"])"
   ]
  },
  {
   "cell_type": "code",
   "execution_count": 71,
   "metadata": {},
   "outputs": [
    {
     "name": "stderr",
     "output_type": "stream",
     "text": [
      "/Users/hikaru/.pyenv/versions/anaconda3-4.4.0/lib/python3.6/site-packages/gensim/matutils.py:737: FutureWarning: Conversion of the second argument of issubdtype from `int` to `np.signedinteger` is deprecated. In future, it will be treated as `np.int64 == np.dtype(int).type`.\n",
      "  if np.issubdtype(vec.dtype, np.int):\n"
     ]
    },
    {
     "data": {
      "text/plain": [
       "[('Em', 0.7203870415687561),\n",
       " ('D', 0.587921142578125),\n",
       " ('Cadd9', 0.5511736869812012),\n",
       " ('D/G', 0.5245985388755798),\n",
       " ('Bm', 0.5004382729530334),\n",
       " ('D/C', 0.4321194291114807),\n",
       " ('G/B', 0.4247930943965912),\n",
       " ('C/B', 0.39650917053222656),\n",
       " ('Cmaj7', 0.36923396587371826),\n",
       " ('Cmaj9', 0.3662053346633911)]"
      ]
     },
     "execution_count": 71,
     "metadata": {},
     "output_type": "execute_result"
    }
   ],
   "source": [
    "# C - F = ? -G (Dになってほしい)\n",
    "model.wv.most_similar(positive=[\"C\",\"G\"],negative=[\"F\"])"
   ]
  },
  {
   "cell_type": "code",
   "execution_count": 80,
   "metadata": {},
   "outputs": [
    {
     "name": "stderr",
     "output_type": "stream",
     "text": [
      "/Users/hikaru/.pyenv/versions/anaconda3-4.4.0/lib/python3.6/site-packages/gensim/matutils.py:737: FutureWarning: Conversion of the second argument of issubdtype from `int` to `np.signedinteger` is deprecated. In future, it will be treated as `np.int64 == np.dtype(int).type`.\n",
      "  if np.issubdtype(vec.dtype, np.int):\n"
     ]
    },
    {
     "data": {
      "text/plain": [
       "[('Bm', 0.6714831590652466),\n",
       " ('D/C#', 0.5960005521774292),\n",
       " ('A', 0.5267194509506226),\n",
       " ('F#m', 0.51853346824646),\n",
       " ('Gadd9', 0.49938851594924927),\n",
       " ('Gmaj9', 0.47706353664398193),\n",
       " ('A/C#', 0.466236412525177),\n",
       " ('A/G', 0.45843225717544556),\n",
       " ('Gmaj7', 0.40146172046661377),\n",
       " ('Bmadd9', 0.3773570656776428)]"
      ]
     },
     "execution_count": 80,
     "metadata": {},
     "output_type": "execute_result"
    }
   ],
   "source": [
    "# G - C = ? - D (Aになってほしい)\n",
    "model.wv.most_similar(positive=[\"G\",\"D\"],negative=[\"C\"])"
   ]
  },
  {
   "cell_type": "code",
   "execution_count": null,
   "metadata": {},
   "outputs": [],
   "source": []
  }
 ],
 "metadata": {
  "kernelspec": {
   "display_name": "Python 3",
   "language": "python",
   "name": "python3"
  },
  "language_info": {
   "codemirror_mode": {
    "name": "ipython",
    "version": 3
   },
   "file_extension": ".py",
   "mimetype": "text/x-python",
   "name": "python",
   "nbconvert_exporter": "python",
   "pygments_lexer": "ipython3",
   "version": "3.6.2"
  }
 },
 "nbformat": 4,
 "nbformat_minor": 2
}
