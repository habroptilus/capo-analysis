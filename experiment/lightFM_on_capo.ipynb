{
 "cells": [
  {
   "cell_type": "markdown",
   "metadata": {},
   "source": [
    "# capoデータにlightFMを適用してみる"
   ]
  },
  {
   "cell_type": "code",
   "execution_count": 109,
   "metadata": {},
   "outputs": [],
   "source": [
    "from pathlib import Path\n",
    "import sys,os\n",
    "sys.path.append(os.pardir)\n",
    "from tools.preprocess.common import CommonPreprocessor\n",
    "from tools.preprocess.interaction_matrix_generator import InteractionMatrixGenerator\n",
    "from tools.preprocess.bow_vectorizer import BOWVectorizer\n",
    "from scipy.sparse import csr_matrix"
   ]
  },
  {
   "cell_type": "markdown",
   "metadata": {},
   "source": [
    "## data部分"
   ]
  },
  {
   "cell_type": "code",
   "execution_count": 110,
   "metadata": {},
   "outputs": [],
   "source": [
    "orignal_path=Path(\"../data/preprocessed_50k.txt\")\n",
    "bow_threshold=10000"
   ]
  },
  {
   "cell_type": "code",
   "execution_count": 127,
   "metadata": {},
   "outputs": [],
   "source": [
    "cp=CommonPreprocessor(rare_capo_list=['capo6', 'capo7', \"whole_down\"],test_rate=0.2,split_seed=0)\n",
    "songs=cp.get_song_list(orignal_path,shuffle=True)\n",
    "songs=cp.remove_rare_capo_song(songs)\n",
    "songs_train, songs_test=cp.split_dataset(songs,shuffle=False)"
   ]
  },
  {
   "cell_type": "code",
   "execution_count": 128,
   "metadata": {},
   "outputs": [],
   "source": [
    "generator=InteractionMatrixGenerator(test_rate=0.1)\n",
    "X_train,X_test=generator.generate_matrices(songs)\n",
    "X_train=csr_matrix(X_train)\n",
    "X_test=csr_matrix(X_test)"
   ]
  },
  {
   "cell_type": "code",
   "execution_count": 129,
   "metadata": {},
   "outputs": [],
   "source": [
    "chord_stat_train=cp.retrieve_chord_stat(songs_train)\n",
    "capo_stat_train=cp.retrieve_capo_stat(songs_train)"
   ]
  },
  {
   "cell_type": "code",
   "execution_count": 130,
   "metadata": {},
   "outputs": [],
   "source": [
    "vectorizer=BOWVectorizer(chord_stat=chord_stat_train,threshold=bow_threshold)"
   ]
  },
  {
   "cell_type": "code",
   "execution_count": 131,
   "metadata": {},
   "outputs": [
    {
     "name": "stdout",
     "output_type": "stream",
     "text": [
      "(49882, 62)\n"
     ]
    }
   ],
   "source": [
    "songs_features=vectorizer.get_chord_features(songs)\n",
    "print(songs_features.shape)\n",
    "songs_features=csr_matrix(songs_features)"
   ]
  },
  {
   "cell_type": "markdown",
   "metadata": {},
   "source": [
    "## model部分"
   ]
  },
  {
   "cell_type": "code",
   "execution_count": 132,
   "metadata": {},
   "outputs": [],
   "source": [
    "from lightfm import LightFM\n",
    "from lightfm.datasets import fetch_movielens\n",
    "from lightfm.evaluation import precision_at_k\n",
    "from lightfm.evaluation import auc_score"
   ]
  },
  {
   "cell_type": "code",
   "execution_count": 133,
   "metadata": {},
   "outputs": [],
   "source": [
    "import numpy as np\n",
    "def get_prediction(model,n_songs):\n",
    "    prediction=[]\n",
    "    for i in range(n_songs):\n",
    "        prediction.append(model.predict(user_ids=i,item_ids=[0,1,2,3,4,5,6]))\n",
    "    return np.array(prediction)"
   ]
  },
  {
   "cell_type": "code",
   "execution_count": 134,
   "metadata": {},
   "outputs": [],
   "source": [
    "embedding_dim=5\n",
    "lr=0.01\n",
    "epoch=100\n",
    "k=2"
   ]
  },
  {
   "cell_type": "code",
   "execution_count": 135,
   "metadata": {},
   "outputs": [
    {
     "name": "stdout",
     "output_type": "stream",
     "text": [
      "Precision`@2: train 0.50, test 0.26.\n",
      "AUC: train 0.97, test 0.68.\n"
     ]
    }
   ],
   "source": [
    "warp_model = LightFM(no_components=embedding_dim,learning_rate=lr, loss=\"warp\")\n",
    "warp_model.fit(X_train,item_features=songs_features, epochs=epoch)\n",
    "\n",
    "train_precision = precision_at_k(warp_model, X_train,item_features=songs_features, k=k).mean()\n",
    "test_precision = precision_at_k(warp_model, X_test,item_features=songs_features, k=k).mean()\n",
    "\n",
    "train_auc = auc_score(warp_model, X_train, item_features=songs_features).mean()\n",
    "test_auc = auc_score(warp_model, X_test, item_features=songs_features).mean()\n",
    "\n",
    "print(f\"Precision`@{k}: train {train_precision:.2f}, test {test_precision:.2f}.\")\n",
    "print(f\"AUC: train {train_auc:.2f}, test {test_auc:.2f}.\")"
   ]
  },
  {
   "cell_type": "code",
   "execution_count": 136,
   "metadata": {},
   "outputs": [
    {
     "name": "stdout",
     "output_type": "stream",
     "text": [
      "Precision`@2: train 0.07, test 0.07.\n",
      "AUC: train 0.44, test 0.44.\n"
     ]
    }
   ],
   "source": [
    "from tools.model.baseline import BaselineModel\n",
    "baseline_model=BaselineModel(generator,capo_stat_train)\n",
    "\n",
    "train_precision = precision_at_k(baseline_model, X_train,item_features=songs_features, k=k).mean()\n",
    "test_precision = precision_at_k(baseline_model, X_test,item_features=songs_features, k=k).mean()\n",
    "\n",
    "train_auc = auc_score(baseline_model, X_train, item_features=songs_features).mean()\n",
    "test_auc = auc_score(baseline_model, X_test, item_features=songs_features).mean()\n",
    "\n",
    "print(f\"Precision`@{k}: train {train_precision:.2f}, test {test_precision:.2f}.\")\n",
    "print(f\"AUC: train {train_auc:.2f}, test {test_auc:.2f}.\")"
   ]
  },
  {
   "cell_type": "code",
   "execution_count": 137,
   "metadata": {},
   "outputs": [],
   "source": [
    "def get_chord_embeddings(model,vectorizer):\n",
    "    chord_embeddings={}\n",
    "    for chord, idx in vectorizer.chord_encoder.items():\n",
    "        chord_embeddings[chord]=model.item_embeddings[idx].tolist()\n",
    "    return chord_embeddings\n",
    "\n",
    "def get_capo_embeddings(model,generator):\n",
    "    capo_embeddings={}\n",
    "    capo_names=[hoge.split(\"=\")[-1] for hoge in generator.capo_encoder.get_feature_names()]\n",
    "    for i, capo  in enumerate(capo_names):\n",
    "        capo_embeddings[capo]=model.user_embeddings[i].tolist()\n",
    "    return capo_embeddings\n",
    "\n",
    "def get_embeddings(model,vectorzier,generator):\n",
    "    return {\"capo\":get_capo_embeddings(model,generator),\n",
    "    \"chord\": get_chord_embeddings(model,vectorizer)}"
   ]
  },
  {
   "cell_type": "code",
   "execution_count": 138,
   "metadata": {},
   "outputs": [],
   "source": [
    "embeddings=get_embeddings(warp_model,vectorizer,generator)"
   ]
  },
  {
   "cell_type": "code",
   "execution_count": 139,
   "metadata": {
    "scrolled": true
   },
   "outputs": [
    {
     "data": {
      "text/plain": [
       "{'capo0': [0.09215369075536728,\n",
       "  0.173165425658226,\n",
       "  0.11947067081928253,\n",
       "  0.0821835845708847,\n",
       "  0.006101572420448065],\n",
       " 'capo1': [-0.09896015375852585,\n",
       "  0.14635644853115082,\n",
       "  -0.05504532903432846,\n",
       "  -0.03203633427619934,\n",
       "  -0.15096163749694824],\n",
       " 'capo2': [-0.1943535953760147,\n",
       "  0.17615582048892975,\n",
       "  -0.07617438584566116,\n",
       "  -0.08615019172430038,\n",
       "  -0.006510838400572538],\n",
       " 'capo3': [0.15353095531463623,\n",
       "  -0.10481426864862442,\n",
       "  -0.10572098940610886,\n",
       "  -0.1168871521949768,\n",
       "  0.038678333163261414],\n",
       " 'capo4': [0.010404076427221298,\n",
       "  -0.07147523015737534,\n",
       "  0.07451014220714569,\n",
       "  -0.05209476500749588,\n",
       "  -0.1144038587808609],\n",
       " 'capo5': [0.16645745933055878,\n",
       "  -0.09417729824781418,\n",
       "  0.016352884471416473,\n",
       "  0.02322077751159668,\n",
       "  -0.01601513847708702],\n",
       " 'harf_down': [-0.046057384461164474,\n",
       "  -0.06557648628950119,\n",
       "  -0.014531945809721947,\n",
       "  -0.11726851016283035,\n",
       "  -0.030125504359602928]}"
      ]
     },
     "execution_count": 139,
     "metadata": {},
     "output_type": "execute_result"
    }
   ],
   "source": [
    "embeddings[\"capo\"]"
   ]
  },
  {
   "cell_type": "code",
   "execution_count": 140,
   "metadata": {},
   "outputs": [
    {
     "data": {
      "text/plain": [
       "{'A': [-0.430338978767395,\n",
       "  0.7953723669052124,\n",
       "  0.050306014716625214,\n",
       "  -0.5240473747253418,\n",
       "  -0.16884534060955048],\n",
       " 'A#': [0.14405293762683868,\n",
       "  -0.5254839062690735,\n",
       "  0.5221236348152161,\n",
       "  0.008805683813989162,\n",
       "  -0.27712875604629517],\n",
       " 'A#7': [-0.09063883870840073,\n",
       "  0.08211228251457214,\n",
       "  -0.030858540907502174,\n",
       "  0.026309693232178688,\n",
       "  0.11880624294281006],\n",
       " 'A#m': [1.04828941822052,\n",
       "  -0.76384437084198,\n",
       "  -0.17666877806186676,\n",
       "  -0.34616467356681824,\n",
       "  0.4756089746952057],\n",
       " 'A#m7': [0.8072599172592163,\n",
       "  -0.677769660949707,\n",
       "  -0.49053168296813965,\n",
       "  -0.3186749219894409,\n",
       "  0.5457634925842285],\n",
       " 'A#maj7': [0.18278250098228455,\n",
       "  -0.17779874801635742,\n",
       "  -0.016454510390758514,\n",
       "  0.041218776255846024,\n",
       "  -0.025120310485363007],\n",
       " 'A7': [-0.9153162837028503,\n",
       "  0.39763638377189636,\n",
       "  -0.6255059838294983,\n",
       "  1.485819935798645,\n",
       "  0.42250892519950867],\n",
       " 'Am': [-0.7466221451759338,\n",
       "  0.3501734435558319,\n",
       "  -0.36429959535598755,\n",
       "  1.4694708585739136,\n",
       "  0.8058778643608093],\n",
       " 'Am7': [0.20525836944580078,\n",
       "  -0.14176000654697418,\n",
       "  0.22423166036605835,\n",
       "  -0.11489824205636978,\n",
       "  -0.04509047791361809],\n",
       " 'Amaj7': [-0.5578070878982544,\n",
       "  -0.17736808955669403,\n",
       "  0.2640118896961212,\n",
       "  -0.35032784938812256,\n",
       "  -0.5298768877983093],\n",
       " 'Asus4': [0.1237885057926178,\n",
       "  -0.22444546222686768,\n",
       "  0.17038509249687195,\n",
       "  -0.016299935057759285,\n",
       "  0.11717631667852402],\n",
       " 'B': [0.6230315566062927,\n",
       "  -0.2197899967432022,\n",
       "  0.33557626605033875,\n",
       "  0.42067742347717285,\n",
       "  0.9874870181083679],\n",
       " 'B7': [0.7711582779884338,\n",
       "  0.043286535888910294,\n",
       "  1.264345407485962,\n",
       "  0.07410503923892975,\n",
       "  0.3885507583618164],\n",
       " 'Bm': [-0.9547140598297119,\n",
       "  0.9829400181770325,\n",
       "  -1.2544944286346436,\n",
       "  0.4367305040359497,\n",
       "  -0.051951516419649124],\n",
       " 'Bm7': [-0.04855497553944588,\n",
       "  -0.4937852919101715,\n",
       "  0.8729931712150574,\n",
       "  -0.4008404016494751,\n",
       "  -0.2714307904243469],\n",
       " 'Bmaj7': [-0.2683875560760498,\n",
       "  0.07162857800722122,\n",
       "  -0.1716991513967514,\n",
       "  0.0841490626335144,\n",
       "  -0.07242751121520996],\n",
       " 'C': [-0.8270407319068909,\n",
       "  1.0608423948287964,\n",
       "  -1.2492103576660156,\n",
       "  0.10486888140439987,\n",
       "  -0.21644069254398346],\n",
       " 'C#': [0.720247745513916,\n",
       "  -0.6377684473991394,\n",
       "  -0.21932372450828552,\n",
       "  -0.3365994393825531,\n",
       "  0.34698593616485596],\n",
       " 'C#7': [-0.616508424282074,\n",
       "  -0.008959892205893993,\n",
       "  0.5024908781051636,\n",
       "  -0.42327994108200073,\n",
       "  -0.4042861759662628],\n",
       " 'C#m': [0.22109079360961914,\n",
       "  0.4764845073223114,\n",
       "  0.9977091550827026,\n",
       "  0.24790139496326447,\n",
       "  0.27431830763816833],\n",
       " 'C#m7': [0.13378509879112244,\n",
       "  0.38592708110809326,\n",
       "  0.7742375731468201,\n",
       "  0.36195334792137146,\n",
       "  0.255549818277359],\n",
       " 'C#maj7': [-0.12049134075641632,\n",
       "  0.18273229897022247,\n",
       "  -0.06022733449935913,\n",
       "  0.0770154595375061,\n",
       "  0.1360296607017517],\n",
       " 'C7': [0.13442952930927277,\n",
       "  -0.7939154505729675,\n",
       "  1.1096856594085693,\n",
       "  -0.2945522367954254,\n",
       "  -0.4971996545791626],\n",
       " 'Cm': [-0.44290605187416077,\n",
       "  -0.04230785742402077,\n",
       "  -0.0073905279859900475,\n",
       "  1.0021692514419556,\n",
       "  -0.016702119261026382],\n",
       " 'Cm7': [-0.16439789533615112,\n",
       "  0.006090441718697548,\n",
       "  0.028454506769776344,\n",
       "  0.0425005704164505,\n",
       "  -0.06447437405586243],\n",
       " 'Cmaj7': [-0.4581232964992523,\n",
       "  0.04065853729844093,\n",
       "  0.24992720782756805,\n",
       "  0.6398688554763794,\n",
       "  0.6427119374275208],\n",
       " 'D': [-0.7227749228477478,\n",
       "  0.5968824625015259,\n",
       "  -0.629783570766449,\n",
       "  -0.01123344711959362,\n",
       "  -0.16794557869434357],\n",
       " 'D#': [-0.08818747848272324,\n",
       "  -0.35181665420532227,\n",
       "  0.5413530468940735,\n",
       "  0.14484108984470367,\n",
       "  -0.2072131186723709],\n",
       " 'D#7': [-0.045537859201431274,\n",
       "  0.002893485128879547,\n",
       "  -0.003634846769273281,\n",
       "  0.13902609050273895,\n",
       "  -0.014263028278946877],\n",
       " 'D#m': [0.8640318512916565,\n",
       "  -0.7178183794021606,\n",
       "  -0.42780226469039917,\n",
       "  -0.4161863327026367,\n",
       "  0.374157190322876],\n",
       " 'D#m7': [-0.34951165318489075,\n",
       "  0.13338309526443481,\n",
       "  -0.16810722649097443,\n",
       "  0.11960570514202118,\n",
       "  0.03821225464344025],\n",
       " 'D#maj7': [0.041472893208265305,\n",
       "  0.05374419316649437,\n",
       "  -0.11421433091163635,\n",
       "  0.08474595099687576,\n",
       "  -0.08182346820831299],\n",
       " 'D7': [0.3596074879169464,\n",
       "  -0.2445255070924759,\n",
       "  0.25204765796661377,\n",
       "  -0.1173374354839325,\n",
       "  0.08060326427221298],\n",
       " 'Dm': [0.2250317633152008,\n",
       "  -0.7469356060028076,\n",
       "  1.2799524068832397,\n",
       "  -0.9415873885154724,\n",
       "  -0.44978994131088257],\n",
       " 'Dm7': [-0.8742749691009521,\n",
       "  0.8947089314460754,\n",
       "  -0.7611379027366638,\n",
       "  1.5028762817382812,\n",
       "  1.2336395978927612],\n",
       " 'Dmaj7': [-0.2736679017543793,\n",
       "  -0.3359122574329376,\n",
       "  0.6410767436027527,\n",
       "  -0.4408312737941742,\n",
       "  -0.3323880732059479],\n",
       " 'Dsus4': [0.3832154870033264,\n",
       "  -0.35788071155548096,\n",
       "  0.3257801830768585,\n",
       "  -0.24112476408481598,\n",
       "  0.06950949132442474],\n",
       " 'E': [0.2934723496437073,\n",
       "  -0.7083955407142639,\n",
       "  -0.3535817861557007,\n",
       "  0.14098432660102844,\n",
       "  0.611225962638855],\n",
       " 'E7': [-0.06658633798360825,\n",
       "  -0.48239898681640625,\n",
       "  0.76130211353302,\n",
       "  -0.6152194142341614,\n",
       "  -0.39468395709991455],\n",
       " 'Em': [-0.4568236172199249,\n",
       "  -0.2440710812807083,\n",
       "  0.3333931863307953,\n",
       "  1.064649224281311,\n",
       "  0.6312445402145386],\n",
       " 'Em7': [-0.22377395629882812,\n",
       "  0.5515968203544617,\n",
       "  -0.46130678057670593,\n",
       "  -1.5472909212112427,\n",
       "  -1.1071914434432983],\n",
       " 'Emaj7': [0.04575073719024658,\n",
       "  0.6107011437416077,\n",
       "  0.7813917994499207,\n",
       "  0.29793593287467957,\n",
       "  0.19356544315814972],\n",
       " 'F': [-0.5187559127807617,\n",
       "  0.42435890436172485,\n",
       "  -0.5041517615318298,\n",
       "  1.111711025238037,\n",
       "  1.111441969871521],\n",
       " 'F#': [0.7504878044128418,\n",
       "  -0.7584372758865356,\n",
       "  -0.27993321418762207,\n",
       "  -0.3772493302822113,\n",
       "  0.40903568267822266],\n",
       " 'F#7': [0.13820964097976685,\n",
       "  -0.16731774806976318,\n",
       "  -0.07588700205087662,\n",
       "  0.04590277373790741,\n",
       "  0.108741894364357],\n",
       " 'F#m': [0.19090498983860016,\n",
       "  -0.21935108304023743,\n",
       "  0.06744135916233063,\n",
       "  -0.04000646248459816,\n",
       "  0.035497091710567474],\n",
       " 'F#m7': [0.23400309681892395,\n",
       "  -0.05439956486225128,\n",
       "  1.2193032503128052,\n",
       "  0.01168059278279543,\n",
       "  0.21638111770153046],\n",
       " 'F#maj7': [-0.10435247421264648,\n",
       "  0.15224719047546387,\n",
       "  -0.13331247866153717,\n",
       "  0.022672947496175766,\n",
       "  0.13206660747528076],\n",
       " 'F7': [-0.07930726557970047,\n",
       "  -0.08080882579088211,\n",
       "  -0.008980480954051018,\n",
       "  0.05061615630984306,\n",
       "  0.043904002755880356],\n",
       " 'Fm': [-0.1613094061613083,\n",
       "  -0.2616928815841675,\n",
       "  0.5264603495597839,\n",
       "  -0.00898039061576128,\n",
       "  -0.3377945125102997],\n",
       " 'Fm7': [0.002333477372303605,\n",
       "  -0.3880918323993683,\n",
       "  0.33695828914642334,\n",
       "  0.21545878052711487,\n",
       "  -0.22595474123954773],\n",
       " 'Fmaj7': [0.3091485798358917,\n",
       "  -0.20783527195453644,\n",
       "  0.06964074820280075,\n",
       "  -0.1463601291179657,\n",
       "  -0.03112836182117462],\n",
       " 'G': [-0.4852515161037445,\n",
       "  0.6515640020370483,\n",
       "  -0.9613456726074219,\n",
       "  0.21441809833049774,\n",
       "  -0.038916636258363724],\n",
       " 'G#': [-0.18407250940799713,\n",
       "  -0.09691806137561798,\n",
       "  0.27912768721580505,\n",
       "  0.24587459862232208,\n",
       "  -0.38932693004608154],\n",
       " 'G#7': [-0.026357894763350487,\n",
       "  -0.05873791128396988,\n",
       "  -0.044962942600250244,\n",
       "  -0.044616132974624634,\n",
       "  0.004170854575932026],\n",
       " 'G#m': [-0.21661236882209778,\n",
       "  0.7936965227127075,\n",
       "  0.9513192176818848,\n",
       "  0.3432440757751465,\n",
       "  0.14847418665885925],\n",
       " 'G#m7': [0.7758191227912903,\n",
       "  -0.3469800055027008,\n",
       "  0.2477111667394638,\n",
       "  0.008776054717600346,\n",
       "  0.49113577604293823],\n",
       " 'G#maj7': [-0.023786205798387527,\n",
       "  0.050888579338788986,\n",
       "  0.06024561822414398,\n",
       "  0.02803124487400055,\n",
       "  -0.00488317059352994],\n",
       " 'G7': [-0.04728100076317787,\n",
       "  0.06700240820646286,\n",
       "  -0.05936415493488312,\n",
       "  0.05197908356785774,\n",
       "  0.06872809678316116],\n",
       " 'Gm': [0.008270383812487125,\n",
       "  -0.10603192448616028,\n",
       "  0.09231708943843842,\n",
       "  -0.0913759395480156,\n",
       "  -0.03823462501168251],\n",
       " 'Gm7': [0.3570707440376282,\n",
       "  -0.5954851508140564,\n",
       "  0.47613751888275146,\n",
       "  -0.04057365655899048,\n",
       "  -0.30871158838272095],\n",
       " 'Gmaj7': [0.09296248853206635,\n",
       "  -0.5975143313407898,\n",
       "  0.8258571028709412,\n",
       "  -0.3209376037120819,\n",
       "  -0.2873989939689636]}"
      ]
     },
     "execution_count": 140,
     "metadata": {},
     "output_type": "execute_result"
    }
   ],
   "source": [
    "embeddings[\"chord\"]"
   ]
  },
  {
   "cell_type": "markdown",
   "metadata": {},
   "source": [
    " # jsonに保存"
   ]
  },
  {
   "cell_type": "code",
   "execution_count": 141,
   "metadata": {},
   "outputs": [],
   "source": [
    "import json\n",
    "from pathlib import Path\n",
    "json_path=Path(f\"../result/embeddings_{bow_threshold}_{embedding_dim}.json\")\n",
    "with json_path.open(\"w\") as f:\n",
    "    json.dump(embeddings,f)"
   ]
  },
  {
   "cell_type": "code",
   "execution_count": null,
   "metadata": {},
   "outputs": [],
   "source": []
  },
  {
   "cell_type": "code",
   "execution_count": null,
   "metadata": {},
   "outputs": [],
   "source": []
  },
  {
   "cell_type": "code",
   "execution_count": null,
   "metadata": {},
   "outputs": [],
   "source": []
  }
 ],
 "metadata": {
  "kernelspec": {
   "display_name": "Python 3",
   "language": "python",
   "name": "python3"
  },
  "language_info": {
   "codemirror_mode": {
    "name": "ipython",
    "version": 3
   },
   "file_extension": ".py",
   "mimetype": "text/x-python",
   "name": "python",
   "nbconvert_exporter": "python",
   "pygments_lexer": "ipython3",
   "version": "3.6.2"
  }
 },
 "nbformat": 4,
 "nbformat_minor": 2
}
