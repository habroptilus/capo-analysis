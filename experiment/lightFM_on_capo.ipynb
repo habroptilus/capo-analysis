{
 "cells": [
  {
   "cell_type": "markdown",
   "metadata": {},
   "source": [
    "# capoデータにlightFMを適用してみる"
   ]
  },
  {
   "cell_type": "code",
   "execution_count": 51,
   "metadata": {},
   "outputs": [],
   "source": [
    "from pathlib import Path\n",
    "import sys,os\n",
    "sys.path.append(os.pardir)\n",
    "from tools.preprocess.common import CommonPreprocessor\n",
    "from tools.preprocess.interaction_matrix_generator import InteractionMatrixGenerator\n",
    "from tools.preprocess.bow_vectorizer import BOWVectorizer\n",
    "from scipy.sparse import csr_matrix"
   ]
  },
  {
   "cell_type": "markdown",
   "metadata": {},
   "source": [
    "## data部分"
   ]
  },
  {
   "cell_type": "code",
   "execution_count": 52,
   "metadata": {},
   "outputs": [],
   "source": [
    "orignal_path=Path(\"../data/original.txt\")\n",
    "bow_threshold=10000"
   ]
  },
  {
   "cell_type": "code",
   "execution_count": 53,
   "metadata": {},
   "outputs": [],
   "source": [
    "cp=CommonPreprocessor(rare_capo_list=['-6', '-7'],test_rate=0.2,split_seed=0)\n",
    "songs=cp.get_song_list(orignal_path,shuffle=True)\n",
    "songs=cp.remove_rare_capo_song(songs)\n",
    "songs_train, songs_test=cp.split_dataset(songs,shuffle=False)"
   ]
  },
  {
   "cell_type": "code",
   "execution_count": 54,
   "metadata": {},
   "outputs": [],
   "source": [
    "generator=InteractionMatrixGenerator(test_rate=0.1)\n",
    "X_train,X_test=generator.generate_matrices(songs)\n",
    "X_train=csr_matrix(X_train)\n",
    "X_test=csr_matrix(X_test)"
   ]
  },
  {
   "cell_type": "code",
   "execution_count": 55,
   "metadata": {},
   "outputs": [],
   "source": [
    "chord_stat_train=cp.retrieve_chord_stat(songs_train)\n",
    "capo_stat_train=cp.retrieve_capo_stat(songs_train)"
   ]
  },
  {
   "cell_type": "code",
   "execution_count": 56,
   "metadata": {},
   "outputs": [],
   "source": [
    "vectorizer=BOWVectorizer(chord_stat=chord_stat_train,threshold=bow_threshold)"
   ]
  },
  {
   "cell_type": "code",
   "execution_count": 57,
   "metadata": {},
   "outputs": [
    {
     "name": "stdout",
     "output_type": "stream",
     "text": [
      "(39995, 60)\n"
     ]
    }
   ],
   "source": [
    "songs_features=vectorizer.get_chord_features(songs)\n",
    "print(songs_features.shape)\n",
    "songs_features=csr_matrix(songs_features)"
   ]
  },
  {
   "cell_type": "markdown",
   "metadata": {},
   "source": [
    "## model部分"
   ]
  },
  {
   "cell_type": "code",
   "execution_count": 58,
   "metadata": {},
   "outputs": [],
   "source": [
    "from lightfm import LightFM\n",
    "from lightfm.datasets import fetch_movielens\n",
    "from lightfm.evaluation import precision_at_k\n",
    "from lightfm.evaluation import auc_score"
   ]
  },
  {
   "cell_type": "code",
   "execution_count": 59,
   "metadata": {},
   "outputs": [],
   "source": [
    "import numpy as np\n",
    "def get_prediction(model,n_songs):\n",
    "    prediction=[]\n",
    "    for i in range(n_songs):\n",
    "        prediction.append(model.predict(user_ids=i,item_ids=[0,1,2,3,4,5,6]))\n",
    "    return np.array(prediction)"
   ]
  },
  {
   "cell_type": "code",
   "execution_count": 90,
   "metadata": {},
   "outputs": [],
   "source": [
    "embedding_dim=5\n",
    "lr=0.01\n",
    "epoch=100\n",
    "k=2"
   ]
  },
  {
   "cell_type": "code",
   "execution_count": 91,
   "metadata": {},
   "outputs": [
    {
     "name": "stdout",
     "output_type": "stream",
     "text": [
      "Precision`@2: train 0.50, test 0.27.\n",
      "AUC: train 0.98, test 0.71.\n"
     ]
    }
   ],
   "source": [
    "warp_model = LightFM(no_components=embedding_dim,learning_rate=lr, loss=\"warp\")\n",
    "warp_model.fit(X_train,item_features=songs_features, epochs=epoch)\n",
    "\n",
    "train_precision = precision_at_k(warp_model, X_train,item_features=songs_features, k=k).mean()\n",
    "test_precision = precision_at_k(warp_model, X_test,item_features=songs_features, k=k).mean()\n",
    "\n",
    "train_auc = auc_score(warp_model, X_train, item_features=songs_features).mean()\n",
    "test_auc = auc_score(warp_model, X_test, item_features=songs_features).mean()\n",
    "\n",
    "print(f\"Precision`@{k}: train {train_precision:.2f}, test {test_precision:.2f}.\")\n",
    "print(f\"AUC: train {train_auc:.2f}, test {test_auc:.2f}.\")"
   ]
  },
  {
   "cell_type": "code",
   "execution_count": 92,
   "metadata": {},
   "outputs": [
    {
     "name": "stdout",
     "output_type": "stream",
     "text": [
      "Precision`@2: train 0.06, test 0.06.\n",
      "AUC: train 0.30, test 0.29.\n"
     ]
    }
   ],
   "source": [
    "from tools.model.baseline import BaselineModel\n",
    "baseline_model=BaselineModel(generator,capo_stat_train)\n",
    "\n",
    "train_precision = precision_at_k(baseline_model, X_train,item_features=songs_features, k=k).mean()\n",
    "test_precision = precision_at_k(baseline_model, X_test,item_features=songs_features, k=k).mean()\n",
    "\n",
    "train_auc = auc_score(baseline_model, X_train, item_features=songs_features).mean()\n",
    "test_auc = auc_score(baseline_model, X_test, item_features=songs_features).mean()\n",
    "\n",
    "print(f\"Precision`@{k}: train {train_precision:.2f}, test {test_precision:.2f}.\")\n",
    "print(f\"AUC: train {train_auc:.2f}, test {test_auc:.2f}.\")"
   ]
  },
  {
   "cell_type": "code",
   "execution_count": 93,
   "metadata": {},
   "outputs": [],
   "source": [
    "def get_chord_embeddings(model,vectorizer):\n",
    "    chord_embeddings={}\n",
    "    for chord, idx in vectorizer.chord_encoder.items():\n",
    "        chord_embeddings[chord]=model.item_embeddings[idx].tolist()\n",
    "    return chord_embeddings\n",
    "\n",
    "def get_capo_embeddings(model,generator):\n",
    "    capo_embeddings={}\n",
    "    capo_names=[hoge.split(\"=\")[-1] for hoge in generator.capo_encoder.get_feature_names()]\n",
    "    for i, capo  in enumerate(capo_names):\n",
    "        capo_embeddings[capo]=model.user_embeddings[i].tolist()\n",
    "    return capo_embeddings\n",
    "\n",
    "def get_embeddings(model,vectorzier,generator):\n",
    "    return {\"capo\":get_capo_embeddings(model,generator),\n",
    "    \"chord\": get_chord_embeddings(model,vectorizer)}"
   ]
  },
  {
   "cell_type": "code",
   "execution_count": 94,
   "metadata": {},
   "outputs": [],
   "source": [
    "embeddings=get_embeddings(warp_model,vectorizer,generator)"
   ]
  },
  {
   "cell_type": "code",
   "execution_count": 95,
   "metadata": {
    "scrolled": true
   },
   "outputs": [
    {
     "data": {
      "text/plain": [
       "{'-1': [-0.07792773097753525,\n",
       "  -0.060524653643369675,\n",
       "  0.07726976275444031,\n",
       "  -0.02385975979268551,\n",
       "  0.04562262445688248],\n",
       " '-2': [-0.01262444257736206,\n",
       "  0.02286733314394951,\n",
       "  0.05109073221683502,\n",
       "  0.09203898161649704,\n",
       "  -0.1305168867111206],\n",
       " '-3': [-0.1581263691186905,\n",
       "  0.06912362575531006,\n",
       "  0.051874157041311264,\n",
       "  -0.05105556175112724,\n",
       "  -0.04609163850545883],\n",
       " '-4': [-0.011947999708354473,\n",
       "  0.15394474565982819,\n",
       "  0.036029472947120667,\n",
       "  0.04824259132146835,\n",
       "  -0.10671638697385788],\n",
       " '-5': [0.02861279994249344,\n",
       "  -0.04811745136976242,\n",
       "  -0.11284653842449188,\n",
       "  -0.010652131401002407,\n",
       "  -0.1007041409611702],\n",
       " '0': [0.01945549063384533,\n",
       "  -0.07956021279096603,\n",
       "  0.08099450170993805,\n",
       "  0.07825532555580139,\n",
       "  -0.10778560489416122],\n",
       " '1': [-0.0443434901535511,\n",
       "  0.10406459867954254,\n",
       "  -0.1490936130285263,\n",
       "  -0.12279641628265381,\n",
       "  0.14582769572734833]}"
      ]
     },
     "execution_count": 95,
     "metadata": {},
     "output_type": "execute_result"
    }
   ],
   "source": [
    "embeddings[\"capo\"]"
   ]
  },
  {
   "cell_type": "code",
   "execution_count": 96,
   "metadata": {},
   "outputs": [
    {
     "data": {
      "text/plain": [
       "{'A': [-0.7326207756996155,\n",
       "  -0.0027221699710935354,\n",
       "  0.8521740436553955,\n",
       "  1.2636363506317139,\n",
       "  0.8719007968902588],\n",
       " 'A#': [0.3199099898338318,\n",
       "  0.816183865070343,\n",
       "  -1.1748534440994263,\n",
       "  -0.64027339220047,\n",
       "  0.8154101967811584],\n",
       " 'A#7': [0.18209514021873474,\n",
       "  -0.21348799765110016,\n",
       "  -0.04985456541180611,\n",
       "  0.06816589832305908,\n",
       "  -0.26074424386024475],\n",
       " 'A#m': [0.10115273296833038,\n",
       "  -0.27527058124542236,\n",
       "  0.08862750977277756,\n",
       "  0.11396296322345734,\n",
       "  -0.16653187572956085],\n",
       " 'A#m7': [-0.720095157623291,\n",
       "  0.45833858847618103,\n",
       "  0.15096677839756012,\n",
       "  0.09202687442302704,\n",
       "  0.5935817360877991],\n",
       " 'A#maj7': [-0.04906754940748215,\n",
       "  -0.0015734357293695211,\n",
       "  -0.05890190601348877,\n",
       "  0.03877867013216019,\n",
       "  0.11225204169750214],\n",
       " 'A7': [-0.13762083649635315,\n",
       "  0.0920998826622963,\n",
       "  -0.19665668904781342,\n",
       "  0.013805177994072437,\n",
       "  0.06146305426955223],\n",
       " 'Am': [0.4043927788734436,\n",
       "  0.8669922947883606,\n",
       "  0.8872343897819519,\n",
       "  -1.4591082334518433,\n",
       "  -1.0541073083877563],\n",
       " 'Am7': [0.38820791244506836,\n",
       "  -0.6351301670074463,\n",
       "  -1.8276914358139038,\n",
       "  0.5576428174972534,\n",
       "  -0.30679360032081604],\n",
       " 'Amaj7': [-0.011530289426445961,\n",
       "  -0.0912160575389862,\n",
       "  0.020189108327031136,\n",
       "  0.06510826200246811,\n",
       "  -0.24951916933059692],\n",
       " 'B': [-0.18528157472610474,\n",
       "  -1.3719756603240967,\n",
       "  0.5951914191246033,\n",
       "  1.7208387851715088,\n",
       "  0.858518660068512],\n",
       " 'B7': [0.590925395488739,\n",
       "  1.1147969961166382,\n",
       "  -0.9711760878562927,\n",
       "  -0.8396225571632385,\n",
       "  1.015501618385315],\n",
       " 'Bm': [-0.4480680823326111,\n",
       "  -1.047473430633545,\n",
       "  -0.7115663290023804,\n",
       "  1.3004213571548462,\n",
       "  0.8265218138694763],\n",
       " 'Bm7': [-0.10811424255371094,\n",
       "  0.03113948367536068,\n",
       "  0.07981818169355392,\n",
       "  0.09261173754930496,\n",
       "  -0.06760744005441666],\n",
       " 'Bmaj7': [0.12428586184978485,\n",
       "  -0.22869470715522766,\n",
       "  0.13452352583408356,\n",
       "  0.07025805860757828,\n",
       "  -0.15159200131893158],\n",
       " 'C': [0.4055735170841217,\n",
       "  -0.44356289505958557,\n",
       "  0.348337858915329,\n",
       "  0.22145839035511017,\n",
       "  -0.26287180185317993],\n",
       " 'C#': [-0.8030223250389099,\n",
       "  0.9774855971336365,\n",
       "  -0.6225784420967102,\n",
       "  -0.5349773168563843,\n",
       "  0.7461169958114624],\n",
       " 'C#7': [-0.9534062743186951,\n",
       "  0.6277101039886475,\n",
       "  0.26033779978752136,\n",
       "  0.15461891889572144,\n",
       "  0.6767066121101379],\n",
       " 'C#m': [0.26261597871780396,\n",
       "  0.8476934432983398,\n",
       "  -0.997130274772644,\n",
       "  -0.7529385685920715,\n",
       "  0.5584379434585571],\n",
       " 'C#m7': [0.4760152995586395,\n",
       "  0.6787989139556885,\n",
       "  -0.9816036820411682,\n",
       "  -0.7806984782218933,\n",
       "  0.5963982939720154],\n",
       " 'C#maj7': [-0.6742492318153381,\n",
       "  0.43380245566368103,\n",
       "  0.13176484405994415,\n",
       "  0.09349768608808517,\n",
       "  0.5573733448982239],\n",
       " 'C7': [-0.8759896755218506,\n",
       "  0.8070331811904907,\n",
       "  -0.1045866534113884,\n",
       "  0.021637696772813797,\n",
       "  0.9506717324256897],\n",
       " 'Cm': [-0.1681789606809616,\n",
       "  0.3059217035770416,\n",
       "  -0.25333914160728455,\n",
       "  -0.2363148182630539,\n",
       "  0.16649529337882996],\n",
       " 'Cm7': [-0.7823960781097412,\n",
       "  0.47168388962745667,\n",
       "  -0.031210072338581085,\n",
       "  0.10891129821538925,\n",
       "  0.553019106388092],\n",
       " 'Cmaj7': [-0.09327612072229385,\n",
       "  0.2853509187698364,\n",
       "  -0.14216117560863495,\n",
       "  -0.10961731523275375,\n",
       "  0.22233901917934418],\n",
       " 'D': [0.8860977292060852,\n",
       "  -0.7002915143966675,\n",
       "  -0.48600542545318604,\n",
       "  -0.6639878749847412,\n",
       "  -0.4677703380584717],\n",
       " 'D#': [-0.6822919249534607,\n",
       "  0.7047138810157776,\n",
       "  -0.1634933203458786,\n",
       "  -0.15518958866596222,\n",
       "  0.6202527284622192],\n",
       " 'D#7': [0.21264635026454926,\n",
       "  -0.2867157459259033,\n",
       "  0.1176091879606247,\n",
       "  0.0458841435611248,\n",
       "  -0.314334899187088],\n",
       " 'D#m': [0.06050599738955498,\n",
       "  -0.026560984551906586,\n",
       "  0.12924954295158386,\n",
       "  0.07377754151821136,\n",
       "  -0.013136832043528557],\n",
       " 'D#m7': [-0.8426603078842163,\n",
       "  0.6064542531967163,\n",
       "  0.27151110768318176,\n",
       "  0.02391127496957779,\n",
       "  0.6110623478889465],\n",
       " 'D#maj7': [-0.0028369855135679245,\n",
       "  0.06350941210985184,\n",
       "  -0.07605351507663727,\n",
       "  -0.0058470796793699265,\n",
       "  0.0003814535157289356],\n",
       " 'D7': [-0.041669365018606186,\n",
       "  0.09986641258001328,\n",
       "  -0.05957675352692604,\n",
       "  -0.09197185933589935,\n",
       "  0.14437691867351532],\n",
       " 'Dm': [-1.1022789478302002,\n",
       "  1.1808485984802246,\n",
       "  0.40365689992904663,\n",
       "  0.39144814014434814,\n",
       "  0.49990442395210266],\n",
       " 'Dm7': [0.5167822241783142,\n",
       "  0.8426038026809692,\n",
       "  -1.0314412117004395,\n",
       "  -0.6179884672164917,\n",
       "  0.946502685546875],\n",
       " 'Dmaj7': [-0.34033215045928955,\n",
       "  0.6574110984802246,\n",
       "  -0.6334784030914307,\n",
       "  -0.6781359314918518,\n",
       "  0.39775681495666504],\n",
       " 'E': [-0.41724467277526855,\n",
       "  1.3015334606170654,\n",
       "  -0.9960897564888,\n",
       "  -0.6596981883049011,\n",
       "  1.2322783470153809],\n",
       " 'E7': [-0.058756712824106216,\n",
       "  0.2024606466293335,\n",
       "  -0.18992182612419128,\n",
       "  -0.10232051461935043,\n",
       "  0.19370321929454803],\n",
       " 'Em': [-0.9240041375160217,\n",
       "  -0.23815320432186127,\n",
       "  -0.03016757033765316,\n",
       "  1.7355846166610718,\n",
       "  0.8787586688995361],\n",
       " 'Em7': [0.41462212800979614,\n",
       "  -0.5117977261543274,\n",
       "  -1.8421083688735962,\n",
       "  0.4674971401691437,\n",
       "  -0.2973621189594269],\n",
       " 'Emaj7': [-0.15799954533576965,\n",
       "  0.46586304903030396,\n",
       "  -0.5415623188018799,\n",
       "  -0.5639691948890686,\n",
       "  0.14204256236553192],\n",
       " 'F': [0.92818284034729,\n",
       "  0.18209485709667206,\n",
       "  -0.26552605628967285,\n",
       "  -0.9800336956977844,\n",
       "  -1.0086371898651123],\n",
       " 'F#': [-0.8652094602584839,\n",
       "  1.0927690267562866,\n",
       "  -0.5467658638954163,\n",
       "  -0.628368616104126,\n",
       "  0.9278518557548523],\n",
       " 'F#7': [0.023435719311237335,\n",
       "  -0.0063717179000377655,\n",
       "  0.011953067034482956,\n",
       "  -0.08656758815050125,\n",
       "  -0.04356302320957184],\n",
       " 'F#m': [0.17117038369178772,\n",
       "  1.1033234596252441,\n",
       "  -1.1835535764694214,\n",
       "  -1.0465421676635742,\n",
       "  0.8428268432617188],\n",
       " 'F#m7': [0.16060464084148407,\n",
       "  0.9653597474098206,\n",
       "  -0.9381558895111084,\n",
       "  -0.9775404930114746,\n",
       "  0.8502293229103088],\n",
       " 'F#maj7': [0.11023326963186264,\n",
       "  -0.3390764594078064,\n",
       "  -0.008809779770672321,\n",
       "  0.06547708064317703,\n",
       "  -0.124421626329422],\n",
       " 'F7': [0.14667898416519165,\n",
       "  -0.19025468826293945,\n",
       "  0.024642515927553177,\n",
       "  0.03140537440776825,\n",
       "  -0.11088812351226807],\n",
       " 'Fm': [-0.8993750214576721,\n",
       "  0.7508659958839417,\n",
       "  -0.2275223582983017,\n",
       "  -0.07381698489189148,\n",
       "  0.8045160174369812],\n",
       " 'Fm7': [-0.5849196314811707,\n",
       "  0.35208868980407715,\n",
       "  0.06631540507078171,\n",
       "  0.1843145191669464,\n",
       "  0.43381232023239136],\n",
       " 'Fmaj7': [-0.1556491255760193,\n",
       "  0.07806061953306198,\n",
       "  -0.0855833888053894,\n",
       "  0.12546248733997345,\n",
       "  0.04742123931646347],\n",
       " 'G': [0.11098378896713257,\n",
       "  -0.5909028053283691,\n",
       "  0.483925461769104,\n",
       "  0.4572806656360626,\n",
       "  -0.6241684556007385],\n",
       " 'G#': [0.10409782826900482,\n",
       "  0.8125672340393066,\n",
       "  -0.7870625257492065,\n",
       "  -0.45471808314323425,\n",
       "  0.9011106491088867],\n",
       " 'G#7': [-0.7888777852058411,\n",
       "  0.5949043035507202,\n",
       "  0.09339146316051483,\n",
       "  0.20119209587574005,\n",
       "  0.6317188739776611],\n",
       " 'G#m': [0.7589219212532043,\n",
       "  0.4019521474838257,\n",
       "  -0.8005415201187134,\n",
       "  -0.6290121078491211,\n",
       "  0.4191526472568512],\n",
       " 'G#m7': [0.05877060443162918,\n",
       "  -0.2406591922044754,\n",
       "  0.18805544078350067,\n",
       "  0.2597922384738922,\n",
       "  -0.22661210596561432],\n",
       " 'G#maj7': [-0.9829479455947876,\n",
       "  0.7634782195091248,\n",
       "  0.0678318664431572,\n",
       "  -0.08766014128923416,\n",
       "  0.7942126393318176],\n",
       " 'G7': [-0.2194109708070755,\n",
       "  0.2728518843650818,\n",
       "  -0.23026257753372192,\n",
       "  -0.048584096133708954,\n",
       "  0.05716882646083832],\n",
       " 'Gm': [-0.3599054217338562,\n",
       "  0.6170699596405029,\n",
       "  1.149109959602356,\n",
       "  0.6837753057479858,\n",
       "  -0.28404170274734497],\n",
       " 'Gm7': [0.8103912472724915,\n",
       "  0.7280803918838501,\n",
       "  -0.9556728601455688,\n",
       "  -0.7011197209358215,\n",
       "  0.7539777159690857],\n",
       " 'Gmaj7': [-0.06589044630527496,\n",
       "  0.11070559918880463,\n",
       "  -0.07915841042995453,\n",
       "  0.02236778847873211,\n",
       "  0.09711632132530212]}"
      ]
     },
     "execution_count": 96,
     "metadata": {},
     "output_type": "execute_result"
    }
   ],
   "source": [
    "embeddings[\"chord\"]"
   ]
  },
  {
   "cell_type": "markdown",
   "metadata": {},
   "source": [
    " # jsonに保存"
   ]
  },
  {
   "cell_type": "code",
   "execution_count": 97,
   "metadata": {},
   "outputs": [],
   "source": [
    "import json\n",
    "from pathlib import Path\n",
    "json_path=Path(f\"../result/embeddings_{bow_threshold}_{embedding_dim}.json\")\n",
    "with json_path.open(\"w\") as f:\n",
    "    json.dump(embeddings,f)"
   ]
  },
  {
   "cell_type": "code",
   "execution_count": null,
   "metadata": {},
   "outputs": [],
   "source": []
  },
  {
   "cell_type": "code",
   "execution_count": 20,
   "metadata": {},
   "outputs": [],
   "source": []
  }
 ],
 "metadata": {
  "kernelspec": {
   "display_name": "Python 3",
   "language": "python",
   "name": "python3"
  },
  "language_info": {
   "codemirror_mode": {
    "name": "ipython",
    "version": 3
   },
   "file_extension": ".py",
   "mimetype": "text/x-python",
   "name": "python",
   "nbconvert_exporter": "python",
   "pygments_lexer": "ipython3",
   "version": "3.6.7"
  }
 },
 "nbformat": 4,
 "nbformat_minor": 2
}
